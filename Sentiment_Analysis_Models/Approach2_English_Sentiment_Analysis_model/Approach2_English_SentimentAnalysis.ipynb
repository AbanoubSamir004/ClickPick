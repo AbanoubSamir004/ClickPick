{
  "cells": [
    {
      "cell_type": "code",
      "execution_count": 1,
      "id": "756f5e90",
      "metadata": {
        "colab": {
          "base_uri": "https://localhost:8080/"
        },
        "id": "756f5e90",
        "outputId": "247a134d-dabd-4337-94a0-789b59a7b47d"
      },
      "outputs": [
        {
          "name": "stderr",
          "output_type": "stream",
          "text": [
            "[nltk_data] Downloading package omw-1.4 to /root/nltk_data...\n",
            "[nltk_data] Downloading package punkt to /root/nltk_data...\n",
            "[nltk_data]   Unzipping tokenizers/punkt.zip.\n",
            "[nltk_data] Downloading package stopwords to /root/nltk_data...\n",
            "[nltk_data]   Unzipping corpora/stopwords.zip.\n",
            "[nltk_data] Downloading package averaged_perceptron_tagger to\n",
            "[nltk_data]     /root/nltk_data...\n",
            "[nltk_data]   Unzipping taggers/averaged_perceptron_tagger.zip.\n",
            "[nltk_data] Downloading package wordnet to /root/nltk_data...\n"
          ]
        },
        {
          "name": "stdout",
          "output_type": "stream",
          "text": [
            "Collecting pyspellchecker\n",
            "  Downloading pyspellchecker-0.7.2-py3-none-any.whl (3.4 MB)\n",
            "\u001b[2K     \u001b[90m━━━━━━━━━━━━━━━━━━━━━━━━━━━━━━━━━━━━━━━━\u001b[0m \u001b[32m3.4/3.4 MB\u001b[0m \u001b[31m36.8 MB/s\u001b[0m eta \u001b[36m0:00:00\u001b[0m\n",
            "\u001b[?25hInstalling collected packages: pyspellchecker\n",
            "Successfully installed pyspellchecker-0.7.2\n",
            "Collecting langdetect\n",
            "  Downloading langdetect-1.0.9.tar.gz (981 kB)\n",
            "\u001b[2K     \u001b[90m━━━━━━━━━━━━━━━━━━━━━━━━━━━━━━━━━━━━━━\u001b[0m \u001b[32m981.5/981.5 kB\u001b[0m \u001b[31m14.5 MB/s\u001b[0m eta \u001b[36m0:00:00\u001b[0m\n",
            "\u001b[?25h  Preparing metadata (setup.py) ... \u001b[?25l\u001b[?25hdone\n",
            "Requirement already satisfied: six in /usr/local/lib/python3.10/dist-packages (from langdetect) (1.16.0)\n",
            "Building wheels for collected packages: langdetect\n",
            "  Building wheel for langdetect (setup.py) ... \u001b[?25l\u001b[?25hdone\n",
            "  Created wheel for langdetect: filename=langdetect-1.0.9-py3-none-any.whl size=993224 sha256=93f91088c84b841c268ece96335637302a90ef029fd025d8e3e7dd2fceea4024\n",
            "  Stored in directory: /root/.cache/pip/wheels/95/03/7d/59ea870c70ce4e5a370638b5462a7711ab78fba2f655d05106\n",
            "Successfully built langdetect\n",
            "Installing collected packages: langdetect\n",
            "Successfully installed langdetect-1.0.9\n"
          ]
        }
      ],
      "source": [
        "import pandas as pd\n",
        "import numpy as np\n",
        "import string\n",
        "# import tensorflow as tf\n",
        "import matplotlib.pyplot as plt\n",
        "import seaborn as sns\n",
        "import nltk\n",
        "from nltk.corpus import wordnet\n",
        "from nltk.tokenize import word_tokenize\n",
        "from nltk.stem import PorterStemmer\n",
        "from nltk.corpus import stopwords\n",
        "from nltk.util import ngrams\n",
        "from nltk.stem import SnowballStemmer\n",
        "from nltk.stem import WordNetLemmatizer\n",
        "nltk.download('omw-1.4')\n",
        "nltk.download('punkt')\n",
        "nltk.download('stopwords')\n",
        "nltk.download('averaged_perceptron_tagger')\n",
        "nltk.download('wordnet')\n",
        "from sklearn.feature_extraction.text import TfidfVectorizer\n",
        "!pip install pyspellchecker\n",
        "!pip install langdetect\n",
        "# from spellchecker import SpellChecker\n",
        "# from langdetect import detect\n",
        "import re\n",
        "from sklearn.metrics import accuracy_score\n",
        "# !pip install pyenchant\n",
        "from tensorflow import keras\n",
        "from tensorflow.keras.layers import Dense, Dropout, Embedding, LSTM, GRU\n",
        "from tensorflow.keras.models import Sequential\n",
        "from tensorflow.keras.preprocessing.sequence import pad_sequences\n",
        "from tensorflow.keras.preprocessing.text import Tokenizer\n",
        "from sklearn.model_selection import train_test_split\n",
        "from tensorflow.keras.layers import SimpleRNN,Bidirectional"
      ]
    },
    {
      "cell_type": "code",
      "execution_count": 2,
      "id": "5c13f2cd",
      "metadata": {
        "id": "5c13f2cd"
      },
      "outputs": [],
      "source": [
        "from keras.layers import Input, Dense, Dropout, Embedding, Conv1D, MaxPooling1D, LSTM, concatenate,Flatten,GlobalMaxPool1D\n",
        "from keras.models import Sequential\n",
        "from keras.preprocessing.text import Tokenizer\n",
        "from sklearn.metrics import accuracy_score\n",
        "from sklearn.preprocessing import StandardScaler\n",
        "from keras.layers import Bidirectional\n",
        "from sklearn.metrics import confusion_matrix"
      ]
    },
    {
      "attachments": {},
      "cell_type": "markdown",
      "id": "572684ef",
      "metadata": {
        "id": "572684ef"
      },
      "source": [
        "# Preprocessing"
      ]
    },
    {
      "cell_type": "code",
      "execution_count": 21,
      "id": "80f9670e",
      "metadata": {
        "id": "80f9670e"
      },
      "outputs": [],
      "source": [
        "class TextPreprocessor:\n",
        "  def __init__(self):\n",
        "    self.slang_map = {\n",
        "    \"u\": \"you\",\n",
        "    \"luv\": \"love\",\n",
        "    \"ur\": \"your\",\n",
        "    \"r\": \"are\",\n",
        "    \"ya\": \"you\",\n",
        "    \"wanna\": \"want to\",\n",
        "    \"gonna\": \"going to\",\n",
        "    \"wat\": \"what\",\n",
        "    \"wtf\": \"what the f*ck\",\n",
        "    \"omg\": \"oh my god\",\n",
        "    \"btw\": \"by the way\",}\n",
        "    self.emoji_dict = {\"😊\": \"positive\", \"😢\": \"negative\", \"😠\": \"negative\", \"😡\": \"negative\", \"😃\": \"positive\",\n",
        "                  \"❤️\": \"positive\", \"😍\": \"positive\", \"😎\": \"positive\", \"😔\": \"negative\", \"😒\": \"negative\",\n",
        "                  \"😞\": \"negative\", \"😖\": \"negative\", \"😘\": \"positive\", \"😜\": \"positive\", \"😝\": \"positive\",\n",
        "                  \"😤\": \"negative\", \"😮\": \"neutral\", \"😯\": \"neutral\", \"😪\": \"negative\", \"😫\": \"negative\",\n",
        "                  \"😴\": \"neutral\", \"😌\": \"neutral\", \"😛\": \"positive\", \"😚\": \"positive\", \"😙\": \"positive\",\n",
        "                  \"😗\": \"positive\", \"😘\": \"positive\", \"😉\": \"positive\", \"😊\": \"positive\"}\n",
        "\n",
        "\n",
        "\n",
        "\n",
        "  def remove_non_english_words(self,text_list):\n",
        "    english_text = []\n",
        "    for text in text_list:\n",
        "        text = re.sub(r'[^a-zA-Z\\s]+', '', text)\n",
        "\n",
        "        english_text.append(text)\n",
        "    return english_text\n",
        "\n",
        "\n",
        "\n",
        "  def clean_tokens(self,tokens):\n",
        "        # remove URLs\n",
        "        tokens = [re.sub(r'http\\S+', '', token) for token in tokens]\n",
        "\n",
        "        # remove numbers\n",
        "        tokens = [re.sub(r'\\d+', '', token) for token in tokens]\n",
        "\n",
        "        # remove special characters\n",
        "        tokens = [re.sub(r'[^\\w\\s]', '', token) for token in tokens]\n",
        "\n",
        "        return tokens\n",
        "\n",
        "  def handle_slang_words(self,text):\n",
        "        for slang, standard in self.slang_map.items():\n",
        "            if text == slang:\n",
        "              text = text.replace(slang, standard)\n",
        "        return text\n",
        "\n",
        "  def unique_tokens(self,tokens):\n",
        "        return list(set(tokens))\n",
        "\n",
        "  def handle_negations(self,tokens):\n",
        "        return [\"not\" + token if token in ['not', 'never', 'no', 'nothing', 'neither', 'nor'] else token for token in tokens]\n",
        "\n",
        "  def create_ngrams(self,tokens, n):\n",
        "        if not tokens:\n",
        "            return []\n",
        "        return [\" \".join(ngram) for ngram in list(nltk.ngrams(tokens, n))]\n",
        "\n",
        "  def remove_special_characters(self,tokens):\n",
        "      return [re.sub(r'[^\\w\\s]', '', token) for token in tokens]\n",
        "\n",
        "  def remove_excessive_whitespaces(self,tokens):\n",
        "      return [token.strip() for token in tokens if token.strip()]\n",
        "\n",
        "  def handle_emojis(self,text):\n",
        "      cleaned_text = []\n",
        "      for word in text:\n",
        "          if word in self.emoji_dict:\n",
        "              sentiment = self.emoji_dict[word]\n",
        "              cleaned_text.append(sentiment)\n",
        "          else:\n",
        "              cleaned_text.append(word)\n",
        "      return cleaned_text\n",
        "\n",
        "\n",
        "  def preprocessing(self,text):\n",
        "      #tonkenize\n",
        "      tokens = nltk.word_tokenize(text)\n",
        "\n",
        "      # Removing non-English words\n",
        "      tokens=self.remove_non_english_words(tokens)\n",
        "\n",
        "      #stop words\n",
        "      stop_words = set(nltk.corpus.stopwords.words('english'))\n",
        "      negation_words = {\n",
        "        'no', 'not', 'never', 'neither', 'nor', 'none', 'nobody', 'nothing',\n",
        "        'nowhere', 'hardly', 'barely', 'scarcely', 'lack', 'lacks', 'lacked',\n",
        "        'lacking', 'without', 'against', 'except', 'instead', 'cannot', 'can\\'t',\n",
        "        'isn\\'t', 'doesn\\'t', 'these'\n",
        "        }\n",
        "      tokens = [token for token in tokens if token.lower() not in stop_words or token.lower() in negation_words]\n",
        "\n",
        "      # handling emojis\n",
        "      tokens = self.handle_emojis(tokens)\n",
        "\n",
        "      # Removing punctuation\n",
        "      tokens = [token for token in tokens if token not in string.punctuation]\n",
        "\n",
        "      tokens = self.clean_tokens(tokens)\n",
        "\n",
        "      # handle negations\n",
        "      #tokens=self.handle_negations(tokens)\n",
        "\n",
        "      #misspelled words\n",
        "      #tokens=self.correct_misspelled_words(tokens)\n",
        "\n",
        "      #slang words handling\n",
        "      tokens=self.handle_slang_words(tokens)\n",
        "\n",
        "      # Removing special characters\n",
        "      tokens= self.remove_special_characters(tokens)\n",
        "\n",
        "      #lemmatization\n",
        "      lemmatizer = WordNetLemmatizer()\n",
        "      tokens = [lemmatizer.lemmatize(token) for token in tokens]\n",
        "\n",
        "      # remove duplicates\n",
        "      tokens = self.unique_tokens(tokens)\n",
        "\n",
        "      return tokens\n"
      ]
    },
    {
      "attachments": {},
      "cell_type": "markdown",
      "id": "9b66058d",
      "metadata": {
        "id": "9b66058d"
      },
      "source": [
        "## some postprocessing"
      ]
    },
    {
      "cell_type": "code",
      "execution_count": null,
      "id": "dae9fb36",
      "metadata": {
        "id": "dae9fb36"
      },
      "outputs": [],
      "source": [
        "# def remove_rows(df, column, chars):\n",
        "#     \"\"\"\n",
        "#     Remove rows from the input DataFrame that contain any of the input characters in the input column.\n",
        "\n",
        "#     :param df: the input DataFrame to modify\n",
        "#     :param column: the column to search for the input characters\n",
        "#     :param chars: a list of characters that should trigger the removal of a row\n",
        "#     \"\"\"\n",
        "#     # Loop over the rows of the DataFrame\n",
        "#     for i, row in df.iterrows():\n",
        "#         # Check if any of the characters in the input list are present in the current row of the input column\n",
        "#         if any(char in row[column] for char in chars):\n",
        "#             # If so, remove the current row from the DataFrame\n",
        "#             df.drop(i, inplace=True)\n",
        "# chars = ['Ù','Ø','§','®','©','‡','±','¹','¬','¡','ƒ','µ']\n",
        "# remove_rows(df, \"review\", chars)"
      ]
    },
    {
      "attachments": {},
      "cell_type": "markdown",
      "id": "2b6aae97",
      "metadata": {
        "id": "2b6aae97"
      },
      "source": [
        "# Loading Dataset"
      ]
    },
    {
      "cell_type": "code",
      "execution_count": 105,
      "id": "6231ca62",
      "metadata": {
        "id": "6231ca62"
      },
      "outputs": [],
      "source": [
        "df = pd.read_excel(\"a5r_data_isa3.xlsx\")\n"
      ]
    },
    {
      "cell_type": "code",
      "execution_count": 106,
      "id": "cq83WnADwi8R",
      "metadata": {
        "colab": {
          "base_uri": "https://localhost:8080/",
          "height": 424
        },
        "id": "cq83WnADwi8R",
        "outputId": "2fe6d65c-8056-4561-8614-b3c0a9aa9fe6"
      },
      "outputs": [
        {
          "data": {
            "text/html": [
              "\n",
              "  <div id=\"df-83a02266-b0db-40f7-adb3-a5460fb53300\">\n",
              "    <div class=\"colab-df-container\">\n",
              "      <div>\n",
              "<style scoped>\n",
              "    .dataframe tbody tr th:only-of-type {\n",
              "        vertical-align: middle;\n",
              "    }\n",
              "\n",
              "    .dataframe tbody tr th {\n",
              "        vertical-align: top;\n",
              "    }\n",
              "\n",
              "    .dataframe thead th {\n",
              "        text-align: right;\n",
              "    }\n",
              "</style>\n",
              "<table border=\"1\" class=\"dataframe\">\n",
              "  <thead>\n",
              "    <tr style=\"text-align: right;\">\n",
              "      <th></th>\n",
              "      <th>Review</th>\n",
              "      <th>Rating</th>\n",
              "    </tr>\n",
              "  </thead>\n",
              "  <tbody>\n",
              "    <tr>\n",
              "      <th>0</th>\n",
              "      <td>If I can evaluate this seller with 0 star I wo...</td>\n",
              "      <td>0</td>\n",
              "    </tr>\n",
              "    <tr>\n",
              "      <th>1</th>\n",
              "      <td>Brand orderd: iafer, however, the received is ...</td>\n",
              "      <td>0</td>\n",
              "    </tr>\n",
              "    <tr>\n",
              "      <th>2</th>\n",
              "      <td>Another product delivered Delivered a differen...</td>\n",
              "      <td>0</td>\n",
              "    </tr>\n",
              "    <tr>\n",
              "      <th>3</th>\n",
              "      <td>Fraud !! Be careful dealing with this seller ....</td>\n",
              "      <td>0</td>\n",
              "    </tr>\n",
              "    <tr>\n",
              "      <th>4</th>\n",
              "      <td>Completely different item , different brand an...</td>\n",
              "      <td>0</td>\n",
              "    </tr>\n",
              "    <tr>\n",
              "      <th>...</th>\n",
              "      <td>...</td>\n",
              "      <td>...</td>\n",
              "    </tr>\n",
              "    <tr>\n",
              "      <th>49228</th>\n",
              "      <td>It makes my lashes perfect</td>\n",
              "      <td>1</td>\n",
              "    </tr>\n",
              "    <tr>\n",
              "      <th>49229</th>\n",
              "      <td>not original</td>\n",
              "      <td>0</td>\n",
              "    </tr>\n",
              "    <tr>\n",
              "      <th>49230</th>\n",
              "      <td>Very bad material and totally useless</td>\n",
              "      <td>0</td>\n",
              "    </tr>\n",
              "    <tr>\n",
              "      <th>49231</th>\n",
              "      <td>Original</td>\n",
              "      <td>1</td>\n",
              "    </tr>\n",
              "    <tr>\n",
              "      <th>49232</th>\n",
              "      <td>Different product than in the pictures</td>\n",
              "      <td>0</td>\n",
              "    </tr>\n",
              "  </tbody>\n",
              "</table>\n",
              "<p>49233 rows × 2 columns</p>\n",
              "</div>\n",
              "      <button class=\"colab-df-convert\" onclick=\"convertToInteractive('df-83a02266-b0db-40f7-adb3-a5460fb53300')\"\n",
              "              title=\"Convert this dataframe to an interactive table.\"\n",
              "              style=\"display:none;\">\n",
              "        \n",
              "  <svg xmlns=\"http://www.w3.org/2000/svg\" height=\"24px\"viewBox=\"0 0 24 24\"\n",
              "       width=\"24px\">\n",
              "    <path d=\"M0 0h24v24H0V0z\" fill=\"none\"/>\n",
              "    <path d=\"M18.56 5.44l.94 2.06.94-2.06 2.06-.94-2.06-.94-.94-2.06-.94 2.06-2.06.94zm-11 1L8.5 8.5l.94-2.06 2.06-.94-2.06-.94L8.5 2.5l-.94 2.06-2.06.94zm10 10l.94 2.06.94-2.06 2.06-.94-2.06-.94-.94-2.06-.94 2.06-2.06.94z\"/><path d=\"M17.41 7.96l-1.37-1.37c-.4-.4-.92-.59-1.43-.59-.52 0-1.04.2-1.43.59L10.3 9.45l-7.72 7.72c-.78.78-.78 2.05 0 2.83L4 21.41c.39.39.9.59 1.41.59.51 0 1.02-.2 1.41-.59l7.78-7.78 2.81-2.81c.8-.78.8-2.07 0-2.86zM5.41 20L4 18.59l7.72-7.72 1.47 1.35L5.41 20z\"/>\n",
              "  </svg>\n",
              "      </button>\n",
              "      \n",
              "  <style>\n",
              "    .colab-df-container {\n",
              "      display:flex;\n",
              "      flex-wrap:wrap;\n",
              "      gap: 12px;\n",
              "    }\n",
              "\n",
              "    .colab-df-convert {\n",
              "      background-color: #E8F0FE;\n",
              "      border: none;\n",
              "      border-radius: 50%;\n",
              "      cursor: pointer;\n",
              "      display: none;\n",
              "      fill: #1967D2;\n",
              "      height: 32px;\n",
              "      padding: 0 0 0 0;\n",
              "      width: 32px;\n",
              "    }\n",
              "\n",
              "    .colab-df-convert:hover {\n",
              "      background-color: #E2EBFA;\n",
              "      box-shadow: 0px 1px 2px rgba(60, 64, 67, 0.3), 0px 1px 3px 1px rgba(60, 64, 67, 0.15);\n",
              "      fill: #174EA6;\n",
              "    }\n",
              "\n",
              "    [theme=dark] .colab-df-convert {\n",
              "      background-color: #3B4455;\n",
              "      fill: #D2E3FC;\n",
              "    }\n",
              "\n",
              "    [theme=dark] .colab-df-convert:hover {\n",
              "      background-color: #434B5C;\n",
              "      box-shadow: 0px 1px 3px 1px rgba(0, 0, 0, 0.15);\n",
              "      filter: drop-shadow(0px 1px 2px rgba(0, 0, 0, 0.3));\n",
              "      fill: #FFFFFF;\n",
              "    }\n",
              "  </style>\n",
              "\n",
              "      <script>\n",
              "        const buttonEl =\n",
              "          document.querySelector('#df-83a02266-b0db-40f7-adb3-a5460fb53300 button.colab-df-convert');\n",
              "        buttonEl.style.display =\n",
              "          google.colab.kernel.accessAllowed ? 'block' : 'none';\n",
              "\n",
              "        async function convertToInteractive(key) {\n",
              "          const element = document.querySelector('#df-83a02266-b0db-40f7-adb3-a5460fb53300');\n",
              "          const dataTable =\n",
              "            await google.colab.kernel.invokeFunction('convertToInteractive',\n",
              "                                                     [key], {});\n",
              "          if (!dataTable) return;\n",
              "\n",
              "          const docLinkHtml = 'Like what you see? Visit the ' +\n",
              "            '<a target=\"_blank\" href=https://colab.research.google.com/notebooks/data_table.ipynb>data table notebook</a>'\n",
              "            + ' to learn more about interactive tables.';\n",
              "          element.innerHTML = '';\n",
              "          dataTable['output_type'] = 'display_data';\n",
              "          await google.colab.output.renderOutput(dataTable, element);\n",
              "          const docLink = document.createElement('div');\n",
              "          docLink.innerHTML = docLinkHtml;\n",
              "          element.appendChild(docLink);\n",
              "        }\n",
              "      </script>\n",
              "    </div>\n",
              "  </div>\n",
              "  "
            ],
            "text/plain": [
              "                                                  Review  Rating\n",
              "0      If I can evaluate this seller with 0 star I wo...       0\n",
              "1      Brand orderd: iafer, however, the received is ...       0\n",
              "2      Another product delivered Delivered a differen...       0\n",
              "3      Fraud !! Be careful dealing with this seller ....       0\n",
              "4      Completely different item , different brand an...       0\n",
              "...                                                  ...     ...\n",
              "49228                         It makes my lashes perfect       1\n",
              "49229                                       not original       0\n",
              "49230              Very bad material and totally useless       0\n",
              "49231                                           Original       1\n",
              "49232             Different product than in the pictures       0\n",
              "\n",
              "[49233 rows x 2 columns]"
            ]
          },
          "execution_count": 106,
          "metadata": {},
          "output_type": "execute_result"
        }
      ],
      "source": [
        "df=df[['Review','Rating']]\n",
        "df"
      ]
    },
    {
      "cell_type": "code",
      "execution_count": 7,
      "id": "DYoWxrU4sSBF",
      "metadata": {
        "id": "DYoWxrU4sSBF"
      },
      "outputs": [],
      "source": [
        "# df2 = pd.read_excel(\"/content/Negative_Electronics.xlsx\")\n",
        "# df2"
      ]
    },
    {
      "cell_type": "code",
      "execution_count": 8,
      "id": "A0gFyavKsVW8",
      "metadata": {
        "id": "A0gFyavKsVW8"
      },
      "outputs": [],
      "source": [
        "# df=pd.concat([df,df2])"
      ]
    },
    {
      "cell_type": "code",
      "execution_count": 57,
      "id": "c27fabc9",
      "metadata": {
        "colab": {
          "base_uri": "https://localhost:8080/",
          "height": 504
        },
        "id": "c27fabc9",
        "outputId": "5a317b58-e8af-416d-9002-cb125e6704b1"
      },
      "outputs": [
        {
          "data": {
            "image/png": "[encoded data removed]",
            "text/plain": [
              "<Figure size 640x480 with 1 Axes>"
            ]
          },
          "metadata": {},
          "output_type": "display_data"
        },
        {
          "name": "stdout",
          "output_type": "stream",
          "text": [
            "1    33748\n",
            "0    15485\n",
            "Name: Rating, dtype: int64\n"
          ]
        }
      ],
      "source": [
        "class_counts = df['Rating'].value_counts()\n",
        "sns.barplot(x=class_counts.index, y=class_counts.values)\n",
        "plt.title('Number of all samples in each class')\n",
        "plt.show()\n",
        "print(class_counts)"
      ]
    },
    {
      "attachments": {},
      "cell_type": "markdown",
      "id": "d57668b5",
      "metadata": {
        "id": "d57668b5"
      },
      "source": [
        "## Data Preprocessing\n"
      ]
    },
    {
      "cell_type": "code",
      "execution_count": 25,
      "id": "a419e26d",
      "metadata": {
        "id": "a419e26d"
      },
      "outputs": [],
      "source": [
        "df_preprocessor = TextPreprocessor()\n",
        "train_text_list_df = df['Review'].tolist()"
      ]
    },
    {
      "cell_type": "code",
      "execution_count": 54,
      "id": "ce57bf35",
      "metadata": {
        "id": "ce57bf35"
      },
      "outputs": [],
      "source": [
        "df_processed_texts = []\n",
        "for text in train_text_list_df:\n",
        "    df_processed_texts.append(df_preprocessor.preprocessing(text))"
      ]
    },
    {
      "cell_type": "code",
      "execution_count": 53,
      "id": "ihEHm4PcxLKY",
      "metadata": {
        "id": "ihEHm4PcxLKY"
      },
      "outputs": [],
      "source": [
        "# df_processed_texts = []\n",
        "# df_reviews = []\n",
        "# df_rating = []\n",
        "\n",
        "# train_text_list_df = df['Review'].tolist()\n",
        "# train_rating_list_df = df['Rating'].tolist()\n",
        "\n",
        "# for i, text in enumerate(train_text_list_df):\n",
        "#     if isinstance(text, str):\n",
        "#         df_processed_texts.append(df_preprocessor.preprocessing(text))\n",
        "#         df_reviews.append(text)\n",
        "#         df_rating.append(train_rating_list_df[i])\n",
        "#     elif isinstance(text, bytes):\n",
        "#         text_str = text.decode('utf-8')\n",
        "#         df_processed_texts.append(df_preprocessor.preprocessing(text_str))\n",
        "#         df_reviews.append(text_str)\n",
        "#         df_rating.append(train_rating_list_df[i])\n",
        "#     elif isinstance(text, float):\n",
        "#         text_str = str(text)\n",
        "#         df_processed_texts.append(df_preprocessor.preprocessing(text_str))\n",
        "#         df_reviews.append(text_str)\n",
        "#         df_rating.append(train_rating_list_df[i])\n",
        "#     else:\n",
        "#         raise TypeError(\"Expected string, bytes-like object, or float, but received {}\".format(type(text)))\n"
      ]
    },
    {
      "cell_type": "code",
      "execution_count": 59,
      "id": "4y4wEoK4zuct",
      "metadata": {
        "id": "4y4wEoK4zuct"
      },
      "outputs": [],
      "source": [
        "# df=pd.DataFrame()\n",
        "# df['Review']=df_reviews\n",
        "# df['Rating']=df_rating\n",
        "# df['processed_text']=df_processed_texts"
      ]
    },
    {
      "cell_type": "code",
      "execution_count": 107,
      "id": "f14de596",
      "metadata": {
        "id": "f14de596"
      },
      "outputs": [],
      "source": [
        "df['processed_text'] = df_processed_texts\n",
        "df['processed_text'] = df['processed_text'].apply(' '.join)"
      ]
    },
    {
      "cell_type": "code",
      "execution_count": 112,
      "id": "73579345",
      "metadata": {
        "colab": {
          "base_uri": "https://localhost:8080/",
          "height": 504
        },
        "id": "73579345",
        "outputId": "6ef87646-ba89-4289-f69d-475d78b3e452"
      },
      "outputs": [
        {
          "data": {
            "image/png": "[encoded data removed]",
            "text/plain": [
              "<Figure size 640x480 with 1 Axes>"
            ]
          },
          "metadata": {},
          "output_type": "display_data"
        },
        {
          "name": "stdout",
          "output_type": "stream",
          "text": [
            "1    23748\n",
            "0    15485\n",
            "Name: Rating, dtype: int64\n"
          ]
        }
      ],
      "source": [
        "class_counts = df['Rating'].value_counts()\n",
        "sns.barplot(x=class_counts.index, y=class_counts.values)\n",
        "plt.title('Number of all samples in each class')\n",
        "plt.show()\n",
        "print(class_counts)"
      ]
    },
    {
      "cell_type": "code",
      "execution_count": 109,
      "id": "3aeede22",
      "metadata": {
        "id": "3aeede22"
      },
      "outputs": [],
      "source": [
        "df = df.drop(df[df['Rating'] == 1].head(10000).index)"
      ]
    },
    {
      "cell_type": "code",
      "execution_count": 110,
      "id": "XpoiKD_J0LSG",
      "metadata": {
        "id": "XpoiKD_J0LSG"
      },
      "outputs": [],
      "source": [
        "df.reset_index(drop=True,inplace=True)"
      ]
    },
    {
      "cell_type": "code",
      "execution_count": 111,
      "id": "b65403e1",
      "metadata": {
        "colab": {
          "base_uri": "https://localhost:8080/",
          "height": 424
        },
        "id": "b65403e1",
        "outputId": "84a9cf20-4d23-4cc9-bc73-0f4ad7409af3"
      },
      "outputs": [
        {
          "data": {
            "text/html": [
              "\n",
              "  <div id=\"df-e5ffbedb-51ad-45f8-94d3-d3c5fa460603\">\n",
              "    <div class=\"colab-df-container\">\n",
              "      <div>\n",
              "<style scoped>\n",
              "    .dataframe tbody tr th:only-of-type {\n",
              "        vertical-align: middle;\n",
              "    }\n",
              "\n",
              "    .dataframe tbody tr th {\n",
              "        vertical-align: top;\n",
              "    }\n",
              "\n",
              "    .dataframe thead th {\n",
              "        text-align: right;\n",
              "    }\n",
              "</style>\n",
              "<table border=\"1\" class=\"dataframe\">\n",
              "  <thead>\n",
              "    <tr style=\"text-align: right;\">\n",
              "      <th></th>\n",
              "      <th>Review</th>\n",
              "      <th>Rating</th>\n",
              "      <th>processed_text</th>\n",
              "    </tr>\n",
              "  </thead>\n",
              "  <tbody>\n",
              "    <tr>\n",
              "      <th>0</th>\n",
              "      <td>If I can evaluate this seller with 0 star I wo...</td>\n",
              "      <td>0</td>\n",
              "      <td>color ordered send would check pick seller di ...</td>\n",
              "    </tr>\n",
              "    <tr>\n",
              "      <th>1</th>\n",
              "      <td>Brand orderd: iafer, however, the received is ...</td>\n",
              "      <td>0</td>\n",
              "      <td>Brand received iafer le orderd store Nillkin p...</td>\n",
              "    </tr>\n",
              "    <tr>\n",
              "      <th>2</th>\n",
              "      <td>Another product delivered Delivered a differen...</td>\n",
              "      <td>0</td>\n",
              "      <td>brand lower delivered product different Delive...</td>\n",
              "    </tr>\n",
              "    <tr>\n",
              "      <th>3</th>\n",
              "      <td>Fraud !! Be careful dealing with this seller ....</td>\n",
              "      <td>0</td>\n",
              "      <td>color brand another bad quality sent intended ...</td>\n",
              "    </tr>\n",
              "    <tr>\n",
              "      <th>4</th>\n",
              "      <td>Completely different item , different brand an...</td>\n",
              "      <td>0</td>\n",
              "      <td>Completely brand product colour sent scam abso...</td>\n",
              "    </tr>\n",
              "    <tr>\n",
              "      <th>...</th>\n",
              "      <td>...</td>\n",
              "      <td>...</td>\n",
              "      <td>...</td>\n",
              "    </tr>\n",
              "    <tr>\n",
              "      <th>39228</th>\n",
              "      <td>It makes my lashes perfect</td>\n",
              "      <td>1</td>\n",
              "      <td>make perfect lash</td>\n",
              "    </tr>\n",
              "    <tr>\n",
              "      <th>39229</th>\n",
              "      <td>not original</td>\n",
              "      <td>0</td>\n",
              "      <td>original not</td>\n",
              "    </tr>\n",
              "    <tr>\n",
              "      <th>39230</th>\n",
              "      <td>Very bad material and totally useless</td>\n",
              "      <td>0</td>\n",
              "      <td>useless bad totally material</td>\n",
              "    </tr>\n",
              "    <tr>\n",
              "      <th>39231</th>\n",
              "      <td>Original</td>\n",
              "      <td>1</td>\n",
              "      <td>Original</td>\n",
              "    </tr>\n",
              "    <tr>\n",
              "      <th>39232</th>\n",
              "      <td>Different product than in the pictures</td>\n",
              "      <td>0</td>\n",
              "      <td>product picture Different</td>\n",
              "    </tr>\n",
              "  </tbody>\n",
              "</table>\n",
              "<p>39233 rows × 3 columns</p>\n",
              "</div>\n",
              "      <button class=\"colab-df-convert\" onclick=\"convertToInteractive('df-e5ffbedb-51ad-45f8-94d3-d3c5fa460603')\"\n",
              "              title=\"Convert this dataframe to an interactive table.\"\n",
              "              style=\"display:none;\">\n",
              "        \n",
              "  <svg xmlns=\"http://www.w3.org/2000/svg\" height=\"24px\"viewBox=\"0 0 24 24\"\n",
              "       width=\"24px\">\n",
              "    <path d=\"M0 0h24v24H0V0z\" fill=\"none\"/>\n",
              "    <path d=\"M18.56 5.44l.94 2.06.94-2.06 2.06-.94-2.06-.94-.94-2.06-.94 2.06-2.06.94zm-11 1L8.5 8.5l.94-2.06 2.06-.94-2.06-.94L8.5 2.5l-.94 2.06-2.06.94zm10 10l.94 2.06.94-2.06 2.06-.94-2.06-.94-.94-2.06-.94 2.06-2.06.94z\"/><path d=\"M17.41 7.96l-1.37-1.37c-.4-.4-.92-.59-1.43-.59-.52 0-1.04.2-1.43.59L10.3 9.45l-7.72 7.72c-.78.78-.78 2.05 0 2.83L4 21.41c.39.39.9.59 1.41.59.51 0 1.02-.2 1.41-.59l7.78-7.78 2.81-2.81c.8-.78.8-2.07 0-2.86zM5.41 20L4 18.59l7.72-7.72 1.47 1.35L5.41 20z\"/>\n",
              "  </svg>\n",
              "      </button>\n",
              "      \n",
              "  <style>\n",
              "    .colab-df-container {\n",
              "      display:flex;\n",
              "      flex-wrap:wrap;\n",
              "      gap: 12px;\n",
              "    }\n",
              "\n",
              "    .colab-df-convert {\n",
              "      background-color: #E8F0FE;\n",
              "      border: none;\n",
              "      border-radius: 50%;\n",
              "      cursor: pointer;\n",
              "      display: none;\n",
              "      fill: #1967D2;\n",
              "      height: 32px;\n",
              "      padding: 0 0 0 0;\n",
              "      width: 32px;\n",
              "    }\n",
              "\n",
              "    .colab-df-convert:hover {\n",
              "      background-color: #E2EBFA;\n",
              "      box-shadow: 0px 1px 2px rgba(60, 64, 67, 0.3), 0px 1px 3px 1px rgba(60, 64, 67, 0.15);\n",
              "      fill: #174EA6;\n",
              "    }\n",
              "\n",
              "    [theme=dark] .colab-df-convert {\n",
              "      background-color: #3B4455;\n",
              "      fill: #D2E3FC;\n",
              "    }\n",
              "\n",
              "    [theme=dark] .colab-df-convert:hover {\n",
              "      background-color: #434B5C;\n",
              "      box-shadow: 0px 1px 3px 1px rgba(0, 0, 0, 0.15);\n",
              "      filter: drop-shadow(0px 1px 2px rgba(0, 0, 0, 0.3));\n",
              "      fill: #FFFFFF;\n",
              "    }\n",
              "  </style>\n",
              "\n",
              "      <script>\n",
              "        const buttonEl =\n",
              "          document.querySelector('#df-e5ffbedb-51ad-45f8-94d3-d3c5fa460603 button.colab-df-convert');\n",
              "        buttonEl.style.display =\n",
              "          google.colab.kernel.accessAllowed ? 'block' : 'none';\n",
              "\n",
              "        async function convertToInteractive(key) {\n",
              "          const element = document.querySelector('#df-e5ffbedb-51ad-45f8-94d3-d3c5fa460603');\n",
              "          const dataTable =\n",
              "            await google.colab.kernel.invokeFunction('convertToInteractive',\n",
              "                                                     [key], {});\n",
              "          if (!dataTable) return;\n",
              "\n",
              "          const docLinkHtml = 'Like what you see? Visit the ' +\n",
              "            '<a target=\"_blank\" href=https://colab.research.google.com/notebooks/data_table.ipynb>data table notebook</a>'\n",
              "            + ' to learn more about interactive tables.';\n",
              "          element.innerHTML = '';\n",
              "          dataTable['output_type'] = 'display_data';\n",
              "          await google.colab.output.renderOutput(dataTable, element);\n",
              "          const docLink = document.createElement('div');\n",
              "          docLink.innerHTML = docLinkHtml;\n",
              "          element.appendChild(docLink);\n",
              "        }\n",
              "      </script>\n",
              "    </div>\n",
              "  </div>\n",
              "  "
            ],
            "text/plain": [
              "                                                  Review  Rating  \\\n",
              "0      If I can evaluate this seller with 0 star I wo...       0   \n",
              "1      Brand orderd: iafer, however, the received is ...       0   \n",
              "2      Another product delivered Delivered a differen...       0   \n",
              "3      Fraud !! Be careful dealing with this seller ....       0   \n",
              "4      Completely different item , different brand an...       0   \n",
              "...                                                  ...     ...   \n",
              "39228                         It makes my lashes perfect       1   \n",
              "39229                                       not original       0   \n",
              "39230              Very bad material and totally useless       0   \n",
              "39231                                           Original       1   \n",
              "39232             Different product than in the pictures       0   \n",
              "\n",
              "                                          processed_text  \n",
              "0      color ordered send would check pick seller di ...  \n",
              "1      Brand received iafer le orderd store Nillkin p...  \n",
              "2      brand lower delivered product different Delive...  \n",
              "3      color brand another bad quality sent intended ...  \n",
              "4      Completely brand product colour sent scam abso...  \n",
              "...                                                  ...  \n",
              "39228                                  make perfect lash  \n",
              "39229                                       original not  \n",
              "39230                       useless bad totally material  \n",
              "39231                                           Original  \n",
              "39232                          product picture Different  \n",
              "\n",
              "[39233 rows x 3 columns]"
            ]
          },
          "execution_count": 111,
          "metadata": {},
          "output_type": "execute_result"
        }
      ],
      "source": [
        "df"
      ]
    },
    {
      "cell_type": "code",
      "execution_count": 131,
      "id": "kgKmaXam0Qg8",
      "metadata": {
        "id": "kgKmaXam0Qg8"
      },
      "outputs": [],
      "source": [
        "df.to_excel(\"Final_English_Preprocessed_isa.xlsx\")"
      ]
    },
    {
      "attachments": {},
      "cell_type": "markdown",
      "id": "c5c5ad7c",
      "metadata": {
        "id": "c5c5ad7c"
      },
      "source": [
        "# Data Splitting"
      ]
    },
    {
      "cell_type": "code",
      "execution_count": 115,
      "id": "00425db1",
      "metadata": {
        "id": "00425db1"
      },
      "outputs": [],
      "source": [
        "from sklearn.model_selection import train_test_split\n",
        "\n",
        "# Split your data into training and test sets\n",
        "x_train, x_test, y_train, y_test = train_test_split(\n",
        "    df[\"processed_text\"], df[\"Rating\"], test_size=0.1, random_state=42,shuffle = True)\n",
        "\n",
        "# # Split the training data again into training and validation sets\n",
        "# x_train_embedded, x_val_embedded, y_train_embedded, y_val_embedded = train_test_split(\n",
        "#      x_train_embedded, y_train_embedded, test_size=0.2, random_state=42)"
      ]
    },
    {
      "cell_type": "code",
      "execution_count": 116,
      "id": "58b3f012",
      "metadata": {
        "colab": {
          "base_uri": "https://localhost:8080/"
        },
        "id": "58b3f012",
        "outputId": "1321f644-0670-4523-e361-49150bcba4e6"
      },
      "outputs": [
        {
          "name": "stdout",
          "output_type": "stream",
          "text": [
            "training data:  (22721,)\n",
            "testing data:  (2525,)\n"
          ]
        }
      ],
      "source": [
        "print('training data: ', x_train.shape)\n",
        "print('testing data: ', x_test.shape)"
      ]
    },
    {
      "attachments": {},
      "cell_type": "markdown",
      "id": "3bb9bc25",
      "metadata": {
        "id": "3bb9bc25"
      },
      "source": [
        "# Word Embedding"
      ]
    },
    {
      "cell_type": "code",
      "execution_count": 117,
      "id": "3488e63f",
      "metadata": {
        "id": "3488e63f"
      },
      "outputs": [],
      "source": [
        "word_vectorizer = TfidfVectorizer(ngram_range=(1,2),max_features=25000)\n",
        "unigramdataGet= word_vectorizer.fit_transform(x_train.astype('str'))\n",
        "unigramdataGet = unigramdataGet.toarray()\n",
        "vocab = word_vectorizer.get_feature_names_out()\n",
        "x_train_embedded=pd.DataFrame(unigramdataGet, columns=vocab)"
      ]
    },
    {
      "cell_type": "code",
      "execution_count": 94,
      "id": "06c6ccce",
      "metadata": {
        "id": "06c6ccce"
      },
      "outputs": [],
      "source": [
        "import pickle\n",
        "pickle.dump(word_vectorizer, open(\"Approach2_ML_English_TFIDF.pk\", \"wb\"))"
      ]
    },
    {
      "cell_type": "code",
      "execution_count": 118,
      "id": "73bb7c44",
      "metadata": {
        "colab": {
          "base_uri": "https://localhost:8080/",
          "height": 424
        },
        "id": "73bb7c44",
        "outputId": "de8816ad-7bd3-48c2-a839-bf44f83c446f"
      },
      "outputs": [
        {
          "data": {
            "text/html": [
              "\n",
              "  <div id=\"df-04dd2ab6-9230-4a58-a8c8-315acfd17cc0\">\n",
              "    <div class=\"colab-df-container\">\n",
              "      <div>\n",
              "<style scoped>\n",
              "    .dataframe tbody tr th:only-of-type {\n",
              "        vertical-align: middle;\n",
              "    }\n",
              "\n",
              "    .dataframe tbody tr th {\n",
              "        vertical-align: top;\n",
              "    }\n",
              "\n",
              "    .dataframe thead th {\n",
              "        text-align: right;\n",
              "    }\n",
              "</style>\n",
              "<table border=\"1\" class=\"dataframe\">\n",
              "  <thead>\n",
              "    <tr style=\"text-align: right;\">\n",
              "      <th></th>\n",
              "      <th>aa</th>\n",
              "      <th>aac</th>\n",
              "      <th>aac nt</th>\n",
              "      <th>ab</th>\n",
              "      <th>abbastanza</th>\n",
              "      <th>aber</th>\n",
              "      <th>ability</th>\n",
              "      <th>ability noise</th>\n",
              "      <th>able</th>\n",
              "      <th>able call</th>\n",
              "      <th>...</th>\n",
              "      <th>zoom team</th>\n",
              "      <th>zu</th>\n",
              "      <th>zu die</th>\n",
              "      <th>zudem</th>\n",
              "      <th>zufrieden</th>\n",
              "      <th>zum</th>\n",
              "      <th>zur</th>\n",
              "      <th>zurck</th>\n",
              "      <th>zwei</th>\n",
              "      <th>zx</th>\n",
              "    </tr>\n",
              "  </thead>\n",
              "  <tbody>\n",
              "    <tr>\n",
              "      <th>0</th>\n",
              "      <td>0.0</td>\n",
              "      <td>0.0</td>\n",
              "      <td>0.0</td>\n",
              "      <td>0.0</td>\n",
              "      <td>0.0</td>\n",
              "      <td>0.0</td>\n",
              "      <td>0.0</td>\n",
              "      <td>0.0</td>\n",
              "      <td>0.0</td>\n",
              "      <td>0.0</td>\n",
              "      <td>...</td>\n",
              "      <td>0.0</td>\n",
              "      <td>0.0</td>\n",
              "      <td>0.0</td>\n",
              "      <td>0.0</td>\n",
              "      <td>0.0</td>\n",
              "      <td>0.0</td>\n",
              "      <td>0.0</td>\n",
              "      <td>0.0</td>\n",
              "      <td>0.0</td>\n",
              "      <td>0.0</td>\n",
              "    </tr>\n",
              "    <tr>\n",
              "      <th>1</th>\n",
              "      <td>0.0</td>\n",
              "      <td>0.0</td>\n",
              "      <td>0.0</td>\n",
              "      <td>0.0</td>\n",
              "      <td>0.0</td>\n",
              "      <td>0.0</td>\n",
              "      <td>0.0</td>\n",
              "      <td>0.0</td>\n",
              "      <td>0.0</td>\n",
              "      <td>0.0</td>\n",
              "      <td>...</td>\n",
              "      <td>0.0</td>\n",
              "      <td>0.0</td>\n",
              "      <td>0.0</td>\n",
              "      <td>0.0</td>\n",
              "      <td>0.0</td>\n",
              "      <td>0.0</td>\n",
              "      <td>0.0</td>\n",
              "      <td>0.0</td>\n",
              "      <td>0.0</td>\n",
              "      <td>0.0</td>\n",
              "    </tr>\n",
              "    <tr>\n",
              "      <th>2</th>\n",
              "      <td>0.0</td>\n",
              "      <td>0.0</td>\n",
              "      <td>0.0</td>\n",
              "      <td>0.0</td>\n",
              "      <td>0.0</td>\n",
              "      <td>0.0</td>\n",
              "      <td>0.0</td>\n",
              "      <td>0.0</td>\n",
              "      <td>0.0</td>\n",
              "      <td>0.0</td>\n",
              "      <td>...</td>\n",
              "      <td>0.0</td>\n",
              "      <td>0.0</td>\n",
              "      <td>0.0</td>\n",
              "      <td>0.0</td>\n",
              "      <td>0.0</td>\n",
              "      <td>0.0</td>\n",
              "      <td>0.0</td>\n",
              "      <td>0.0</td>\n",
              "      <td>0.0</td>\n",
              "      <td>0.0</td>\n",
              "    </tr>\n",
              "    <tr>\n",
              "      <th>3</th>\n",
              "      <td>0.0</td>\n",
              "      <td>0.0</td>\n",
              "      <td>0.0</td>\n",
              "      <td>0.0</td>\n",
              "      <td>0.0</td>\n",
              "      <td>0.0</td>\n",
              "      <td>0.0</td>\n",
              "      <td>0.0</td>\n",
              "      <td>0.0</td>\n",
              "      <td>0.0</td>\n",
              "      <td>...</td>\n",
              "      <td>0.0</td>\n",
              "      <td>0.0</td>\n",
              "      <td>0.0</td>\n",
              "      <td>0.0</td>\n",
              "      <td>0.0</td>\n",
              "      <td>0.0</td>\n",
              "      <td>0.0</td>\n",
              "      <td>0.0</td>\n",
              "      <td>0.0</td>\n",
              "      <td>0.0</td>\n",
              "    </tr>\n",
              "    <tr>\n",
              "      <th>4</th>\n",
              "      <td>0.0</td>\n",
              "      <td>0.0</td>\n",
              "      <td>0.0</td>\n",
              "      <td>0.0</td>\n",
              "      <td>0.0</td>\n",
              "      <td>0.0</td>\n",
              "      <td>0.0</td>\n",
              "      <td>0.0</td>\n",
              "      <td>0.0</td>\n",
              "      <td>0.0</td>\n",
              "      <td>...</td>\n",
              "      <td>0.0</td>\n",
              "      <td>0.0</td>\n",
              "      <td>0.0</td>\n",
              "      <td>0.0</td>\n",
              "      <td>0.0</td>\n",
              "      <td>0.0</td>\n",
              "      <td>0.0</td>\n",
              "      <td>0.0</td>\n",
              "      <td>0.0</td>\n",
              "      <td>0.0</td>\n",
              "    </tr>\n",
              "    <tr>\n",
              "      <th>...</th>\n",
              "      <td>...</td>\n",
              "      <td>...</td>\n",
              "      <td>...</td>\n",
              "      <td>...</td>\n",
              "      <td>...</td>\n",
              "      <td>...</td>\n",
              "      <td>...</td>\n",
              "      <td>...</td>\n",
              "      <td>...</td>\n",
              "      <td>...</td>\n",
              "      <td>...</td>\n",
              "      <td>...</td>\n",
              "      <td>...</td>\n",
              "      <td>...</td>\n",
              "      <td>...</td>\n",
              "      <td>...</td>\n",
              "      <td>...</td>\n",
              "      <td>...</td>\n",
              "      <td>...</td>\n",
              "      <td>...</td>\n",
              "      <td>...</td>\n",
              "    </tr>\n",
              "    <tr>\n",
              "      <th>22716</th>\n",
              "      <td>0.0</td>\n",
              "      <td>0.0</td>\n",
              "      <td>0.0</td>\n",
              "      <td>0.0</td>\n",
              "      <td>0.0</td>\n",
              "      <td>0.0</td>\n",
              "      <td>0.0</td>\n",
              "      <td>0.0</td>\n",
              "      <td>0.0</td>\n",
              "      <td>0.0</td>\n",
              "      <td>...</td>\n",
              "      <td>0.0</td>\n",
              "      <td>0.0</td>\n",
              "      <td>0.0</td>\n",
              "      <td>0.0</td>\n",
              "      <td>0.0</td>\n",
              "      <td>0.0</td>\n",
              "      <td>0.0</td>\n",
              "      <td>0.0</td>\n",
              "      <td>0.0</td>\n",
              "      <td>0.0</td>\n",
              "    </tr>\n",
              "    <tr>\n",
              "      <th>22717</th>\n",
              "      <td>0.0</td>\n",
              "      <td>0.0</td>\n",
              "      <td>0.0</td>\n",
              "      <td>0.0</td>\n",
              "      <td>0.0</td>\n",
              "      <td>0.0</td>\n",
              "      <td>0.0</td>\n",
              "      <td>0.0</td>\n",
              "      <td>0.0</td>\n",
              "      <td>0.0</td>\n",
              "      <td>...</td>\n",
              "      <td>0.0</td>\n",
              "      <td>0.0</td>\n",
              "      <td>0.0</td>\n",
              "      <td>0.0</td>\n",
              "      <td>0.0</td>\n",
              "      <td>0.0</td>\n",
              "      <td>0.0</td>\n",
              "      <td>0.0</td>\n",
              "      <td>0.0</td>\n",
              "      <td>0.0</td>\n",
              "    </tr>\n",
              "    <tr>\n",
              "      <th>22718</th>\n",
              "      <td>0.0</td>\n",
              "      <td>0.0</td>\n",
              "      <td>0.0</td>\n",
              "      <td>0.0</td>\n",
              "      <td>0.0</td>\n",
              "      <td>0.0</td>\n",
              "      <td>0.0</td>\n",
              "      <td>0.0</td>\n",
              "      <td>0.0</td>\n",
              "      <td>0.0</td>\n",
              "      <td>...</td>\n",
              "      <td>0.0</td>\n",
              "      <td>0.0</td>\n",
              "      <td>0.0</td>\n",
              "      <td>0.0</td>\n",
              "      <td>0.0</td>\n",
              "      <td>0.0</td>\n",
              "      <td>0.0</td>\n",
              "      <td>0.0</td>\n",
              "      <td>0.0</td>\n",
              "      <td>0.0</td>\n",
              "    </tr>\n",
              "    <tr>\n",
              "      <th>22719</th>\n",
              "      <td>0.0</td>\n",
              "      <td>0.0</td>\n",
              "      <td>0.0</td>\n",
              "      <td>0.0</td>\n",
              "      <td>0.0</td>\n",
              "      <td>0.0</td>\n",
              "      <td>0.0</td>\n",
              "      <td>0.0</td>\n",
              "      <td>0.0</td>\n",
              "      <td>0.0</td>\n",
              "      <td>...</td>\n",
              "      <td>0.0</td>\n",
              "      <td>0.0</td>\n",
              "      <td>0.0</td>\n",
              "      <td>0.0</td>\n",
              "      <td>0.0</td>\n",
              "      <td>0.0</td>\n",
              "      <td>0.0</td>\n",
              "      <td>0.0</td>\n",
              "      <td>0.0</td>\n",
              "      <td>0.0</td>\n",
              "    </tr>\n",
              "    <tr>\n",
              "      <th>22720</th>\n",
              "      <td>0.0</td>\n",
              "      <td>0.0</td>\n",
              "      <td>0.0</td>\n",
              "      <td>0.0</td>\n",
              "      <td>0.0</td>\n",
              "      <td>0.0</td>\n",
              "      <td>0.0</td>\n",
              "      <td>0.0</td>\n",
              "      <td>0.0</td>\n",
              "      <td>0.0</td>\n",
              "      <td>...</td>\n",
              "      <td>0.0</td>\n",
              "      <td>0.0</td>\n",
              "      <td>0.0</td>\n",
              "      <td>0.0</td>\n",
              "      <td>0.0</td>\n",
              "      <td>0.0</td>\n",
              "      <td>0.0</td>\n",
              "      <td>0.0</td>\n",
              "      <td>0.0</td>\n",
              "      <td>0.0</td>\n",
              "    </tr>\n",
              "  </tbody>\n",
              "</table>\n",
              "<p>22721 rows × 25000 columns</p>\n",
              "</div>\n",
              "      <button class=\"colab-df-convert\" onclick=\"convertToInteractive('df-04dd2ab6-9230-4a58-a8c8-315acfd17cc0')\"\n",
              "              title=\"Convert this dataframe to an interactive table.\"\n",
              "              style=\"display:none;\">\n",
              "        \n",
              "  <svg xmlns=\"http://www.w3.org/2000/svg\" height=\"24px\"viewBox=\"0 0 24 24\"\n",
              "       width=\"24px\">\n",
              "    <path d=\"M0 0h24v24H0V0z\" fill=\"none\"/>\n",
              "    <path d=\"M18.56 5.44l.94 2.06.94-2.06 2.06-.94-2.06-.94-.94-2.06-.94 2.06-2.06.94zm-11 1L8.5 8.5l.94-2.06 2.06-.94-2.06-.94L8.5 2.5l-.94 2.06-2.06.94zm10 10l.94 2.06.94-2.06 2.06-.94-2.06-.94-.94-2.06-.94 2.06-2.06.94z\"/><path d=\"M17.41 7.96l-1.37-1.37c-.4-.4-.92-.59-1.43-.59-.52 0-1.04.2-1.43.59L10.3 9.45l-7.72 7.72c-.78.78-.78 2.05 0 2.83L4 21.41c.39.39.9.59 1.41.59.51 0 1.02-.2 1.41-.59l7.78-7.78 2.81-2.81c.8-.78.8-2.07 0-2.86zM5.41 20L4 18.59l7.72-7.72 1.47 1.35L5.41 20z\"/>\n",
              "  </svg>\n",
              "      </button>\n",
              "      \n",
              "  <style>\n",
              "    .colab-df-container {\n",
              "      display:flex;\n",
              "      flex-wrap:wrap;\n",
              "      gap: 12px;\n",
              "    }\n",
              "\n",
              "    .colab-df-convert {\n",
              "      background-color: #E8F0FE;\n",
              "      border: none;\n",
              "      border-radius: 50%;\n",
              "      cursor: pointer;\n",
              "      display: none;\n",
              "      fill: #1967D2;\n",
              "      height: 32px;\n",
              "      padding: 0 0 0 0;\n",
              "      width: 32px;\n",
              "    }\n",
              "\n",
              "    .colab-df-convert:hover {\n",
              "      background-color: #E2EBFA;\n",
              "      box-shadow: 0px 1px 2px rgba(60, 64, 67, 0.3), 0px 1px 3px 1px rgba(60, 64, 67, 0.15);\n",
              "      fill: #174EA6;\n",
              "    }\n",
              "\n",
              "    [theme=dark] .colab-df-convert {\n",
              "      background-color: #3B4455;\n",
              "      fill: #D2E3FC;\n",
              "    }\n",
              "\n",
              "    [theme=dark] .colab-df-convert:hover {\n",
              "      background-color: #434B5C;\n",
              "      box-shadow: 0px 1px 3px 1px rgba(0, 0, 0, 0.15);\n",
              "      filter: drop-shadow(0px 1px 2px rgba(0, 0, 0, 0.3));\n",
              "      fill: #FFFFFF;\n",
              "    }\n",
              "  </style>\n",
              "\n",
              "      <script>\n",
              "        const buttonEl =\n",
              "          document.querySelector('#df-04dd2ab6-9230-4a58-a8c8-315acfd17cc0 button.colab-df-convert');\n",
              "        buttonEl.style.display =\n",
              "          google.colab.kernel.accessAllowed ? 'block' : 'none';\n",
              "\n",
              "        async function convertToInteractive(key) {\n",
              "          const element = document.querySelector('#df-04dd2ab6-9230-4a58-a8c8-315acfd17cc0');\n",
              "          const dataTable =\n",
              "            await google.colab.kernel.invokeFunction('convertToInteractive',\n",
              "                                                     [key], {});\n",
              "          if (!dataTable) return;\n",
              "\n",
              "          const docLinkHtml = 'Like what you see? Visit the ' +\n",
              "            '<a target=\"_blank\" href=https://colab.research.google.com/notebooks/data_table.ipynb>data table notebook</a>'\n",
              "            + ' to learn more about interactive tables.';\n",
              "          element.innerHTML = '';\n",
              "          dataTable['output_type'] = 'display_data';\n",
              "          await google.colab.output.renderOutput(dataTable, element);\n",
              "          const docLink = document.createElement('div');\n",
              "          docLink.innerHTML = docLinkHtml;\n",
              "          element.appendChild(docLink);\n",
              "        }\n",
              "      </script>\n",
              "    </div>\n",
              "  </div>\n",
              "  "
            ],
            "text/plain": [
              "        aa  aac  aac nt   ab  abbastanza  aber  ability  ability noise  able  \\\n",
              "0      0.0  0.0     0.0  0.0         0.0   0.0      0.0            0.0   0.0   \n",
              "1      0.0  0.0     0.0  0.0         0.0   0.0      0.0            0.0   0.0   \n",
              "2      0.0  0.0     0.0  0.0         0.0   0.0      0.0            0.0   0.0   \n",
              "3      0.0  0.0     0.0  0.0         0.0   0.0      0.0            0.0   0.0   \n",
              "4      0.0  0.0     0.0  0.0         0.0   0.0      0.0            0.0   0.0   \n",
              "...    ...  ...     ...  ...         ...   ...      ...            ...   ...   \n",
              "22716  0.0  0.0     0.0  0.0         0.0   0.0      0.0            0.0   0.0   \n",
              "22717  0.0  0.0     0.0  0.0         0.0   0.0      0.0            0.0   0.0   \n",
              "22718  0.0  0.0     0.0  0.0         0.0   0.0      0.0            0.0   0.0   \n",
              "22719  0.0  0.0     0.0  0.0         0.0   0.0      0.0            0.0   0.0   \n",
              "22720  0.0  0.0     0.0  0.0         0.0   0.0      0.0            0.0   0.0   \n",
              "\n",
              "       able call  ...  zoom team   zu  zu die  zudem  zufrieden  zum  zur  \\\n",
              "0            0.0  ...        0.0  0.0     0.0    0.0        0.0  0.0  0.0   \n",
              "1            0.0  ...        0.0  0.0     0.0    0.0        0.0  0.0  0.0   \n",
              "2            0.0  ...        0.0  0.0     0.0    0.0        0.0  0.0  0.0   \n",
              "3            0.0  ...        0.0  0.0     0.0    0.0        0.0  0.0  0.0   \n",
              "4            0.0  ...        0.0  0.0     0.0    0.0        0.0  0.0  0.0   \n",
              "...          ...  ...        ...  ...     ...    ...        ...  ...  ...   \n",
              "22716        0.0  ...        0.0  0.0     0.0    0.0        0.0  0.0  0.0   \n",
              "22717        0.0  ...        0.0  0.0     0.0    0.0        0.0  0.0  0.0   \n",
              "22718        0.0  ...        0.0  0.0     0.0    0.0        0.0  0.0  0.0   \n",
              "22719        0.0  ...        0.0  0.0     0.0    0.0        0.0  0.0  0.0   \n",
              "22720        0.0  ...        0.0  0.0     0.0    0.0        0.0  0.0  0.0   \n",
              "\n",
              "       zurck  zwei   zx  \n",
              "0        0.0   0.0  0.0  \n",
              "1        0.0   0.0  0.0  \n",
              "2        0.0   0.0  0.0  \n",
              "3        0.0   0.0  0.0  \n",
              "4        0.0   0.0  0.0  \n",
              "...      ...   ...  ...  \n",
              "22716    0.0   0.0  0.0  \n",
              "22717    0.0   0.0  0.0  \n",
              "22718    0.0   0.0  0.0  \n",
              "22719    0.0   0.0  0.0  \n",
              "22720    0.0   0.0  0.0  \n",
              "\n",
              "[22721 rows x 25000 columns]"
            ]
          },
          "execution_count": 118,
          "metadata": {},
          "output_type": "execute_result"
        }
      ],
      "source": [
        "x_train_embedded"
      ]
    },
    {
      "cell_type": "code",
      "execution_count": 119,
      "id": "6dae6557",
      "metadata": {
        "id": "6dae6557"
      },
      "outputs": [],
      "source": [
        "unigramdataGet= word_vectorizer.transform(x_test.astype('str'))\n",
        "unigramdataGet = unigramdataGet.toarray()\n",
        "vocab = word_vectorizer.get_feature_names_out()\n",
        "x_test_embedded=pd.DataFrame(unigramdataGet, columns=vocab)"
      ]
    },
    {
      "cell_type": "code",
      "execution_count": 120,
      "id": "dd4b61c9",
      "metadata": {
        "colab": {
          "base_uri": "https://localhost:8080/",
          "height": 424
        },
        "id": "dd4b61c9",
        "outputId": "f10f3af1-76aa-4db1-f158-5a4b1af11f96"
      },
      "outputs": [
        {
          "data": {
            "text/html": [
              "\n",
              "  <div id=\"df-11a503cc-00fc-4b1a-8220-accc8134fb67\">\n",
              "    <div class=\"colab-df-container\">\n",
              "      <div>\n",
              "<style scoped>\n",
              "    .dataframe tbody tr th:only-of-type {\n",
              "        vertical-align: middle;\n",
              "    }\n",
              "\n",
              "    .dataframe tbody tr th {\n",
              "        vertical-align: top;\n",
              "    }\n",
              "\n",
              "    .dataframe thead th {\n",
              "        text-align: right;\n",
              "    }\n",
              "</style>\n",
              "<table border=\"1\" class=\"dataframe\">\n",
              "  <thead>\n",
              "    <tr style=\"text-align: right;\">\n",
              "      <th></th>\n",
              "      <th>aa</th>\n",
              "      <th>aac</th>\n",
              "      <th>aac nt</th>\n",
              "      <th>ab</th>\n",
              "      <th>abbastanza</th>\n",
              "      <th>aber</th>\n",
              "      <th>ability</th>\n",
              "      <th>ability noise</th>\n",
              "      <th>able</th>\n",
              "      <th>able call</th>\n",
              "      <th>...</th>\n",
              "      <th>zoom team</th>\n",
              "      <th>zu</th>\n",
              "      <th>zu die</th>\n",
              "      <th>zudem</th>\n",
              "      <th>zufrieden</th>\n",
              "      <th>zum</th>\n",
              "      <th>zur</th>\n",
              "      <th>zurck</th>\n",
              "      <th>zwei</th>\n",
              "      <th>zx</th>\n",
              "    </tr>\n",
              "  </thead>\n",
              "  <tbody>\n",
              "    <tr>\n",
              "      <th>0</th>\n",
              "      <td>0.0</td>\n",
              "      <td>0.0</td>\n",
              "      <td>0.0</td>\n",
              "      <td>0.0</td>\n",
              "      <td>0.0</td>\n",
              "      <td>0.0</td>\n",
              "      <td>0.0</td>\n",
              "      <td>0.0</td>\n",
              "      <td>0.0</td>\n",
              "      <td>0.0</td>\n",
              "      <td>...</td>\n",
              "      <td>0.0</td>\n",
              "      <td>0.0</td>\n",
              "      <td>0.0</td>\n",
              "      <td>0.0</td>\n",
              "      <td>0.0</td>\n",
              "      <td>0.0</td>\n",
              "      <td>0.0</td>\n",
              "      <td>0.0</td>\n",
              "      <td>0.0</td>\n",
              "      <td>0.0</td>\n",
              "    </tr>\n",
              "    <tr>\n",
              "      <th>1</th>\n",
              "      <td>0.0</td>\n",
              "      <td>0.0</td>\n",
              "      <td>0.0</td>\n",
              "      <td>0.0</td>\n",
              "      <td>0.0</td>\n",
              "      <td>0.0</td>\n",
              "      <td>0.0</td>\n",
              "      <td>0.0</td>\n",
              "      <td>0.0</td>\n",
              "      <td>0.0</td>\n",
              "      <td>...</td>\n",
              "      <td>0.0</td>\n",
              "      <td>0.0</td>\n",
              "      <td>0.0</td>\n",
              "      <td>0.0</td>\n",
              "      <td>0.0</td>\n",
              "      <td>0.0</td>\n",
              "      <td>0.0</td>\n",
              "      <td>0.0</td>\n",
              "      <td>0.0</td>\n",
              "      <td>0.0</td>\n",
              "    </tr>\n",
              "    <tr>\n",
              "      <th>2</th>\n",
              "      <td>0.0</td>\n",
              "      <td>0.0</td>\n",
              "      <td>0.0</td>\n",
              "      <td>0.0</td>\n",
              "      <td>0.0</td>\n",
              "      <td>0.0</td>\n",
              "      <td>0.0</td>\n",
              "      <td>0.0</td>\n",
              "      <td>0.0</td>\n",
              "      <td>0.0</td>\n",
              "      <td>...</td>\n",
              "      <td>0.0</td>\n",
              "      <td>0.0</td>\n",
              "      <td>0.0</td>\n",
              "      <td>0.0</td>\n",
              "      <td>0.0</td>\n",
              "      <td>0.0</td>\n",
              "      <td>0.0</td>\n",
              "      <td>0.0</td>\n",
              "      <td>0.0</td>\n",
              "      <td>0.0</td>\n",
              "    </tr>\n",
              "    <tr>\n",
              "      <th>3</th>\n",
              "      <td>0.0</td>\n",
              "      <td>0.0</td>\n",
              "      <td>0.0</td>\n",
              "      <td>0.0</td>\n",
              "      <td>0.0</td>\n",
              "      <td>0.0</td>\n",
              "      <td>0.0</td>\n",
              "      <td>0.0</td>\n",
              "      <td>0.0</td>\n",
              "      <td>0.0</td>\n",
              "      <td>...</td>\n",
              "      <td>0.0</td>\n",
              "      <td>0.0</td>\n",
              "      <td>0.0</td>\n",
              "      <td>0.0</td>\n",
              "      <td>0.0</td>\n",
              "      <td>0.0</td>\n",
              "      <td>0.0</td>\n",
              "      <td>0.0</td>\n",
              "      <td>0.0</td>\n",
              "      <td>0.0</td>\n",
              "    </tr>\n",
              "    <tr>\n",
              "      <th>4</th>\n",
              "      <td>0.0</td>\n",
              "      <td>0.0</td>\n",
              "      <td>0.0</td>\n",
              "      <td>0.0</td>\n",
              "      <td>0.0</td>\n",
              "      <td>0.0</td>\n",
              "      <td>0.0</td>\n",
              "      <td>0.0</td>\n",
              "      <td>0.0</td>\n",
              "      <td>0.0</td>\n",
              "      <td>...</td>\n",
              "      <td>0.0</td>\n",
              "      <td>0.0</td>\n",
              "      <td>0.0</td>\n",
              "      <td>0.0</td>\n",
              "      <td>0.0</td>\n",
              "      <td>0.0</td>\n",
              "      <td>0.0</td>\n",
              "      <td>0.0</td>\n",
              "      <td>0.0</td>\n",
              "      <td>0.0</td>\n",
              "    </tr>\n",
              "    <tr>\n",
              "      <th>...</th>\n",
              "      <td>...</td>\n",
              "      <td>...</td>\n",
              "      <td>...</td>\n",
              "      <td>...</td>\n",
              "      <td>...</td>\n",
              "      <td>...</td>\n",
              "      <td>...</td>\n",
              "      <td>...</td>\n",
              "      <td>...</td>\n",
              "      <td>...</td>\n",
              "      <td>...</td>\n",
              "      <td>...</td>\n",
              "      <td>...</td>\n",
              "      <td>...</td>\n",
              "      <td>...</td>\n",
              "      <td>...</td>\n",
              "      <td>...</td>\n",
              "      <td>...</td>\n",
              "      <td>...</td>\n",
              "      <td>...</td>\n",
              "      <td>...</td>\n",
              "    </tr>\n",
              "    <tr>\n",
              "      <th>2520</th>\n",
              "      <td>0.0</td>\n",
              "      <td>0.0</td>\n",
              "      <td>0.0</td>\n",
              "      <td>0.0</td>\n",
              "      <td>0.0</td>\n",
              "      <td>0.0</td>\n",
              "      <td>0.0</td>\n",
              "      <td>0.0</td>\n",
              "      <td>0.0</td>\n",
              "      <td>0.0</td>\n",
              "      <td>...</td>\n",
              "      <td>0.0</td>\n",
              "      <td>0.0</td>\n",
              "      <td>0.0</td>\n",
              "      <td>0.0</td>\n",
              "      <td>0.0</td>\n",
              "      <td>0.0</td>\n",
              "      <td>0.0</td>\n",
              "      <td>0.0</td>\n",
              "      <td>0.0</td>\n",
              "      <td>0.0</td>\n",
              "    </tr>\n",
              "    <tr>\n",
              "      <th>2521</th>\n",
              "      <td>0.0</td>\n",
              "      <td>0.0</td>\n",
              "      <td>0.0</td>\n",
              "      <td>0.0</td>\n",
              "      <td>0.0</td>\n",
              "      <td>0.0</td>\n",
              "      <td>0.0</td>\n",
              "      <td>0.0</td>\n",
              "      <td>0.0</td>\n",
              "      <td>0.0</td>\n",
              "      <td>...</td>\n",
              "      <td>0.0</td>\n",
              "      <td>0.0</td>\n",
              "      <td>0.0</td>\n",
              "      <td>0.0</td>\n",
              "      <td>0.0</td>\n",
              "      <td>0.0</td>\n",
              "      <td>0.0</td>\n",
              "      <td>0.0</td>\n",
              "      <td>0.0</td>\n",
              "      <td>0.0</td>\n",
              "    </tr>\n",
              "    <tr>\n",
              "      <th>2522</th>\n",
              "      <td>0.0</td>\n",
              "      <td>0.0</td>\n",
              "      <td>0.0</td>\n",
              "      <td>0.0</td>\n",
              "      <td>0.0</td>\n",
              "      <td>0.0</td>\n",
              "      <td>0.0</td>\n",
              "      <td>0.0</td>\n",
              "      <td>0.0</td>\n",
              "      <td>0.0</td>\n",
              "      <td>...</td>\n",
              "      <td>0.0</td>\n",
              "      <td>0.0</td>\n",
              "      <td>0.0</td>\n",
              "      <td>0.0</td>\n",
              "      <td>0.0</td>\n",
              "      <td>0.0</td>\n",
              "      <td>0.0</td>\n",
              "      <td>0.0</td>\n",
              "      <td>0.0</td>\n",
              "      <td>0.0</td>\n",
              "    </tr>\n",
              "    <tr>\n",
              "      <th>2523</th>\n",
              "      <td>0.0</td>\n",
              "      <td>0.0</td>\n",
              "      <td>0.0</td>\n",
              "      <td>0.0</td>\n",
              "      <td>0.0</td>\n",
              "      <td>0.0</td>\n",
              "      <td>0.0</td>\n",
              "      <td>0.0</td>\n",
              "      <td>0.0</td>\n",
              "      <td>0.0</td>\n",
              "      <td>...</td>\n",
              "      <td>0.0</td>\n",
              "      <td>0.0</td>\n",
              "      <td>0.0</td>\n",
              "      <td>0.0</td>\n",
              "      <td>0.0</td>\n",
              "      <td>0.0</td>\n",
              "      <td>0.0</td>\n",
              "      <td>0.0</td>\n",
              "      <td>0.0</td>\n",
              "      <td>0.0</td>\n",
              "    </tr>\n",
              "    <tr>\n",
              "      <th>2524</th>\n",
              "      <td>0.0</td>\n",
              "      <td>0.0</td>\n",
              "      <td>0.0</td>\n",
              "      <td>0.0</td>\n",
              "      <td>0.0</td>\n",
              "      <td>0.0</td>\n",
              "      <td>0.0</td>\n",
              "      <td>0.0</td>\n",
              "      <td>0.0</td>\n",
              "      <td>0.0</td>\n",
              "      <td>...</td>\n",
              "      <td>0.0</td>\n",
              "      <td>0.0</td>\n",
              "      <td>0.0</td>\n",
              "      <td>0.0</td>\n",
              "      <td>0.0</td>\n",
              "      <td>0.0</td>\n",
              "      <td>0.0</td>\n",
              "      <td>0.0</td>\n",
              "      <td>0.0</td>\n",
              "      <td>0.0</td>\n",
              "    </tr>\n",
              "  </tbody>\n",
              "</table>\n",
              "<p>2525 rows × 25000 columns</p>\n",
              "</div>\n",
              "      <button class=\"colab-df-convert\" onclick=\"convertToInteractive('df-11a503cc-00fc-4b1a-8220-accc8134fb67')\"\n",
              "              title=\"Convert this dataframe to an interactive table.\"\n",
              "              style=\"display:none;\">\n",
              "        \n",
              "  <svg xmlns=\"http://www.w3.org/2000/svg\" height=\"24px\"viewBox=\"0 0 24 24\"\n",
              "       width=\"24px\">\n",
              "    <path d=\"M0 0h24v24H0V0z\" fill=\"none\"/>\n",
              "    <path d=\"M18.56 5.44l.94 2.06.94-2.06 2.06-.94-2.06-.94-.94-2.06-.94 2.06-2.06.94zm-11 1L8.5 8.5l.94-2.06 2.06-.94-2.06-.94L8.5 2.5l-.94 2.06-2.06.94zm10 10l.94 2.06.94-2.06 2.06-.94-2.06-.94-.94-2.06-.94 2.06-2.06.94z\"/><path d=\"M17.41 7.96l-1.37-1.37c-.4-.4-.92-.59-1.43-.59-.52 0-1.04.2-1.43.59L10.3 9.45l-7.72 7.72c-.78.78-.78 2.05 0 2.83L4 21.41c.39.39.9.59 1.41.59.51 0 1.02-.2 1.41-.59l7.78-7.78 2.81-2.81c.8-.78.8-2.07 0-2.86zM5.41 20L4 18.59l7.72-7.72 1.47 1.35L5.41 20z\"/>\n",
              "  </svg>\n",
              "      </button>\n",
              "      \n",
              "  <style>\n",
              "    .colab-df-container {\n",
              "      display:flex;\n",
              "      flex-wrap:wrap;\n",
              "      gap: 12px;\n",
              "    }\n",
              "\n",
              "    .colab-df-convert {\n",
              "      background-color: #E8F0FE;\n",
              "      border: none;\n",
              "      border-radius: 50%;\n",
              "      cursor: pointer;\n",
              "      display: none;\n",
              "      fill: #1967D2;\n",
              "      height: 32px;\n",
              "      padding: 0 0 0 0;\n",
              "      width: 32px;\n",
              "    }\n",
              "\n",
              "    .colab-df-convert:hover {\n",
              "      background-color: #E2EBFA;\n",
              "      box-shadow: 0px 1px 2px rgba(60, 64, 67, 0.3), 0px 1px 3px 1px rgba(60, 64, 67, 0.15);\n",
              "      fill: #174EA6;\n",
              "    }\n",
              "\n",
              "    [theme=dark] .colab-df-convert {\n",
              "      background-color: #3B4455;\n",
              "      fill: #D2E3FC;\n",
              "    }\n",
              "\n",
              "    [theme=dark] .colab-df-convert:hover {\n",
              "      background-color: #434B5C;\n",
              "      box-shadow: 0px 1px 3px 1px rgba(0, 0, 0, 0.15);\n",
              "      filter: drop-shadow(0px 1px 2px rgba(0, 0, 0, 0.3));\n",
              "      fill: #FFFFFF;\n",
              "    }\n",
              "  </style>\n",
              "\n",
              "      <script>\n",
              "        const buttonEl =\n",
              "          document.querySelector('#df-11a503cc-00fc-4b1a-8220-accc8134fb67 button.colab-df-convert');\n",
              "        buttonEl.style.display =\n",
              "          google.colab.kernel.accessAllowed ? 'block' : 'none';\n",
              "\n",
              "        async function convertToInteractive(key) {\n",
              "          const element = document.querySelector('#df-11a503cc-00fc-4b1a-8220-accc8134fb67');\n",
              "          const dataTable =\n",
              "            await google.colab.kernel.invokeFunction('convertToInteractive',\n",
              "                                                     [key], {});\n",
              "          if (!dataTable) return;\n",
              "\n",
              "          const docLinkHtml = 'Like what you see? Visit the ' +\n",
              "            '<a target=\"_blank\" href=https://colab.research.google.com/notebooks/data_table.ipynb>data table notebook</a>'\n",
              "            + ' to learn more about interactive tables.';\n",
              "          element.innerHTML = '';\n",
              "          dataTable['output_type'] = 'display_data';\n",
              "          await google.colab.output.renderOutput(dataTable, element);\n",
              "          const docLink = document.createElement('div');\n",
              "          docLink.innerHTML = docLinkHtml;\n",
              "          element.appendChild(docLink);\n",
              "        }\n",
              "      </script>\n",
              "    </div>\n",
              "  </div>\n",
              "  "
            ],
            "text/plain": [
              "       aa  aac  aac nt   ab  abbastanza  aber  ability  ability noise  able  \\\n",
              "0     0.0  0.0     0.0  0.0         0.0   0.0      0.0            0.0   0.0   \n",
              "1     0.0  0.0     0.0  0.0         0.0   0.0      0.0            0.0   0.0   \n",
              "2     0.0  0.0     0.0  0.0         0.0   0.0      0.0            0.0   0.0   \n",
              "3     0.0  0.0     0.0  0.0         0.0   0.0      0.0            0.0   0.0   \n",
              "4     0.0  0.0     0.0  0.0         0.0   0.0      0.0            0.0   0.0   \n",
              "...   ...  ...     ...  ...         ...   ...      ...            ...   ...   \n",
              "2520  0.0  0.0     0.0  0.0         0.0   0.0      0.0            0.0   0.0   \n",
              "2521  0.0  0.0     0.0  0.0         0.0   0.0      0.0            0.0   0.0   \n",
              "2522  0.0  0.0     0.0  0.0         0.0   0.0      0.0            0.0   0.0   \n",
              "2523  0.0  0.0     0.0  0.0         0.0   0.0      0.0            0.0   0.0   \n",
              "2524  0.0  0.0     0.0  0.0         0.0   0.0      0.0            0.0   0.0   \n",
              "\n",
              "      able call  ...  zoom team   zu  zu die  zudem  zufrieden  zum  zur  \\\n",
              "0           0.0  ...        0.0  0.0     0.0    0.0        0.0  0.0  0.0   \n",
              "1           0.0  ...        0.0  0.0     0.0    0.0        0.0  0.0  0.0   \n",
              "2           0.0  ...        0.0  0.0     0.0    0.0        0.0  0.0  0.0   \n",
              "3           0.0  ...        0.0  0.0     0.0    0.0        0.0  0.0  0.0   \n",
              "4           0.0  ...        0.0  0.0     0.0    0.0        0.0  0.0  0.0   \n",
              "...         ...  ...        ...  ...     ...    ...        ...  ...  ...   \n",
              "2520        0.0  ...        0.0  0.0     0.0    0.0        0.0  0.0  0.0   \n",
              "2521        0.0  ...        0.0  0.0     0.0    0.0        0.0  0.0  0.0   \n",
              "2522        0.0  ...        0.0  0.0     0.0    0.0        0.0  0.0  0.0   \n",
              "2523        0.0  ...        0.0  0.0     0.0    0.0        0.0  0.0  0.0   \n",
              "2524        0.0  ...        0.0  0.0     0.0    0.0        0.0  0.0  0.0   \n",
              "\n",
              "      zurck  zwei   zx  \n",
              "0       0.0   0.0  0.0  \n",
              "1       0.0   0.0  0.0  \n",
              "2       0.0   0.0  0.0  \n",
              "3       0.0   0.0  0.0  \n",
              "4       0.0   0.0  0.0  \n",
              "...     ...   ...  ...  \n",
              "2520    0.0   0.0  0.0  \n",
              "2521    0.0   0.0  0.0  \n",
              "2522    0.0   0.0  0.0  \n",
              "2523    0.0   0.0  0.0  \n",
              "2524    0.0   0.0  0.0  \n",
              "\n",
              "[2525 rows x 25000 columns]"
            ]
          },
          "execution_count": 120,
          "metadata": {},
          "output_type": "execute_result"
        }
      ],
      "source": [
        "x_test_embedded"
      ]
    },
    {
      "attachments": {},
      "cell_type": "markdown",
      "id": "6b9d3284",
      "metadata": {
        "id": "6b9d3284"
      },
      "source": [
        "# ML models"
      ]
    },
    {
      "cell_type": "code",
      "execution_count": 91,
      "id": "6a6a8156",
      "metadata": {
        "id": "6a6a8156"
      },
      "outputs": [],
      "source": [
        "from sklearn.metrics import log_loss"
      ]
    },
    {
      "attachments": {},
      "cell_type": "markdown",
      "id": "766594ab",
      "metadata": {
        "id": "766594ab"
      },
      "source": [
        "### Random Forest"
      ]
    },
    {
      "cell_type": "code",
      "execution_count": null,
      "id": "d8709600",
      "metadata": {
        "id": "d8709600"
      },
      "outputs": [],
      "source": [
        "from sklearn.ensemble import RandomForestClassifier\n",
        "trained_clf_random_forest = RandomForestClassifier(n_estimators=50).fit(x_train_embedded, y_train)"
      ]
    },
    {
      "cell_type": "code",
      "execution_count": null,
      "id": "75f32a44",
      "metadata": {
        "id": "75f32a44",
        "outputId": "3cd1d6f1-bcc9-44e5-9d72-200ba102322e"
      },
      "outputs": [
        {
          "name": "stdout",
          "output_type": "stream",
          "text": [
            "Training accuracy  : 0.9956288247783189\n",
            "Testing accuracy   : 0.8978436433269503\n",
            "Training loss      : 0.07886048734412338\n",
            "Testing loss       : 0.27474044293313277\n"
          ]
        }
      ],
      "source": [
        "# Predict the labels of the test data\n",
        "test_predictions = trained_clf_random_forest.predict(x_test_embedded)\n",
        "print(\"Training accuracy  :\", trained_clf_random_forest.score(x_train_embedded, y_train))\n",
        "print(\"Testing accuracy   :\",accuracy_score(test_predictions, y_test))\n",
        "test_probabilities = trained_clf_random_forest.predict_proba(x_test_embedded)\n",
        "train_probabilities = trained_clf_random_forest.predict_proba(x_train_embedded)\n",
        "\n",
        "test_loss = log_loss(y_test, test_probabilities)\n",
        "train_loss = log_loss(y_train, train_probabilities)\n",
        "print(\"Training loss      :\", train_loss)\n",
        "print(\"Testing loss       :\", test_loss)"
      ]
    },
    {
      "attachments": {},
      "cell_type": "markdown",
      "id": "2f8e838e",
      "metadata": {
        "id": "2f8e838e"
      },
      "source": [
        "### Logistic Regression\n"
      ]
    },
    {
      "cell_type": "code",
      "execution_count": 121,
      "id": "c57c2d2b",
      "metadata": {
        "colab": {
          "base_uri": "https://localhost:8080/"
        },
        "id": "c57c2d2b",
        "outputId": "7e5b0247-95b9-4b60-cc04-980a2ffc4b5e"
      },
      "outputs": [
        {
          "name": "stdout",
          "output_type": "stream",
          "text": [
            "Training accuracy  : 0.929712600677787\n",
            "Testing accuracy   : 0.9172277227722773\n",
            "Training loss      : 0.1773595486590084\n",
            "Testing loss       : 0.19875228739879208\n"
          ]
        }
      ],
      "source": [
        "from sklearn.linear_model import LogisticRegression\n",
        "# Train the logistic regression model\n",
        "clf = LogisticRegression(solver='lbfgs').fit(x_train_embedded,y_train)\n",
        "\n",
        "# Predict the labels of the test data\n",
        "test_predictions = clf.predict(x_test_embedded)\n",
        "print(\"Training accuracy  :\", clf.score(x_train_embedded, y_train))\n",
        "print(\"Testing accuracy   :\",accuracy_score(test_predictions, y_test))\n",
        "test_probabilities = clf.predict_proba(x_test_embedded)\n",
        "train_probabilities = clf.predict_proba(x_train_embedded)\n",
        "\n",
        "test_loss = log_loss(y_test, test_probabilities)\n",
        "train_loss = log_loss(y_train, train_probabilities)\n",
        "print(\"Training loss      :\", train_loss)\n",
        "print(\"Testing loss       :\", test_loss)"
      ]
    },
    {
      "cell_type": "code",
      "execution_count": 135,
      "id": "LHm-ych18ske",
      "metadata": {
        "colab": {
          "base_uri": "https://localhost:8080/"
        },
        "id": "LHm-ych18ske",
        "outputId": "7e16d814-cf05-45bf-8212-39b358c39d68"
      },
      "outputs": [
        {
          "data": {
            "text/plain": [
              "['battery love phone day life absolutely exceptional quality Highly last camera recommended',\n",
              " 'display phone outstanding run quickly load vibrant apps sharp performance smoothly',\n",
              " 'fingerprint impressive phone sleek design sensor work ratio flawlessly stylish screentobody',\n",
              " 'produce listening phone watching perfect quality superb sound video music clear speaker loud audio',\n",
              " 'phone user interface navigate liking intuitive easy setting userfriendly customize',\n",
              " 'battery drain phone day life disappointed quickly multiple time charge',\n",
              " 'expectation often blurry phone especially meet nt condition camera turn lowlight photo',\n",
              " 'phone usage prolonged becomes uncomfortable slows hold tends overheat performance',\n",
              " 'glitch phone software occasionally properly requires restart freeze experienced function frequent',\n",
              " 'sturdy phone hand cheap nt subpar quality used material feel build']"
            ]
          },
          "execution_count": 135,
          "metadata": {},
          "output_type": "execute_result"
        }
      ],
      "source": [
        "df_preprocessor = TextPreprocessor()\n",
        "positive_reviews = [\n",
        "    \"I absolutely love this phone! The camera quality is exceptional, and the battery life lasts all day. Highly recommended!\",\n",
        "    \"The performance of this phone is outstanding. It runs smoothly, and the apps load quickly. The display is vibrant and sharp.\",\n",
        "    \"This phone has a sleek and stylish design. The screen-to-body ratio is impressive, and the fingerprint sensor works flawlessly.\",\n",
        "    \"The audio quality on this phone is superb. The speakers produce clear and loud sound, perfect for watching videos or listening to music.\",\n",
        "    \"The phone's user interface is intuitive and user-friendly. It's easy to navigate through the settings and customize the phone to my liking.\"\n",
        "]\n",
        "\n",
        "negative_reviews = [\n",
        "    \"I'm disappointed with the battery life of this phone. It drains quickly, and I have to charge it multiple times a day.\",\n",
        "    \"The camera on this phone doesn't meet my expectations. The photos often turn out blurry, especially in low-light conditions.\",\n",
        "    \"The phone tends to overheat during prolonged usage. It becomes uncomfortable to hold, and the performance slows down.\",\n",
        "    \"I've experienced frequent software glitches with this phone. It freezes occasionally and requires a restart to function properly.\",\n",
        "    \"The build quality of this phone is subpar. The materials used feel cheap, and the phone doesn't feel sturdy in hand.\"\n",
        "]\n",
        "\n",
        "reviews = positive_reviews + negative_reviews\n",
        "testing = [df_preprocessor.preprocessing(text) for text in reviews]\n",
        "# print(testing)\n",
        "result=[]\n",
        "for test in testing:\n",
        "    result.append(' '.join(test))\n",
        "result"
      ]
    },
    {
      "cell_type": "code",
      "execution_count": 136,
      "id": "e0NpHJTG8k5v",
      "metadata": {
        "id": "e0NpHJTG8k5v"
      },
      "outputs": [],
      "source": [
        "unigramdataGet= word_vectorizer.transform(result)\n",
        "unigramdataGet = unigramdataGet.toarray()\n",
        "vocab = word_vectorizer.get_feature_names_out()\n",
        "x_test=pd.DataFrame(unigramdataGet, columns=vocab)"
      ]
    },
    {
      "cell_type": "code",
      "execution_count": 138,
      "id": "lc4HNub69-ZM",
      "metadata": {
        "id": "lc4HNub69-ZM"
      },
      "outputs": [],
      "source": [
        "Prediction=clf.predict(x_test)"
      ]
    },
    {
      "cell_type": "code",
      "execution_count": 139,
      "id": "ak3POnlN-Ckt",
      "metadata": {
        "id": "ak3POnlN-Ckt"
      },
      "outputs": [],
      "source": [
        "df5=pd.DataFrame()\n",
        "df5['Review']=reviews\n",
        "df5[\"Prediction\"]=Prediction"
      ]
    },
    {
      "cell_type": "code",
      "execution_count": 140,
      "id": "e64JSOoY-Hed",
      "metadata": {
        "colab": {
          "base_uri": "https://localhost:8080/",
          "height": 363
        },
        "id": "e64JSOoY-Hed",
        "outputId": "000efa0e-6cbf-4aa4-9c36-69c9b47662d0"
      },
      "outputs": [
        {
          "data": {
            "text/html": [
              "\n",
              "  <div id=\"df-d96f38a7-3e1a-4825-96fc-108d58527d8a\">\n",
              "    <div class=\"colab-df-container\">\n",
              "      <div>\n",
              "<style scoped>\n",
              "    .dataframe tbody tr th:only-of-type {\n",
              "        vertical-align: middle;\n",
              "    }\n",
              "\n",
              "    .dataframe tbody tr th {\n",
              "        vertical-align: top;\n",
              "    }\n",
              "\n",
              "    .dataframe thead th {\n",
              "        text-align: right;\n",
              "    }\n",
              "</style>\n",
              "<table border=\"1\" class=\"dataframe\">\n",
              "  <thead>\n",
              "    <tr style=\"text-align: right;\">\n",
              "      <th></th>\n",
              "      <th>Review</th>\n",
              "      <th>Prediction</th>\n",
              "    </tr>\n",
              "  </thead>\n",
              "  <tbody>\n",
              "    <tr>\n",
              "      <th>0</th>\n",
              "      <td>I absolutely love this phone! The camera quali...</td>\n",
              "      <td>0</td>\n",
              "    </tr>\n",
              "    <tr>\n",
              "      <th>1</th>\n",
              "      <td>The performance of this phone is outstanding. ...</td>\n",
              "      <td>0</td>\n",
              "    </tr>\n",
              "    <tr>\n",
              "      <th>2</th>\n",
              "      <td>This phone has a sleek and stylish design. The...</td>\n",
              "      <td>0</td>\n",
              "    </tr>\n",
              "    <tr>\n",
              "      <th>3</th>\n",
              "      <td>The audio quality on this phone is superb. The...</td>\n",
              "      <td>0</td>\n",
              "    </tr>\n",
              "    <tr>\n",
              "      <th>4</th>\n",
              "      <td>The phone's user interface is intuitive and us...</td>\n",
              "      <td>0</td>\n",
              "    </tr>\n",
              "    <tr>\n",
              "      <th>5</th>\n",
              "      <td>I'm disappointed with the battery life of this...</td>\n",
              "      <td>0</td>\n",
              "    </tr>\n",
              "    <tr>\n",
              "      <th>6</th>\n",
              "      <td>The camera on this phone doesn't meet my expec...</td>\n",
              "      <td>0</td>\n",
              "    </tr>\n",
              "    <tr>\n",
              "      <th>7</th>\n",
              "      <td>The phone tends to overheat during prolonged u...</td>\n",
              "      <td>0</td>\n",
              "    </tr>\n",
              "    <tr>\n",
              "      <th>8</th>\n",
              "      <td>I've experienced frequent software glitches wi...</td>\n",
              "      <td>0</td>\n",
              "    </tr>\n",
              "    <tr>\n",
              "      <th>9</th>\n",
              "      <td>The build quality of this phone is subpar. The...</td>\n",
              "      <td>0</td>\n",
              "    </tr>\n",
              "  </tbody>\n",
              "</table>\n",
              "</div>\n",
              "      <button class=\"colab-df-convert\" onclick=\"convertToInteractive('df-d96f38a7-3e1a-4825-96fc-108d58527d8a')\"\n",
              "              title=\"Convert this dataframe to an interactive table.\"\n",
              "              style=\"display:none;\">\n",
              "        \n",
              "  <svg xmlns=\"http://www.w3.org/2000/svg\" height=\"24px\"viewBox=\"0 0 24 24\"\n",
              "       width=\"24px\">\n",
              "    <path d=\"M0 0h24v24H0V0z\" fill=\"none\"/>\n",
              "    <path d=\"M18.56 5.44l.94 2.06.94-2.06 2.06-.94-2.06-.94-.94-2.06-.94 2.06-2.06.94zm-11 1L8.5 8.5l.94-2.06 2.06-.94-2.06-.94L8.5 2.5l-.94 2.06-2.06.94zm10 10l.94 2.06.94-2.06 2.06-.94-2.06-.94-.94-2.06-.94 2.06-2.06.94z\"/><path d=\"M17.41 7.96l-1.37-1.37c-.4-.4-.92-.59-1.43-.59-.52 0-1.04.2-1.43.59L10.3 9.45l-7.72 7.72c-.78.78-.78 2.05 0 2.83L4 21.41c.39.39.9.59 1.41.59.51 0 1.02-.2 1.41-.59l7.78-7.78 2.81-2.81c.8-.78.8-2.07 0-2.86zM5.41 20L4 18.59l7.72-7.72 1.47 1.35L5.41 20z\"/>\n",
              "  </svg>\n",
              "      </button>\n",
              "      \n",
              "  <style>\n",
              "    .colab-df-container {\n",
              "      display:flex;\n",
              "      flex-wrap:wrap;\n",
              "      gap: 12px;\n",
              "    }\n",
              "\n",
              "    .colab-df-convert {\n",
              "      background-color: #E8F0FE;\n",
              "      border: none;\n",
              "      border-radius: 50%;\n",
              "      cursor: pointer;\n",
              "      display: none;\n",
              "      fill: #1967D2;\n",
              "      height: 32px;\n",
              "      padding: 0 0 0 0;\n",
              "      width: 32px;\n",
              "    }\n",
              "\n",
              "    .colab-df-convert:hover {\n",
              "      background-color: #E2EBFA;\n",
              "      box-shadow: 0px 1px 2px rgba(60, 64, 67, 0.3), 0px 1px 3px 1px rgba(60, 64, 67, 0.15);\n",
              "      fill: #174EA6;\n",
              "    }\n",
              "\n",
              "    [theme=dark] .colab-df-convert {\n",
              "      background-color: #3B4455;\n",
              "      fill: #D2E3FC;\n",
              "    }\n",
              "\n",
              "    [theme=dark] .colab-df-convert:hover {\n",
              "      background-color: #434B5C;\n",
              "      box-shadow: 0px 1px 3px 1px rgba(0, 0, 0, 0.15);\n",
              "      filter: drop-shadow(0px 1px 2px rgba(0, 0, 0, 0.3));\n",
              "      fill: #FFFFFF;\n",
              "    }\n",
              "  </style>\n",
              "\n",
              "      <script>\n",
              "        const buttonEl =\n",
              "          document.querySelector('#df-d96f38a7-3e1a-4825-96fc-108d58527d8a button.colab-df-convert');\n",
              "        buttonEl.style.display =\n",
              "          google.colab.kernel.accessAllowed ? 'block' : 'none';\n",
              "\n",
              "        async function convertToInteractive(key) {\n",
              "          const element = document.querySelector('#df-d96f38a7-3e1a-4825-96fc-108d58527d8a');\n",
              "          const dataTable =\n",
              "            await google.colab.kernel.invokeFunction('convertToInteractive',\n",
              "                                                     [key], {});\n",
              "          if (!dataTable) return;\n",
              "\n",
              "          const docLinkHtml = 'Like what you see? Visit the ' +\n",
              "            '<a target=\"_blank\" href=https://colab.research.google.com/notebooks/data_table.ipynb>data table notebook</a>'\n",
              "            + ' to learn more about interactive tables.';\n",
              "          element.innerHTML = '';\n",
              "          dataTable['output_type'] = 'display_data';\n",
              "          await google.colab.output.renderOutput(dataTable, element);\n",
              "          const docLink = document.createElement('div');\n",
              "          docLink.innerHTML = docLinkHtml;\n",
              "          element.appendChild(docLink);\n",
              "        }\n",
              "      </script>\n",
              "    </div>\n",
              "  </div>\n",
              "  "
            ],
            "text/plain": [
              "                                              Review  Prediction\n",
              "0  I absolutely love this phone! The camera quali...           0\n",
              "1  The performance of this phone is outstanding. ...           0\n",
              "2  This phone has a sleek and stylish design. The...           0\n",
              "3  The audio quality on this phone is superb. The...           0\n",
              "4  The phone's user interface is intuitive and us...           0\n",
              "5  I'm disappointed with the battery life of this...           0\n",
              "6  The camera on this phone doesn't meet my expec...           0\n",
              "7  The phone tends to overheat during prolonged u...           0\n",
              "8  I've experienced frequent software glitches wi...           0\n",
              "9  The build quality of this phone is subpar. The...           0"
            ]
          },
          "execution_count": 140,
          "metadata": {},
          "output_type": "execute_result"
        }
      ],
      "source": [
        "df5\n"
      ]
    },
    {
      "cell_type": "code",
      "execution_count": null,
      "id": "cd003544",
      "metadata": {
        "id": "cd003544"
      },
      "outputs": [],
      "source": [
        "import pickle\n",
        "pickle.dump(clf, open(\"Approach2_English_LogisticRegression.pk\", \"wb\"))"
      ]
    },
    {
      "cell_type": "code",
      "execution_count": null,
      "id": "b7538156",
      "metadata": {
        "id": "b7538156",
        "outputId": "6ccb6cff-5802-4dc8-b150-c20154826601"
      },
      "outputs": [
        {
          "data": {
            "image/png": "[encoded data removed]",
            "text/plain": [
              "<Figure size 640x480 with 2 Axes>"
            ]
          },
          "metadata": {},
          "output_type": "display_data"
        }
      ],
      "source": [
        "from sklearn.metrics import confusion_matrix, ConfusionMatrixDisplay\n",
        "cm_log = confusion_matrix( y_test, test_predictions, labels=clf.classes_)\n",
        "disp = ConfusionMatrixDisplay(confusion_matrix=cm_log,\n",
        "                          display_labels=clf.classes_)\n",
        "disp.plot()\n",
        "\n",
        "plt.show()"
      ]
    },
    {
      "cell_type": "code",
      "execution_count": null,
      "id": "45687328",
      "metadata": {
        "id": "45687328",
        "outputId": "d63d9151-82c7-4557-85c0-758fd8ef4ac1"
      },
      "outputs": [
        {
          "name": "stdout",
          "output_type": "stream",
          "text": [
            "              precision    recall  f1-score   support\n",
            "\n",
            "           0       0.92      0.93      0.93      6573\n",
            "           1       0.92      0.91      0.91      5438\n",
            "\n",
            "    accuracy                           0.92     12011\n",
            "   macro avg       0.92      0.92      0.92     12011\n",
            "weighted avg       0.92      0.92      0.92     12011\n",
            "\n"
          ]
        }
      ],
      "source": [
        "from sklearn.metrics import classification_report\n",
        "print(classification_report(y_test, test_predictions))"
      ]
    },
    {
      "attachments": {},
      "cell_type": "markdown",
      "id": "81773f88",
      "metadata": {
        "id": "81773f88"
      },
      "source": [
        "### SVC"
      ]
    },
    {
      "cell_type": "code",
      "execution_count": null,
      "id": "475c0fbe",
      "metadata": {
        "id": "475c0fbe",
        "outputId": "983a42e9-75f0-4b9b-9a53-dd45cc32341a"
      },
      "outputs": [
        {
          "name": "stdout",
          "output_type": "stream",
          "text": [
            "Training accuracy: 0.9614087673285875\n",
            "test accuracy: 0.9197402381150612\n"
          ]
        }
      ],
      "source": [
        "from sklearn.svm import LinearSVC\n",
        "from sklearn.metrics import accuracy_score\n",
        "trained_clf_svc = LinearSVC().fit(x_train_embedded,y_train)\n",
        "print(\"Training accuracy:\", trained_clf_svc.score(x_train_embedded,y_train))\n",
        "svc_y_pred = trained_clf_svc.predict(x_test_embedded)\n",
        "print(\"test accuracy:\", accuracy_score(y_test, svc_y_pred))"
      ]
    },
    {
      "cell_type": "code",
      "execution_count": null,
      "id": "7ea13477",
      "metadata": {
        "id": "7ea13477",
        "outputId": "d4efcca3-a91b-4992-e4b8-9a837ae30bc5"
      },
      "outputs": [
        {
          "data": {
            "image/png": "[encoded data removed]",
            "text/plain": [
              "<Figure size 640x480 with 2 Axes>"
            ]
          },
          "metadata": {},
          "output_type": "display_data"
        }
      ],
      "source": [
        "from sklearn.metrics import confusion_matrix, ConfusionMatrixDisplay\n",
        "cm_svc = confusion_matrix( y_test, svc_y_pred, labels=trained_clf_svc.classes_)\n",
        "disp = ConfusionMatrixDisplay(confusion_matrix=cm_svc,\n",
        "                          display_labels=trained_clf_svc.classes_)\n",
        "disp.plot()\n",
        "\n",
        "plt.show()"
      ]
    },
    {
      "cell_type": "code",
      "execution_count": null,
      "id": "938e1244",
      "metadata": {
        "id": "938e1244",
        "outputId": "ee228d4b-0287-4a04-f611-9991ef3159d7"
      },
      "outputs": [
        {
          "name": "stdout",
          "output_type": "stream",
          "text": [
            "              precision    recall  f1-score   support\n",
            "\n",
            "           0       0.93      0.93      0.93      6573\n",
            "           1       0.91      0.91      0.91      5438\n",
            "\n",
            "    accuracy                           0.92     12011\n",
            "   macro avg       0.92      0.92      0.92     12011\n",
            "weighted avg       0.92      0.92      0.92     12011\n",
            "\n"
          ]
        }
      ],
      "source": [
        "from sklearn.metrics import classification_report\n",
        "print(classification_report(y_test, svc_y_pred))"
      ]
    },
    {
      "attachments": {},
      "cell_type": "markdown",
      "id": "94a12f91",
      "metadata": {
        "id": "94a12f91"
      },
      "source": [
        "### naive bayes"
      ]
    },
    {
      "cell_type": "code",
      "execution_count": null,
      "id": "d1911caa",
      "metadata": {
        "id": "d1911caa",
        "outputId": "e0301d0b-c2cc-4a8b-e678-0874e4d4119c"
      },
      "outputs": [
        {
          "name": "stdout",
          "output_type": "stream",
          "text": [
            "Training accuracy: 0.8558136630448357\n",
            "Testing accuracy   : 0.8148363999666972\n"
          ]
        }
      ],
      "source": [
        "from sklearn.naive_bayes import GaussianNB\n",
        "NB_clf = GaussianNB()\n",
        "NB_clf.fit(x_train_embedded,y_train)\n",
        "print(\"Training accuracy:\", NB_clf.score(x_train_embedded, y_train))\n",
        "NB_y_pred = NB_clf.predict(x_test_embedded)\n",
        "print(\"Testing accuracy   :\",accuracy_score(NB_y_pred, y_test))"
      ]
    },
    {
      "attachments": {},
      "cell_type": "markdown",
      "id": "bdbe2369",
      "metadata": {
        "id": "bdbe2369"
      },
      "source": [
        "## TPU"
      ]
    },
    {
      "cell_type": "code",
      "execution_count": 35,
      "id": "f0783b65",
      "metadata": {
        "colab": {
          "base_uri": "https://localhost:8080/"
        },
        "id": "f0783b65",
        "outputId": "d35ea25b-7df6-4e90-faa9-2015bfc9b811",
        "scrolled": true
      },
      "outputs": [
        {
          "name": "stdout",
          "output_type": "stream",
          "text": [
            "Running on TPU  grpc://10.69.15.202:8470\n"
          ]
        },
        {
          "name": "stderr",
          "output_type": "stream",
          "text": [
            "WARNING:absl:`tf.distribute.experimental.TPUStrategy` is deprecated, please use  the non experimental symbol `tf.distribute.TPUStrategy` instead.\n"
          ]
        },
        {
          "name": "stdout",
          "output_type": "stream",
          "text": [
            "REPLICAS:  8\n"
          ]
        }
      ],
      "source": [
        "import tensorflow as tf\n",
        "# Detect hardware, return appropriate distribution strategy\n",
        "try:\n",
        "    # TPU detection. No parameters necessary if TPU_NAME environment variable is\n",
        "    # set: this is always the case on Kaggle.\n",
        "    tpu = tf.distribute.cluster_resolver.TPUClusterResolver()\n",
        "    print('Running on TPU ', tpu.master())\n",
        "except ValueError:\n",
        "    tpu = None\n",
        "\n",
        "if tpu:\n",
        "    tf.config.experimental_connect_to_cluster(tpu)\n",
        "    tf.tpu.experimental.initialize_tpu_system(tpu)\n",
        "    strategy = tf.distribute.experimental.TPUStrategy(tpu)\n",
        "else:\n",
        "    # Default distribution strategy in Tensorflow. Works on CPU and single GPU.\n",
        "    strategy = tf.distribute.get_strategy()\n",
        "\n",
        "print(\"REPLICAS: \", strategy.num_replicas_in_sync)"
      ]
    },
    {
      "attachments": {},
      "cell_type": "markdown",
      "id": "7f603777",
      "metadata": {
        "id": "7f603777"
      },
      "source": [
        "## Word Embedding\n"
      ]
    },
    {
      "cell_type": "code",
      "execution_count": 70,
      "id": "9177bee7",
      "metadata": {
        "id": "9177bee7"
      },
      "outputs": [],
      "source": [
        "# from sklearn.model_selection import train_test_split\n",
        "# X_train, X_test, label_train, label_test = train_test_split(df['processed_text'], df['Rating'], test_size=0.1, random_state=42,shuffle=True)\n",
        "# print(\"Training:\", len(X_train))\n",
        "# print(\"Testing: \", len(X_test))"
      ]
    },
    {
      "cell_type": "code",
      "execution_count": 114,
      "id": "F80jd8CP-w6r",
      "metadata": {
        "id": "F80jd8CP-w6r"
      },
      "outputs": [],
      "source": [
        "df.dropna(inplace=True)"
      ]
    },
    {
      "cell_type": "code",
      "execution_count": 115,
      "id": "70ef20ce",
      "metadata": {
        "colab": {
          "base_uri": "https://localhost:8080/"
        },
        "id": "70ef20ce",
        "outputId": "bac6a3e7-0ef9-4819-8671-e5ddda72703e"
      },
      "outputs": [
        {
          "name": "stdout",
          "output_type": "stream",
          "text": [
            "vocab size: 20385\n",
            "Training: 35309\n",
            "vocab size: 20385\n",
            "Testing:  3924\n"
          ]
        }
      ],
      "source": [
        "min_sample = df.groupby(['Rating']).count().processed_text.min()\n",
        "input_data = pd.concat([df[df.Rating == 1].head(min_sample),\n",
        "                        df[df.Rating == 0].head(min_sample)])\n",
        "\n",
        "X = input_data.processed_text.astype('str').values #training paramter\n",
        "Y = np.asarray(input_data.Rating.values).astype('float32') #prediction paramter\n",
        "Y = Y.clip(0, 1)\n",
        "X_train, X_test, label_train, label_test = train_test_split(df['processed_text'], df['Rating'], test_size=0.1, random_state=42,shuffle=True)\n",
        "\n",
        "tokenizer = Tokenizer(num_words=5000)\n",
        "tokenizer.fit_on_texts(X_train)\n",
        "X_train = tokenizer.texts_to_sequences(X_train)\n",
        "print(\"vocab size:\",len(tokenizer.word_index))\n",
        "X_train = pad_sequences(X_train, padding='post', maxlen=300)\n",
        "\n",
        "\n",
        "print(\"Training:\", len(X_train))\n",
        "X_test = tokenizer.texts_to_sequences(X_test)\n",
        "print(\"vocab size:\",len(tokenizer.word_index))\n",
        "X_test = pad_sequences(X_test, padding='post', maxlen=300)\n",
        "print(\"Testing: \", len(X_test))"
      ]
    },
    {
      "cell_type": "code",
      "execution_count": 130,
      "id": "d747af5f",
      "metadata": {
        "id": "d747af5f"
      },
      "outputs": [],
      "source": [
        "import pickle\n",
        "pickle.dump(tokenizer, open(\"Approach2_DL_English_Tokenizer_a5r_7aga.pk\", \"wb\"))"
      ]
    },
    {
      "attachments": {},
      "cell_type": "markdown",
      "id": "58d6fb26",
      "metadata": {
        "id": "58d6fb26"
      },
      "source": [
        "# Data splitting\n"
      ]
    },
    {
      "cell_type": "code",
      "execution_count": 116,
      "id": "DtihQ59O6OOP",
      "metadata": {
        "id": "DtihQ59O6OOP"
      },
      "outputs": [],
      "source": [
        "label_train = pd.get_dummies(label_train).values\n",
        "label_test = pd.get_dummies(label_test).values"
      ]
    },
    {
      "attachments": {},
      "cell_type": "markdown",
      "id": "735227f5",
      "metadata": {
        "id": "735227f5"
      },
      "source": [
        "## RNN"
      ]
    },
    {
      "cell_type": "code",
      "execution_count": 69,
      "id": "47c8520a",
      "metadata": {
        "colab": {
          "base_uri": "https://localhost:8080/"
        },
        "id": "47c8520a",
        "outputId": "0d74ed98-136b-4fe0-a9a6-eaceebcf5ef6"
      },
      "outputs": [
        {
          "name": "stdout",
          "output_type": "stream",
          "text": [
            "Model: \"sequential_4\"\n",
            "_________________________________________________________________\n",
            " Layer (type)                Output Shape              Param #   \n",
            "=================================================================\n",
            " embedding_4 (Embedding)     (None, 300, 100)          500000    \n",
            "                                                                 \n",
            " simple_rnn (SimpleRNN)      (None, 300, 100)          20100     \n",
            "                                                                 \n",
            " global_max_pooling1d (Globa  (None, 100)              0         \n",
            " lMaxPooling1D)                                                  \n",
            "                                                                 \n",
            " dense_21 (Dense)            (None, 64)                6464      \n",
            "                                                                 \n",
            " dense_22 (Dense)            (None, 32)                2080      \n",
            "                                                                 \n",
            " dense_23 (Dense)            (None, 2)                 66        \n",
            "                                                                 \n",
            "=================================================================\n",
            "Total params: 528,710\n",
            "Trainable params: 528,710\n",
            "Non-trainable params: 0\n",
            "_________________________________________________________________\n",
            "CPU times: user 443 ms, sys: 68.9 ms, total: 512 ms\n",
            "Wall time: 1.53 s\n"
          ]
        }
      ],
      "source": [
        "%%time\n",
        "with strategy.scope():\n",
        "  dropout = 0.5\n",
        "  opt = 'adam'\n",
        "  SimpleRNN = Sequential()\n",
        "  SimpleRNN.add(keras.layers.Embedding(input_dim=5000, output_dim=100, input_length=300))\n",
        "  SimpleRNN.add(keras.layers.SimpleRNN(units=100, return_sequences=True))\n",
        "  SimpleRNN.add(keras.layers.GlobalMaxPool1D())\n",
        "  SimpleRNN.add(keras.layers.Dense(64, activation='relu'))\n",
        "  SimpleRNN.add(keras.layers.Dense(32, activation='relu'))\n",
        "  SimpleRNN.add(keras.layers.Dense(2, activation='softmax'))\n",
        "  SimpleRNN.compile(optimizer=opt, loss='categorical_crossentropy', metrics=['accuracy'])\n",
        "SimpleRNN.summary()"
      ]
    },
    {
      "cell_type": "code",
      "execution_count": 70,
      "id": "9c078ed8",
      "metadata": {
        "colab": {
          "base_uri": "https://localhost:8080/"
        },
        "id": "9c078ed8",
        "outputId": "281a028b-ed38-42dd-d2b5-068132ef58f3"
      },
      "outputs": [
        {
          "name": "stdout",
          "output_type": "stream",
          "text": [
            "Epoch 1/20\n",
            "64/64 [==============================] - 14s 100ms/step - loss: 0.4865 - accuracy: 0.7449 - val_loss: 0.3152 - val_accuracy: 0.8692\n",
            "Epoch 2/20\n",
            "64/64 [==============================] - 3s 40ms/step - loss: 0.3071 - accuracy: 0.8805 - val_loss: 0.2965 - val_accuracy: 0.8825\n",
            "Epoch 3/20\n",
            "64/64 [==============================] - 3s 43ms/step - loss: 0.2603 - accuracy: 0.9026 - val_loss: 0.2766 - val_accuracy: 0.8902\n",
            "Epoch 4/20\n",
            "64/64 [==============================] - 3s 46ms/step - loss: 0.2133 - accuracy: 0.9250 - val_loss: 0.2780 - val_accuracy: 0.8927\n",
            "Epoch 5/20\n",
            "64/64 [==============================] - 3s 41ms/step - loss: 0.1830 - accuracy: 0.9404 - val_loss: 0.2858 - val_accuracy: 0.8924\n",
            "Epoch 6/20\n",
            "64/64 [==============================] - 3s 41ms/step - loss: 0.1806 - accuracy: 0.9404 - val_loss: 0.3100 - val_accuracy: 0.8852\n",
            "Epoch 7/20\n",
            "64/64 [==============================] - 3s 46ms/step - loss: 0.1643 - accuracy: 0.9473 - val_loss: 0.3085 - val_accuracy: 0.8899\n",
            "Epoch 8/20\n",
            "64/64 [==============================] - 4s 61ms/step - loss: 0.1637 - accuracy: 0.9471 - val_loss: 0.3186 - val_accuracy: 0.8800\n",
            "Epoch 9/20\n",
            "64/64 [==============================] - 5s 76ms/step - loss: 0.1395 - accuracy: 0.9564 - val_loss: 0.3142 - val_accuracy: 0.8957\n",
            "Epoch 10/20\n",
            "64/64 [==============================] - 3s 53ms/step - loss: 0.1170 - accuracy: 0.9654 - val_loss: 0.3173 - val_accuracy: 0.8943\n",
            "Epoch 11/20\n",
            "64/64 [==============================] - 3s 50ms/step - loss: 0.1137 - accuracy: 0.9668 - val_loss: 0.3219 - val_accuracy: 0.8943\n",
            "Epoch 12/20\n",
            "64/64 [==============================] - 4s 59ms/step - loss: 0.1013 - accuracy: 0.9708 - val_loss: 0.3444 - val_accuracy: 0.8949\n",
            "Epoch 13/20\n",
            "64/64 [==============================] - 4s 61ms/step - loss: 0.0941 - accuracy: 0.9732 - val_loss: 0.3699 - val_accuracy: 0.8929\n",
            "Epoch 14/20\n",
            "64/64 [==============================] - 3s 51ms/step - loss: 0.1228 - accuracy: 0.9617 - val_loss: 0.3615 - val_accuracy: 0.8816\n",
            "Epoch 15/20\n",
            "64/64 [==============================] - 3s 45ms/step - loss: 0.1137 - accuracy: 0.9642 - val_loss: 0.3689 - val_accuracy: 0.8893\n",
            "Epoch 16/20\n",
            "64/64 [==============================] - 3s 41ms/step - loss: 0.0991 - accuracy: 0.9706 - val_loss: 0.3740 - val_accuracy: 0.8852\n",
            "Epoch 17/20\n",
            "64/64 [==============================] - 3s 43ms/step - loss: 0.1240 - accuracy: 0.9627 - val_loss: 0.5442 - val_accuracy: 0.8681\n",
            "Epoch 18/20\n",
            "64/64 [==============================] - 3s 45ms/step - loss: 0.1778 - accuracy: 0.9416 - val_loss: 0.3385 - val_accuracy: 0.8893\n",
            "Epoch 19/20\n",
            "64/64 [==============================] - 3s 42ms/step - loss: 0.1021 - accuracy: 0.9696 - val_loss: 0.3628 - val_accuracy: 0.8863\n",
            "Epoch 20/20\n",
            "64/64 [==============================] - 3s 40ms/step - loss: 0.0866 - accuracy: 0.9756 - val_loss: 0.3796 - val_accuracy: 0.8855\n",
            "114/114 [==============================] - 4s 22ms/step - loss: 0.3796 - accuracy: 0.8855\n",
            "Testing Accuracy:  0.8855\n"
          ]
        }
      ],
      "source": [
        "history = SimpleRNN.fit(X_train, label_train, epochs=20, verbose=True,  validation_data=(X_test, label_test),batch_size=64*strategy.num_replicas_in_sync)\n",
        "loss_val, accuracy_val = SimpleRNN.evaluate(X_test, label_test, verbose=True)\n",
        "print(\"Testing Accuracy:  {:.4f}\".format(accuracy_val))"
      ]
    },
    {
      "cell_type": "code",
      "execution_count": 71,
      "id": "eA9qg8sEO4_U",
      "metadata": {
        "id": "eA9qg8sEO4_U"
      },
      "outputs": [],
      "source": [
        "SimpleRNN.save('Approach2_English_SimpleRNN_Model.h5')"
      ]
    },
    {
      "cell_type": "code",
      "execution_count": null,
      "id": "e59c764b",
      "metadata": {
        "colab": {
          "base_uri": "https://localhost:8080/",
          "height": 489
        },
        "id": "e59c764b",
        "outputId": "5252e7d0-9662-41ee-cdbe-72df8b1a739f"
      },
      "outputs": [
        {
          "name": "stdout",
          "output_type": "stream",
          "text": [
            "346/346 [==============================] - 6s 14ms/step\n"
          ]
        },
        {
          "data": {
            "image/png": "[encoded data removed]",
            "text/plain": [
              "<Figure size 640x480 with 2 Axes>"
            ]
          },
          "metadata": {},
          "output_type": "display_data"
        }
      ],
      "source": [
        "y_pred=SimpleRNN.predict(X_test)\n",
        "y_pred = (y_pred >= 0.5).astype(int)\n",
        "y_test_class=np.array(label_test)\n",
        "\n",
        "SimpleRNN = confusion_matrix(y_test_class,y_pred)\n",
        "sns.heatmap(SimpleRNN,annot=True,fmt = '.0f')\n",
        "plt.xlabel('prediction')\n",
        "plt.ylabel('Actual')\n",
        "plt.title(\"SimpleRNN\"+ ' Confusion Matrix')\n",
        "plt.show()"
      ]
    },
    {
      "cell_type": "code",
      "execution_count": null,
      "id": "1dbfc938",
      "metadata": {
        "colab": {
          "base_uri": "https://localhost:8080/",
          "height": 489
        },
        "id": "1dbfc938",
        "outputId": "86b47439-86df-4b3b-e907-324278ff73ac"
      },
      "outputs": [
        {
          "data": {
            "text/plain": [
              "<matplotlib.legend.Legend at 0x7f93e956a130>"
            ]
          },
          "execution_count": 18,
          "metadata": {},
          "output_type": "execute_result"
        },
        {
          "data": {
            "image/png": "[encoded data removed]",
            "text/plain": [
              "<Figure size 640x480 with 1 Axes>"
            ]
          },
          "metadata": {},
          "output_type": "display_data"
        }
      ],
      "source": [
        "accuracy = history.history['accuracy']\n",
        "val_accuracy = history.history['val_accuracy']\n",
        "loss = history.history['loss']\n",
        "val_loss = history.history['val_loss']\n",
        "\n",
        "epochs = range(1,len(accuracy) + 1)\n",
        "\n",
        "# Plot accuracy\n",
        "plt.figure(1)\n",
        "plt.plot(epochs, accuracy, 'b', label='Training accuracy')\n",
        "plt.plot(epochs, val_accuracy, 'r', label='Validation accuracy')\n",
        "plt.title('Training and validation accuracy')\n",
        "plt.xlabel('Epochs')\n",
        "plt.ylabel('Accuracy')\n",
        "plt.legend()\n"
      ]
    },
    {
      "cell_type": "code",
      "execution_count": null,
      "id": "4015e6e8",
      "metadata": {
        "colab": {
          "base_uri": "https://localhost:8080/",
          "height": 472
        },
        "id": "4015e6e8",
        "outputId": "5ced8ee9-1e4b-4f70-d986-bba1daca8bca"
      },
      "outputs": [
        {
          "data": {
            "image/png": "[encoded data removed]",
            "text/plain": [
              "<Figure size 640x480 with 1 Axes>"
            ]
          },
          "metadata": {},
          "output_type": "display_data"
        }
      ],
      "source": [
        "# Plot loss\n",
        "plt.figure(2)\n",
        "plt.plot(epochs, loss, 'b', label='Training loss')\n",
        "plt.plot(epochs, val_loss, 'r', label='Validation loss')\n",
        "plt.title('Training and validation loss')\n",
        "plt.xlabel('Epochs')\n",
        "plt.ylabel('Loss')\n",
        "plt.legend()\n",
        "plt.show()"
      ]
    },
    {
      "attachments": {},
      "cell_type": "markdown",
      "id": "08db4d47",
      "metadata": {
        "id": "08db4d47"
      },
      "source": [
        "## CNN"
      ]
    },
    {
      "cell_type": "code",
      "execution_count": 73,
      "id": "a7a96e9f",
      "metadata": {
        "colab": {
          "base_uri": "https://localhost:8080/"
        },
        "id": "a7a96e9f",
        "outputId": "d9c77412-e593-43bf-e3a1-3d37f5bce2f0"
      },
      "outputs": [
        {
          "name": "stdout",
          "output_type": "stream",
          "text": [
            "Model: \"sequential_6\"\n",
            "_________________________________________________________________\n",
            " Layer (type)                Output Shape              Param #   \n",
            "=================================================================\n",
            " embedding_6 (Embedding)     (None, 300, 70)           1277920   \n",
            "                                                                 \n",
            " conv1d_1 (Conv1D)           (None, 298, 32)           6752      \n",
            "                                                                 \n",
            " lstm_4 (LSTM)               (None, 298, 100)          53200     \n",
            "                                                                 \n",
            " flatten_1 (Flatten)         (None, 29800)             0         \n",
            "                                                                 \n",
            " dense_27 (Dense)            (None, 64)                1907264   \n",
            "                                                                 \n",
            " dense_28 (Dense)            (None, 32)                2080      \n",
            "                                                                 \n",
            " dense_29 (Dense)            (None, 2)                 66        \n",
            "                                                                 \n",
            "=================================================================\n",
            "Total params: 3,247,282\n",
            "Trainable params: 3,247,282\n",
            "Non-trainable params: 0\n",
            "_________________________________________________________________\n"
          ]
        }
      ],
      "source": [
        "with strategy.scope():\n",
        "    embedding_dim = 70\n",
        "    CNN_LSTM = Sequential()\n",
        "    CNN_LSTM.add(Embedding(input_dim=len(tokenizer.word_index)+1, output_dim=embedding_dim, input_length=300))\n",
        "\n",
        "    CNN_LSTM.add(Conv1D(filters=32, kernel_size=3, activation='relu'))\n",
        "    CNN_LSTM.add((LSTM(100, return_sequences=True)))\n",
        "    CNN_LSTM.add(Flatten())\n",
        "    CNN_LSTM.add(Dense(64, activation='relu'))\n",
        "    CNN_LSTM.add(Dense(32, activation='relu'))\n",
        "    CNN_LSTM.add(Dense(2, activation='softmax'))\n",
        "\n",
        "    CNN_LSTM.compile(loss='categorical_crossentropy', optimizer=\"adam\", metrics=['accuracy'])\n",
        "    CNN_LSTM.summary()\n"
      ]
    },
    {
      "cell_type": "code",
      "execution_count": 74,
      "id": "fc6a2373",
      "metadata": {
        "colab": {
          "base_uri": "https://localhost:8080/"
        },
        "id": "fc6a2373",
        "outputId": "6586cdef-e737-4e10-bfed-4ce45993dcb7"
      },
      "outputs": [
        {
          "name": "stdout",
          "output_type": "stream",
          "text": [
            "Epoch 1/20\n",
            "64/64 [==============================] - 29s 249ms/step - loss: 0.4963 - accuracy: 0.7394 - val_loss: 0.2945 - val_accuracy: 0.8885\n",
            "Epoch 2/20\n",
            "64/64 [==============================] - 7s 103ms/step - loss: 0.2631 - accuracy: 0.9024 - val_loss: 0.2649 - val_accuracy: 0.9004\n",
            "Epoch 3/20\n",
            "64/64 [==============================] - 5s 86ms/step - loss: 0.2213 - accuracy: 0.9236 - val_loss: 0.2701 - val_accuracy: 0.9034\n",
            "Epoch 4/20\n",
            "64/64 [==============================] - 6s 92ms/step - loss: 0.1903 - accuracy: 0.9377 - val_loss: 0.2755 - val_accuracy: 0.8965\n",
            "Epoch 5/20\n",
            "64/64 [==============================] - 7s 104ms/step - loss: 0.1602 - accuracy: 0.9502 - val_loss: 0.3158 - val_accuracy: 0.8960\n",
            "Epoch 6/20\n",
            "64/64 [==============================] - 7s 104ms/step - loss: 0.1336 - accuracy: 0.9596 - val_loss: 0.3113 - val_accuracy: 0.8993\n",
            "Epoch 7/20\n",
            "64/64 [==============================] - 7s 104ms/step - loss: 0.1102 - accuracy: 0.9676 - val_loss: 0.3584 - val_accuracy: 0.8974\n",
            "Epoch 8/20\n",
            "64/64 [==============================] - 7s 104ms/step - loss: 0.1023 - accuracy: 0.9701 - val_loss: 0.3864 - val_accuracy: 0.8938\n",
            "Epoch 9/20\n",
            "64/64 [==============================] - 7s 103ms/step - loss: 0.0945 - accuracy: 0.9721 - val_loss: 0.4235 - val_accuracy: 0.8916\n",
            "Epoch 10/20\n",
            "64/64 [==============================] - 7s 103ms/step - loss: 0.0856 - accuracy: 0.9745 - val_loss: 0.4703 - val_accuracy: 0.8907\n",
            "Epoch 11/20\n",
            "64/64 [==============================] - 6s 94ms/step - loss: 0.0843 - accuracy: 0.9754 - val_loss: 0.4216 - val_accuracy: 0.8819\n",
            "Epoch 12/20\n",
            "64/64 [==============================] - 6s 95ms/step - loss: 0.0872 - accuracy: 0.9751 - val_loss: 0.4899 - val_accuracy: 0.8907\n",
            "Epoch 13/20\n",
            "64/64 [==============================] - 6s 88ms/step - loss: 0.0767 - accuracy: 0.9774 - val_loss: 0.4991 - val_accuracy: 0.8940\n",
            "Epoch 14/20\n",
            "64/64 [==============================] - 5s 85ms/step - loss: 0.0744 - accuracy: 0.9780 - val_loss: 0.5197 - val_accuracy: 0.8921\n",
            "Epoch 15/20\n",
            "64/64 [==============================] - 6s 88ms/step - loss: 0.0730 - accuracy: 0.9783 - val_loss: 0.4936 - val_accuracy: 0.8924\n",
            "Epoch 16/20\n",
            "64/64 [==============================] - 7s 105ms/step - loss: 0.0709 - accuracy: 0.9793 - val_loss: 0.5646 - val_accuracy: 0.8885\n",
            "Epoch 17/20\n",
            "64/64 [==============================] - 7s 105ms/step - loss: 0.0707 - accuracy: 0.9789 - val_loss: 0.5141 - val_accuracy: 0.8921\n",
            "Epoch 18/20\n",
            "64/64 [==============================] - 5s 84ms/step - loss: 0.0694 - accuracy: 0.9799 - val_loss: 0.5628 - val_accuracy: 0.8924\n",
            "Epoch 19/20\n",
            "64/64 [==============================] - 6s 94ms/step - loss: 0.0692 - accuracy: 0.9794 - val_loss: 0.5886 - val_accuracy: 0.8938\n",
            "Epoch 20/20\n",
            "64/64 [==============================] - 5s 85ms/step - loss: 0.0696 - accuracy: 0.9790 - val_loss: 0.5757 - val_accuracy: 0.8921\n",
            "114/114 [==============================] - 4s 25ms/step - loss: 0.5757 - accuracy: 0.8921\n",
            "Testing Accuracy:  0.8921\n"
          ]
        }
      ],
      "source": [
        "history6 = CNN_LSTM.fit(X_train, label_train, epochs=20, verbose=True,  validation_data=(X_test, label_test),batch_size=64*strategy.num_replicas_in_sync)\n",
        "loss_val, accuracy_val = CNN_LSTM.evaluate(X_test, label_test, verbose=True)\n",
        "print(\"Testing Accuracy:  {:.4f}\".format(accuracy_val))"
      ]
    },
    {
      "cell_type": "code",
      "execution_count": 75,
      "id": "1kCUWOQvPKVu",
      "metadata": {
        "id": "1kCUWOQvPKVu"
      },
      "outputs": [],
      "source": [
        "CNN_LSTM.save('Approach2_English_CNN_LSTM_Model.h5')"
      ]
    },
    {
      "cell_type": "code",
      "execution_count": null,
      "id": "3ee2ebf8",
      "metadata": {
        "colab": {
          "base_uri": "https://localhost:8080/",
          "height": 489
        },
        "id": "3ee2ebf8",
        "outputId": "4e7a2fa9-0d78-4b96-d892-8552a3f002a5"
      },
      "outputs": [
        {
          "name": "stdout",
          "output_type": "stream",
          "text": [
            "346/346 [==============================] - 14s 39ms/step\n"
          ]
        },
        {
          "data": {
            "image/png": "[encoded data removed]",
            "text/plain": [
              "<Figure size 640x480 with 2 Axes>"
            ]
          },
          "metadata": {},
          "output_type": "display_data"
        }
      ],
      "source": [
        "y_pred6=CNN_LSTM.predict(X_test)\n",
        "y_pred6 = (y_pred6 >= 0.5).astype(int)\n",
        "y_test_class=np.array(label_test)\n",
        "\n",
        "cnnlstm = confusion_matrix(y_test_class,y_pred6)\n",
        "sns.heatmap(cnnlstm,annot=True,fmt = '.0f')\n",
        "plt.xlabel('prediction')\n",
        "plt.ylabel('Actual')\n",
        "plt.title(\"CNN_LSTM\"+ ' Confusion Matrix')\n",
        "plt.show()"
      ]
    },
    {
      "attachments": {},
      "cell_type": "markdown",
      "id": "5ab28d13",
      "metadata": {
        "id": "5ab28d13"
      },
      "source": [
        "## LSTM"
      ]
    },
    {
      "cell_type": "code",
      "execution_count": 76,
      "id": "b69e5214",
      "metadata": {
        "colab": {
          "base_uri": "https://localhost:8080/"
        },
        "id": "b69e5214",
        "outputId": "36c6ac3b-25da-4766-8c30-0281128d32f1"
      },
      "outputs": [
        {
          "name": "stdout",
          "output_type": "stream",
          "text": [
            "Model: \"sequential_7\"\n",
            "_________________________________________________________________\n",
            " Layer (type)                Output Shape              Param #   \n",
            "=================================================================\n",
            " embedding_7 (Embedding)     (None, 300, 100)          500000    \n",
            "                                                                 \n",
            " lstm_5 (LSTM)               (None, 300, 100)          80400     \n",
            "                                                                 \n",
            " lstm_6 (LSTM)               (None, 300, 60)           38640     \n",
            "                                                                 \n",
            " global_max_pooling1d_1 (Glo  (None, 60)               0         \n",
            " balMaxPooling1D)                                                \n",
            "                                                                 \n",
            " dense_30 (Dense)            (None, 32)                1952      \n",
            "                                                                 \n",
            " dropout_4 (Dropout)         (None, 32)                0         \n",
            "                                                                 \n",
            " dense_31 (Dense)            (None, 2)                 66        \n",
            "                                                                 \n",
            "=================================================================\n",
            "Total params: 621,058\n",
            "Trainable params: 621,058\n",
            "Non-trainable params: 0\n",
            "_________________________________________________________________\n",
            "CPU times: user 881 ms, sys: 58.1 ms, total: 939 ms\n",
            "Wall time: 1.89 s\n"
          ]
        }
      ],
      "source": [
        "# LSTM model with keras\n",
        "%%time\n",
        "with strategy.scope():\n",
        "    dropout = 0.5\n",
        "    opt = 'adam'\n",
        "    LSTM_model = Sequential()\n",
        "    LSTM_model.add(Embedding(input_dim=5000, output_dim=100, input_length=300))\n",
        "    LSTM_model.add(LSTM(100, dropout=0.5, recurrent_dropout=0.5, return_sequences=True))\n",
        "    LSTM_model.add(LSTM(60, dropout=0.5, recurrent_dropout=0.5, return_sequences=True))\n",
        "    LSTM_model.add(GlobalMaxPool1D())\n",
        "    LSTM_model.add(Dense(32, activation='relu'))\n",
        "    LSTM_model.add(Dropout(dropout))\n",
        "    LSTM_model.add(Dense(2, activation='softmax'))\n",
        "\n",
        "    LSTM_model.compile(optimizer=opt, loss='categorical_crossentropy', metrics=['accuracy'])\n",
        "    LSTM_model.summary()"
      ]
    },
    {
      "cell_type": "code",
      "execution_count": 79,
      "id": "6feac54a",
      "metadata": {
        "colab": {
          "base_uri": "https://localhost:8080/"
        },
        "id": "6feac54a",
        "outputId": "a39b68b3-1634-4cf1-c8c1-4b0a6df98e7b"
      },
      "outputs": [
        {
          "name": "stdout",
          "output_type": "stream",
          "text": [
            "114/114 [==============================] - 8s 45ms/step - loss: 0.3024 - accuracy: 0.8946\n",
            "Testing Accuracy:  0.8946\n"
          ]
        }
      ],
      "source": [
        "history2 = LSTM_model.fit(X_train, label_train, epochs=20, verbose=True,  validation_data=(X_test, label_test),batch_size=64*strategy.num_replicas_in_sync)\n",
        "loss_val, accuracy_val = LSTM_model.evaluate(X_test, label_test, verbose=True)\n",
        "print(\"Testing Accuracy:  {:.4f}\".format(accuracy_val))"
      ]
    },
    {
      "cell_type": "code",
      "execution_count": 80,
      "id": "Xc0gUdJjPSsM",
      "metadata": {
        "id": "Xc0gUdJjPSsM"
      },
      "outputs": [],
      "source": [
        "LSTM_model.save('Approach2_English_LSTM_model_Model.h5')"
      ]
    },
    {
      "cell_type": "code",
      "execution_count": null,
      "id": "7a2f4d2a",
      "metadata": {
        "colab": {
          "base_uri": "https://localhost:8080/",
          "height": 489
        },
        "id": "7a2f4d2a",
        "outputId": "1661d266-f7e5-4af3-d84f-13f1df82402e"
      },
      "outputs": [
        {
          "name": "stdout",
          "output_type": "stream",
          "text": [
            "346/346 [==============================] - 11s 27ms/step\n"
          ]
        },
        {
          "data": {
            "image/png": "[encoded data removed]",
            "text/plain": [
              "<Figure size 640x480 with 2 Axes>"
            ]
          },
          "metadata": {},
          "output_type": "display_data"
        }
      ],
      "source": [
        "y_pred2=model2.predict(X_test)\n",
        "y_pred2 = (y_pred2 >= 0.5).astype(int)\n",
        "y_test_class=np.array(label_test)\n",
        "\n",
        "lstm = confusion_matrix(y_test_class,y_pred2)\n",
        "sns.heatmap(lstm,annot=True,fmt = '.0f')\n",
        "plt.xlabel('prediction')\n",
        "plt.ylabel('Actual')\n",
        "plt.title(\"LSTM\"+ ' Confusion Matrix')\n",
        "plt.show()"
      ]
    },
    {
      "cell_type": "code",
      "execution_count": null,
      "id": "2a65dae4",
      "metadata": {
        "colab": {
          "base_uri": "https://localhost:8080/",
          "height": 489
        },
        "id": "2a65dae4",
        "outputId": "a62402e1-0d7c-4816-d853-38af95b55d0a"
      },
      "outputs": [
        {
          "data": {
            "text/plain": [
              "<matplotlib.legend.Legend at 0x7f93ea0ad850>"
            ]
          },
          "execution_count": 24,
          "metadata": {},
          "output_type": "execute_result"
        },
        {
          "data": {
            "image/png": "[encoded data removed]",
            "text/plain": [
              "<Figure size 640x480 with 1 Axes>"
            ]
          },
          "metadata": {},
          "output_type": "display_data"
        }
      ],
      "source": [
        "accuracy = history2.history['accuracy']\n",
        "val_accuracy = history2.history['val_accuracy']\n",
        "loss = history2.history['loss']\n",
        "val_loss = history2.history['val_loss']\n",
        "\n",
        "epochs = range(1,len(accuracy) + 1)\n",
        "\n",
        "# Plot accuracy\n",
        "plt.figure(1)\n",
        "plt.plot(epochs, accuracy, 'b', label='Training accuracy')\n",
        "plt.plot(epochs, val_accuracy, 'r', label='Validation accuracy')\n",
        "plt.title('Training and validation accuracy')\n",
        "plt.xlabel('Epochs')\n",
        "plt.ylabel('Accuracy')\n",
        "plt.legend()\n"
      ]
    },
    {
      "cell_type": "code",
      "execution_count": null,
      "id": "f197f7c9",
      "metadata": {
        "colab": {
          "base_uri": "https://localhost:8080/",
          "height": 472
        },
        "id": "f197f7c9",
        "outputId": "51e74296-3151-4eee-d4e4-25033a96c951"
      },
      "outputs": [
        {
          "data": {
            "image/png": "[encoded data removed]",
            "text/plain": [
              "<Figure size 640x480 with 1 Axes>"
            ]
          },
          "metadata": {},
          "output_type": "display_data"
        }
      ],
      "source": [
        "# Plot loss\n",
        "plt.figure(2)\n",
        "plt.plot(epochs, loss, 'b', label='Training loss')\n",
        "plt.plot(epochs, val_loss, 'r', label='Validation loss')\n",
        "plt.title('Training and validation loss')\n",
        "plt.xlabel('Epochs')\n",
        "plt.ylabel('Loss')\n",
        "plt.legend()\n",
        "plt.show()"
      ]
    },
    {
      "attachments": {},
      "cell_type": "markdown",
      "id": "cf580009",
      "metadata": {
        "id": "cf580009"
      },
      "source": [
        "## BILSTM"
      ]
    },
    {
      "cell_type": "code",
      "execution_count": 118,
      "id": "922dcce7",
      "metadata": {
        "colab": {
          "base_uri": "https://localhost:8080/"
        },
        "id": "922dcce7",
        "outputId": "3a85c6f0-153c-4bca-b62f-cfcbb688f543"
      },
      "outputs": [
        {
          "name": "stdout",
          "output_type": "stream",
          "text": [
            "Model: \"sequential_10\"\n",
            "_________________________________________________________________\n",
            " Layer (type)                Output Shape              Param #   \n",
            "=================================================================\n",
            " embedding_10 (Embedding)    (None, 300, 100)          2038600   \n",
            "                                                                 \n",
            " bidirectional_6 (Bidirectio  (None, 128)              84480     \n",
            " nal)                                                            \n",
            "                                                                 \n",
            " dense_43 (Dense)            (None, 128)               16512     \n",
            "                                                                 \n",
            " dense_44 (Dense)            (None, 96)                12384     \n",
            "                                                                 \n",
            " dense_45 (Dense)            (None, 64)                6208      \n",
            "                                                                 \n",
            " dropout_7 (Dropout)         (None, 64)                0         \n",
            "                                                                 \n",
            " dense_46 (Dense)            (None, 32)                2080      \n",
            "                                                                 \n",
            " dense_47 (Dense)            (None, 16)                528       \n",
            "                                                                 \n",
            " dense_48 (Dense)            (None, 2)                 34        \n",
            "                                                                 \n",
            "=================================================================\n",
            "Total params: 2,160,826\n",
            "Trainable params: 2,160,826\n",
            "Non-trainable params: 0\n",
            "_________________________________________________________________\n",
            "CPU times: user 1.54 s, sys: 87.9 ms, total: 1.63 s\n",
            "Wall time: 2.05 s\n"
          ]
        }
      ],
      "source": [
        "%%time\n",
        "with strategy.scope():\n",
        "    embedding_dim = 100\n",
        "    biLSTM = Sequential()\n",
        "    biLSTM.add(Embedding(input_dim=len(tokenizer.word_index)+1, output_dim=embedding_dim, input_length=300))\n",
        "    biLSTM.add(Bidirectional(LSTM(64)))\n",
        "    biLSTM.add(Dense(128, activation='relu'))\n",
        "    biLSTM.add(Dense(96, activation='relu'))\n",
        "\n",
        "    biLSTM.add(Dense(64, activation='relu'))\n",
        "    biLSTM.add(Dropout(0.5))\n",
        "    biLSTM.add(Dense(32, activation='relu'))\n",
        "    biLSTM.add(Dense(16, activation='relu'))\n",
        "    biLSTM.add(Dense(2, activation='softmax'))\n",
        "\n",
        "    from keras import optimizers\n",
        "    optimizer = optimizers.Adam(learning_rate=0.0001)\n",
        "    biLSTM.compile(loss='categorical_crossentropy', optimizer=optimizer, metrics=['accuracy'])\n",
        "    biLSTM.summary()"
      ]
    },
    {
      "cell_type": "code",
      "execution_count": 119,
      "id": "e776306c",
      "metadata": {
        "colab": {
          "base_uri": "https://localhost:8080/"
        },
        "id": "e776306c",
        "outputId": "c3717df6-5464-4d9f-a098-7f5703cf4446"
      },
      "outputs": [
        {
          "name": "stdout",
          "output_type": "stream",
          "text": [
            "Epoch 1/20\n",
            "69/69 [==============================] - 29s 279ms/step - loss: 0.6852 - accuracy: 0.5883 - val_loss: 0.6673 - val_accuracy: 0.5991\n",
            "Epoch 2/20\n",
            "69/69 [==============================] - 12s 170ms/step - loss: 0.6452 - accuracy: 0.6185 - val_loss: 0.5824 - val_accuracy: 0.7217\n",
            "Epoch 3/20\n",
            "69/69 [==============================] - 12s 171ms/step - loss: 0.5029 - accuracy: 0.7792 - val_loss: 0.3787 - val_accuracy: 0.8420\n",
            "Epoch 4/20\n",
            "69/69 [==============================] - 12s 172ms/step - loss: 0.3493 - accuracy: 0.8677 - val_loss: 0.3159 - val_accuracy: 0.8828\n",
            "Epoch 5/20\n",
            "69/69 [==============================] - 12s 171ms/step - loss: 0.3048 - accuracy: 0.8901 - val_loss: 0.2981 - val_accuracy: 0.8930\n",
            "Epoch 6/20\n",
            "69/69 [==============================] - 12s 175ms/step - loss: 0.2800 - accuracy: 0.9029 - val_loss: 0.2921 - val_accuracy: 0.8991\n",
            "Epoch 7/20\n",
            "69/69 [==============================] - 12s 173ms/step - loss: 0.2668 - accuracy: 0.9092 - val_loss: 0.2885 - val_accuracy: 0.8986\n",
            "Epoch 8/20\n",
            "69/69 [==============================] - 13s 188ms/step - loss: 0.2571 - accuracy: 0.9145 - val_loss: 0.2864 - val_accuracy: 0.8996\n",
            "Epoch 9/20\n",
            "69/69 [==============================] - 12s 172ms/step - loss: 0.2486 - accuracy: 0.9184 - val_loss: 0.2849 - val_accuracy: 0.8983\n",
            "Epoch 10/20\n",
            "69/69 [==============================] - 12s 174ms/step - loss: 0.2402 - accuracy: 0.9217 - val_loss: 0.2881 - val_accuracy: 0.8991\n",
            "Epoch 11/20\n",
            "69/69 [==============================] - 12s 172ms/step - loss: 0.2358 - accuracy: 0.9247 - val_loss: 0.2870 - val_accuracy: 0.8978\n",
            "Epoch 12/20\n",
            "69/69 [==============================] - 12s 172ms/step - loss: 0.2287 - accuracy: 0.9271 - val_loss: 0.2888 - val_accuracy: 0.8968\n",
            "Epoch 13/20\n",
            "69/69 [==============================] - 12s 170ms/step - loss: 0.2245 - accuracy: 0.9287 - val_loss: 0.2909 - val_accuracy: 0.8955\n",
            "Epoch 14/20\n",
            "69/69 [==============================] - 12s 170ms/step - loss: 0.2204 - accuracy: 0.9301 - val_loss: 0.2988 - val_accuracy: 0.8955\n",
            "Epoch 15/20\n",
            "69/69 [==============================] - 12s 173ms/step - loss: 0.2166 - accuracy: 0.9336 - val_loss: 0.2963 - val_accuracy: 0.8970\n",
            "Epoch 16/20\n",
            "69/69 [==============================] - 12s 174ms/step - loss: 0.2120 - accuracy: 0.9365 - val_loss: 0.2937 - val_accuracy: 0.8968\n",
            "Epoch 17/20\n",
            "69/69 [==============================] - 12s 175ms/step - loss: 0.2084 - accuracy: 0.9383 - val_loss: 0.2954 - val_accuracy: 0.8973\n",
            "Epoch 18/20\n",
            "69/69 [==============================] - 12s 171ms/step - loss: 0.2048 - accuracy: 0.9393 - val_loss: 0.2957 - val_accuracy: 0.8991\n",
            "Epoch 19/20\n",
            "69/69 [==============================] - 12s 170ms/step - loss: 0.2010 - accuracy: 0.9409 - val_loss: 0.3012 - val_accuracy: 0.8953\n",
            "Epoch 20/20\n",
            "69/69 [==============================] - 12s 172ms/step - loss: 0.1999 - accuracy: 0.9416 - val_loss: 0.3021 - val_accuracy: 0.8986\n"
          ]
        }
      ],
      "source": [
        "biLSTM_history = biLSTM.fit(X_train, label_train, epochs=20,batch_size=64*strategy.num_replicas_in_sync,validation_data=(X_test, label_test))"
      ]
    },
    {
      "cell_type": "code",
      "execution_count": 129,
      "id": "6sze4twJPlWm",
      "metadata": {
        "id": "6sze4twJPlWm"
      },
      "outputs": [],
      "source": [
        "biLSTM.save('Approach2_English_BILSTM_Model.h5')"
      ]
    },
    {
      "cell_type": "code",
      "execution_count": 132,
      "id": "XyqB5ORF_l_N",
      "metadata": {
        "colab": {
          "base_uri": "https://localhost:8080/"
        },
        "id": "XyqB5ORF_l_N",
        "outputId": "7de5c74a-b5bb-4111-8fe9-3558c551056f"
      },
      "outputs": [
        {
          "data": {
            "text/plain": [
              "['mobile camera longlasting Amazing vibrant sleek Worth Stunning display design phone battery price',\n",
              " 'great laptop life Perfect work multitasking new Happy Comfortable entertainment keyboard battery fast Super impressive',\n",
              " 'Fantastic Loving performance Lightweight display smooth Sharp portable tablet',\n",
              " 'wear life impressive quality Excellent connectivity Highly comfortable recommended wireless headphone battery Flawless sound Topnotch',\n",
              " 'mobile great camera life sharp Solid device performance Smooth Pleased display new phone Decent battery',\n",
              " 'mobile camera drain quick Belowaverage performance Disappointed better Cheap design phone sluggish Expected battery',\n",
              " 'laptop life Poor money uncomfortable frequent Not Slow Regret buying freeze worth keyboard battery',\n",
              " 'Fast drain Not overall performance display disappointing laggy happy battery Mediocre tablet',\n",
              " 'wear Unstable life uncomfortable quality short Subpar Not headphone recommended wireless Letdown connection battery sound',\n",
              " 'mobile camera life Would crashing Freezing battery Issues nt belowexpectations purchase phone Average']"
            ]
          },
          "execution_count": 132,
          "metadata": {},
          "output_type": "execute_result"
        }
      ],
      "source": [
        "df_preprocessor = TextPreprocessor()\n",
        "import random\n",
        "\n",
        "reviews3 = [\n",
        "    \"Amazing mobile phone! Stunning camera, long-lasting battery, vibrant display, sleek design. Worth the price.\",\n",
        "    \"Happy with new laptop. Super fast, great for multitasking. Comfortable keyboard, impressive battery life. Perfect for work and entertainment.\",\n",
        "    \"Fantastic tablet! Sharp display, smooth performance. Lightweight and portable. Loving it!\",\n",
        "    \"Excellent headphones! Top-notch sound quality, comfortable to wear. Flawless wireless connectivity, impressive battery life. Highly recommended.\",\n",
        "    \"Pleased with new mobile phone. Smooth performance, great camera. Decent battery life, sharp display. Solid device.\",\n",
        "    \"Disappointed with mobile phone. Below-average camera, quick battery drain. Cheap design, sluggish performance. Expected better.\",\n",
        "    \"Regret buying laptop. Slow, frequent freezes. Poor battery life, uncomfortable keyboard. Not worth the money.\",\n",
        "    \"Not happy with tablet. Mediocre display, laggy performance. Fast battery drain, overall disappointing.\",\n",
        "    \"Letdown headphones. Subpar sound quality, uncomfortable to wear. Unstable wireless connection, short battery life. Not recommended.\",\n",
        "    \"Issues with mobile phone. Freezing and crashing. Average camera, below-expectations battery life. Wouldn't purchase again.\"\n",
        "]\n",
        "\n",
        "\n",
        "# reviews = positive_reviews + negative_reviews\n",
        "# random.shuffle(reviews)\n",
        "\n",
        "# reviews = positive_reviews + negative_reviews\n",
        "testing = [df_preprocessor.preprocessing(text) for text in reviews3]\n",
        "# print(testing)\n",
        "result=[]\n",
        "for test in testing:\n",
        "    result.append(' '.join(test))\n",
        "result"
      ]
    },
    {
      "cell_type": "code",
      "execution_count": 133,
      "id": "9jv0WDfKAsb8",
      "metadata": {
        "colab": {
          "base_uri": "https://localhost:8080/"
        },
        "id": "9jv0WDfKAsb8",
        "outputId": "cd78aed1-ccc3-4cca-8273-ba85a4aa6a38"
      },
      "outputs": [
        {
          "name": "stdout",
          "output_type": "stream",
          "text": [
            "vocab size: 20385\n",
            "Testing:  10\n"
          ]
        }
      ],
      "source": [
        "test = tokenizer.texts_to_sequences(result)\n",
        "print(\"vocab size:\",len(tokenizer.word_index))\n",
        "test = pad_sequences(test, padding='post', maxlen=300)\n",
        "print(\"Testing: \", len(test))\n"
      ]
    },
    {
      "cell_type": "code",
      "execution_count": 134,
      "id": "YWXA-0QxcBVy",
      "metadata": {
        "id": "YWXA-0QxcBVy"
      },
      "outputs": [],
      "source": [
        "# from tensorflow import keras\n",
        "\n",
        "# model = keras.models.load_model('bi_lstm _test.h5')\n"
      ]
    },
    {
      "cell_type": "code",
      "execution_count": 135,
      "id": "8XKKDRKa_gos",
      "metadata": {
        "colab": {
          "base_uri": "https://localhost:8080/"
        },
        "id": "8XKKDRKa_gos",
        "outputId": "848e8ff5-f68e-4ad1-c34d-4dabd1d763c7"
      },
      "outputs": [
        {
          "name": "stdout",
          "output_type": "stream",
          "text": [
            "1/1 - 2s - 2s/epoch - 2s/step\n",
            "1/1 - 3s - 3s/epoch - 3s/step\n",
            "1/1 - 5s - 5s/epoch - 5s/step\n",
            "1/1 - 2s - 2s/epoch - 2s/step\n",
            "1/1 - 1s - 1s/epoch - 1s/step\n",
            "1/1 - 1s - 1s/epoch - 1s/step\n",
            "1/1 - 2s - 2s/epoch - 2s/step\n",
            "1/1 - 1s - 950ms/epoch - 950ms/step\n",
            "1/1 - 1s - 1s/epoch - 1s/step\n",
            "1/1 - 2s - 2s/epoch - 2s/step\n",
            "[1, 1, 1, 1, 1, 0, 0, 0, 0, 0]\n"
          ]
        }
      ],
      "source": [
        "result = np.array(test)\n",
        "\n",
        "# Create an empty list to store the predictions\n",
        "pred = []\n",
        "class_labels=[0,1]\n",
        "# Iterate over each row in the result\n",
        "for row in result:\n",
        "    # Reshape the row to match the expected input shape of the model\n",
        "    row = np.reshape(row, (1, len(row)))\n",
        "\n",
        "    # Make a prediction using the model\n",
        "    y_pred2 = biLSTM.predict(row, batch_size=1, verbose=2)[0]\n",
        "    y_pred2 = np.argmax(y_pred2)\n",
        "\n",
        "    # Get the predicted class label\n",
        "    predicted_label = class_labels[y_pred2]\n",
        "\n",
        "    # Append the predicted label to the pred list\n",
        "    pred.append(predicted_label)\n",
        "\n",
        "print(pred)"
      ]
    },
    {
      "cell_type": "code",
      "execution_count": 53,
      "id": "t2TSa9sVBjca",
      "metadata": {
        "colab": {
          "base_uri": "https://localhost:8080/",
          "height": 363
        },
        "id": "t2TSa9sVBjca",
        "outputId": "b7660bd2-51e5-46ff-f35c-7bf5ab54d3bc"
      },
      "outputs": [
        {
          "data": {
            "text/html": [
              "\n",
              "  <div id=\"df-1ff76450-49f2-4cc4-9dba-d7a3a1ca6f8c\">\n",
              "    <div class=\"colab-df-container\">\n",
              "      <div>\n",
              "<style scoped>\n",
              "    .dataframe tbody tr th:only-of-type {\n",
              "        vertical-align: middle;\n",
              "    }\n",
              "\n",
              "    .dataframe tbody tr th {\n",
              "        vertical-align: top;\n",
              "    }\n",
              "\n",
              "    .dataframe thead th {\n",
              "        text-align: right;\n",
              "    }\n",
              "</style>\n",
              "<table border=\"1\" class=\"dataframe\">\n",
              "  <thead>\n",
              "    <tr style=\"text-align: right;\">\n",
              "      <th></th>\n",
              "      <th>Reviews</th>\n",
              "      <th>prediction</th>\n",
              "    </tr>\n",
              "  </thead>\n",
              "  <tbody>\n",
              "    <tr>\n",
              "      <th>0</th>\n",
              "      <td>This phone is absolutely amazing! The camera q...</td>\n",
              "      <td>1</td>\n",
              "    </tr>\n",
              "    <tr>\n",
              "      <th>1</th>\n",
              "      <td>The performance of this phone is absolutely mi...</td>\n",
              "      <td>0</td>\n",
              "    </tr>\n",
              "    <tr>\n",
              "      <th>2</th>\n",
              "      <td>This phone possesses a sleek and stylish desig...</td>\n",
              "      <td>1</td>\n",
              "    </tr>\n",
              "    <tr>\n",
              "      <th>3</th>\n",
              "      <td>The audio quality on this phone is simply phen...</td>\n",
              "      <td>1</td>\n",
              "    </tr>\n",
              "    <tr>\n",
              "      <th>4</th>\n",
              "      <td>The phone's user interface is immensely intuit...</td>\n",
              "      <td>1</td>\n",
              "    </tr>\n",
              "    <tr>\n",
              "      <th>5</th>\n",
              "      <td>I'm utterly disappointed with the abysmal batt...</td>\n",
              "      <td>0</td>\n",
              "    </tr>\n",
              "    <tr>\n",
              "      <th>6</th>\n",
              "      <td>The camera on this phone utterly fails to meet...</td>\n",
              "      <td>0</td>\n",
              "    </tr>\n",
              "    <tr>\n",
              "      <th>7</th>\n",
              "      <td>This phone tends to excessively overheat durin...</td>\n",
              "      <td>0</td>\n",
              "    </tr>\n",
              "    <tr>\n",
              "      <th>8</th>\n",
              "      <td>I've encountered distressingly frequent softwa...</td>\n",
              "      <td>0</td>\n",
              "    </tr>\n",
              "    <tr>\n",
              "      <th>9</th>\n",
              "      <td>The build quality of this phone is shockingly ...</td>\n",
              "      <td>0</td>\n",
              "    </tr>\n",
              "  </tbody>\n",
              "</table>\n",
              "</div>\n",
              "      <button class=\"colab-df-convert\" onclick=\"convertToInteractive('df-1ff76450-49f2-4cc4-9dba-d7a3a1ca6f8c')\"\n",
              "              title=\"Convert this dataframe to an interactive table.\"\n",
              "              style=\"display:none;\">\n",
              "        \n",
              "  <svg xmlns=\"http://www.w3.org/2000/svg\" height=\"24px\"viewBox=\"0 0 24 24\"\n",
              "       width=\"24px\">\n",
              "    <path d=\"M0 0h24v24H0V0z\" fill=\"none\"/>\n",
              "    <path d=\"M18.56 5.44l.94 2.06.94-2.06 2.06-.94-2.06-.94-.94-2.06-.94 2.06-2.06.94zm-11 1L8.5 8.5l.94-2.06 2.06-.94-2.06-.94L8.5 2.5l-.94 2.06-2.06.94zm10 10l.94 2.06.94-2.06 2.06-.94-2.06-.94-.94-2.06-.94 2.06-2.06.94z\"/><path d=\"M17.41 7.96l-1.37-1.37c-.4-.4-.92-.59-1.43-.59-.52 0-1.04.2-1.43.59L10.3 9.45l-7.72 7.72c-.78.78-.78 2.05 0 2.83L4 21.41c.39.39.9.59 1.41.59.51 0 1.02-.2 1.41-.59l7.78-7.78 2.81-2.81c.8-.78.8-2.07 0-2.86zM5.41 20L4 18.59l7.72-7.72 1.47 1.35L5.41 20z\"/>\n",
              "  </svg>\n",
              "      </button>\n",
              "      \n",
              "  <style>\n",
              "    .colab-df-container {\n",
              "      display:flex;\n",
              "      flex-wrap:wrap;\n",
              "      gap: 12px;\n",
              "    }\n",
              "\n",
              "    .colab-df-convert {\n",
              "      background-color: #E8F0FE;\n",
              "      border: none;\n",
              "      border-radius: 50%;\n",
              "      cursor: pointer;\n",
              "      display: none;\n",
              "      fill: #1967D2;\n",
              "      height: 32px;\n",
              "      padding: 0 0 0 0;\n",
              "      width: 32px;\n",
              "    }\n",
              "\n",
              "    .colab-df-convert:hover {\n",
              "      background-color: #E2EBFA;\n",
              "      box-shadow: 0px 1px 2px rgba(60, 64, 67, 0.3), 0px 1px 3px 1px rgba(60, 64, 67, 0.15);\n",
              "      fill: #174EA6;\n",
              "    }\n",
              "\n",
              "    [theme=dark] .colab-df-convert {\n",
              "      background-color: #3B4455;\n",
              "      fill: #D2E3FC;\n",
              "    }\n",
              "\n",
              "    [theme=dark] .colab-df-convert:hover {\n",
              "      background-color: #434B5C;\n",
              "      box-shadow: 0px 1px 3px 1px rgba(0, 0, 0, 0.15);\n",
              "      filter: drop-shadow(0px 1px 2px rgba(0, 0, 0, 0.3));\n",
              "      fill: #FFFFFF;\n",
              "    }\n",
              "  </style>\n",
              "\n",
              "      <script>\n",
              "        const buttonEl =\n",
              "          document.querySelector('#df-1ff76450-49f2-4cc4-9dba-d7a3a1ca6f8c button.colab-df-convert');\n",
              "        buttonEl.style.display =\n",
              "          google.colab.kernel.accessAllowed ? 'block' : 'none';\n",
              "\n",
              "        async function convertToInteractive(key) {\n",
              "          const element = document.querySelector('#df-1ff76450-49f2-4cc4-9dba-d7a3a1ca6f8c');\n",
              "          const dataTable =\n",
              "            await google.colab.kernel.invokeFunction('convertToInteractive',\n",
              "                                                     [key], {});\n",
              "          if (!dataTable) return;\n",
              "\n",
              "          const docLinkHtml = 'Like what you see? Visit the ' +\n",
              "            '<a target=\"_blank\" href=https://colab.research.google.com/notebooks/data_table.ipynb>data table notebook</a>'\n",
              "            + ' to learn more about interactive tables.';\n",
              "          element.innerHTML = '';\n",
              "          dataTable['output_type'] = 'display_data';\n",
              "          await google.colab.output.renderOutput(dataTable, element);\n",
              "          const docLink = document.createElement('div');\n",
              "          docLink.innerHTML = docLinkHtml;\n",
              "          element.appendChild(docLink);\n",
              "        }\n",
              "      </script>\n",
              "    </div>\n",
              "  </div>\n",
              "  "
            ],
            "text/plain": [
              "                                             Reviews  prediction\n",
              "0  This phone is absolutely amazing! The camera q...           1\n",
              "1  The performance of this phone is absolutely mi...           0\n",
              "2  This phone possesses a sleek and stylish desig...           1\n",
              "3  The audio quality on this phone is simply phen...           1\n",
              "4  The phone's user interface is immensely intuit...           1\n",
              "5  I'm utterly disappointed with the abysmal batt...           0\n",
              "6  The camera on this phone utterly fails to meet...           0\n",
              "7  This phone tends to excessively overheat durin...           0\n",
              "8  I've encountered distressingly frequent softwa...           0\n",
              "9  The build quality of this phone is shockingly ...           0"
            ]
          },
          "execution_count": 53,
          "metadata": {},
          "output_type": "execute_result"
        }
      ],
      "source": [
        "df_test=pd.DataFrame()\n",
        "df_test['Reviews']=reviews\n",
        "df_test['prediction']=pred\n",
        "df_test"
      ]
    },
    {
      "cell_type": "code",
      "execution_count": null,
      "id": "e00910aa",
      "metadata": {
        "colab": {
          "base_uri": "https://localhost:8080/",
          "height": 491
        },
        "id": "e00910aa",
        "outputId": "1954ef60-4873-48a7-9ead-4cc2c73cd5b1"
      },
      "outputs": [
        {
          "name": "stdout",
          "output_type": "stream",
          "text": [
            "346/346 [==============================] - 9s 20ms/step\n"
          ]
        },
        {
          "data": {
            "image/png": "[encoded data removed]",
            "text/plain": [
              "<Figure size 640x480 with 2 Axes>"
            ]
          },
          "metadata": {},
          "output_type": "display_data"
        }
      ],
      "source": [
        "# y_pred=biLSTM.predict(X_test)\n",
        "# y_pred = (y_pred >= 0.5).astype(int)\n",
        "# y_test_class=np.array(label_test)\n",
        "\n",
        "# lstm = confusion_matrix(y_test_class,y_pred)\n",
        "# sns.heatmap(lstm,annot=True,fmt = '.0f')\n",
        "# plt.xlabel('prediction')\n",
        "# plt.ylabel('Actual')\n",
        "# plt.title(\"BILSTM\"+ ' Confusion Matrix')\n",
        "# plt.show()"
      ]
    },
    {
      "cell_type": "code",
      "execution_count": null,
      "id": "-T66f3EJ1wxD",
      "metadata": {
        "id": "-T66f3EJ1wxD"
      },
      "outputs": [],
      "source": []
    },
    {
      "cell_type": "code",
      "execution_count": 88,
      "id": "3QjFmdf907NU",
      "metadata": {
        "id": "3QjFmdf907NU"
      },
      "outputs": [],
      "source": [
        "df_preprocessor = TextPreprocessor()"
      ]
    },
    {
      "cell_type": "code",
      "execution_count": null,
      "id": "lbHOXECJ1RrG",
      "metadata": {
        "colab": {
          "base_uri": "https://localhost:8080/"
        },
        "id": "lbHOXECJ1RrG",
        "outputId": "d74a6d7f-3da0-4bcb-f907-d06dcd170d12"
      },
      "outputs": [
        {
          "name": "stdout",
          "output_type": "stream",
          "text": [
            "19/19 - 1s - 810ms/epoch - 43ms/step\n",
            "Predicted class: Negative\n"
          ]
        }
      ],
      "source": [
        "\n",
        "test=df_preprocessor.preprocessing(\"cameras quality sucks\")\n",
        "result = ' '.join(test)\n",
        "result=tokenizer.texts_to_sequences(result)\n",
        "result = pad_sequences(result, padding='post', maxlen=300)\n",
        "y_pred2 = biLSTM.predict(result,batch_size=1,verbose = 2)[0]\n",
        "y_pred2 = np.argmax(y_pred2)\n",
        "if y_pred2 ==0:\n",
        "    class_label = 'Negative'\n",
        "else:\n",
        "    class_label = 'Positive'\n",
        "print(\"Predicted class:\", class_label)\n"
      ]
    },
    {
      "cell_type": "code",
      "execution_count": null,
      "id": "qXswD3Tc-A30",
      "metadata": {
        "colab": {
          "base_uri": "https://localhost:8080/"
        },
        "id": "qXswD3Tc-A30",
        "outputId": "7c2778c9-2784-4128-c07e-adb1acba470a"
      },
      "outputs": [
        {
          "name": "stdout",
          "output_type": "stream",
          "text": [
            "28/28 - 0s - 233ms/epoch - 8ms/step\n",
            "Predicted class: Negative\n"
          ]
        }
      ],
      "source": [
        "test=df_preprocessor.preprocessing(\"The phone's starting to have a late response\")\n",
        "result = ' '.join(test)\n",
        "result=tokenizer.texts_to_sequences(result)\n",
        "result = pad_sequences(result, padding='post', maxlen=300)\n",
        "y_pred2 = biLSTM.predict(result,batch_size=1,verbose = 2)[0]\n",
        "y_pred2 = np.argmax(y_pred2)\n",
        "if y_pred2 ==0:\n",
        "    class_label = 'Negative'\n",
        "else:\n",
        "    class_label = 'Positive'\n",
        "print(\"Predicted class:\", class_label)\n"
      ]
    },
    {
      "cell_type": "code",
      "execution_count": 99,
      "id": "HJEkCKfQ_gki",
      "metadata": {
        "colab": {
          "base_uri": "https://localhost:8080/"
        },
        "id": "HJEkCKfQ_gki",
        "outputId": "a4d16c1e-226f-44cd-a068-f2f114c680d1"
      },
      "outputs": [
        {
          "name": "stdout",
          "output_type": "stream",
          "text": [
            "9/9 - 1s - 1s/epoch - 114ms/step\n",
            "Predicted class: Positive\n"
          ]
        }
      ],
      "source": [
        "test=df_preprocessor.preprocessing(\"this phone is very bad\")\n",
        "result = ' '.join(test)\n",
        "result=tokenizer.texts_to_sequences(result)\n",
        "result = pad_sequences(result, padding='post', maxlen=300)\n",
        "y_pred2 = biLSTM.predict(result,batch_size=1,verbose = 2)[0]\n",
        "y_pred2 = np.argmax(y_pred2)\n",
        "if y_pred2 ==0:\n",
        "    class_label = 'Negative'\n",
        "else:\n",
        "    class_label = 'Positive'\n",
        "print(\"Predicted class:\", class_label)\n"
      ]
    },
    {
      "cell_type": "code",
      "execution_count": 100,
      "id": "fpFXf1Xx_4Gc",
      "metadata": {
        "colab": {
          "base_uri": "https://localhost:8080/"
        },
        "id": "fpFXf1Xx_4Gc",
        "outputId": "41f2ca92-8845-4bce-a07e-cb00c04e8115"
      },
      "outputs": [
        {
          "name": "stdout",
          "output_type": "stream",
          "text": [
            "12/12 - 1s - 984ms/epoch - 82ms/step\n",
            "Predicted class: Positive\n"
          ]
        }
      ],
      "source": [
        "test=df_preprocessor.preprocessing(\"the display is good\")\n",
        "result = ' '.join(test)\n",
        "result=tokenizer.texts_to_sequences(result)\n",
        "result = pad_sequences(result, padding='post', maxlen=300)\n",
        "y_pred2 = biLSTM.predict(result,batch_size=1,verbose = 2)[0]\n",
        "y_pred2 = np.argmax(y_pred2)\n",
        "if y_pred2 ==0:\n",
        "    class_label = 'Negative'\n",
        "else:\n",
        "    class_label = 'Positive'\n",
        "print(\"Predicted class:\", class_label)\n"
      ]
    },
    {
      "cell_type": "code",
      "execution_count": 101,
      "id": "7trgcmKl-c9t",
      "metadata": {
        "colab": {
          "base_uri": "https://localhost:8080/"
        },
        "id": "7trgcmKl-c9t",
        "outputId": "14096785-4f95-447e-ac20-6e5262bff415"
      },
      "outputs": [
        {
          "name": "stdout",
          "output_type": "stream",
          "text": [
            "30/30 - 1s - 1s/epoch - 40ms/step\n",
            "Predicted class: Negative\n"
          ]
        }
      ],
      "source": [
        "test=df_preprocessor.preprocessing(\"Quality of product is lower than expected\")\n",
        "result = ' '.join(test)\n",
        "result=tokenizer.texts_to_sequences(result)\n",
        "result = pad_sequences(result, padding='post', maxlen=300)\n",
        "y_pred2 = biLSTM.predict(result,batch_size=1,verbose = 2)[0]\n",
        "y_pred2 = np.argmax(y_pred2)\n",
        "if y_pred2 ==0:\n",
        "    class_label = 'Negative'\n",
        "else:\n",
        "    class_label = 'Positive'\n",
        "print(\"Predicted class:\", class_label)\n"
      ]
    },
    {
      "cell_type": "code",
      "execution_count": null,
      "id": "03ddd296",
      "metadata": {
        "colab": {
          "base_uri": "https://localhost:8080/",
          "height": 489
        },
        "id": "03ddd296",
        "outputId": "fe1fd0c6-a58a-40bb-ae51-2486c7346859"
      },
      "outputs": [
        {
          "data": {
            "text/plain": [
              "<matplotlib.legend.Legend at 0x7f79c5127c10>"
            ]
          },
          "execution_count": 32,
          "metadata": {},
          "output_type": "execute_result"
        },
        {
          "data": {
            "image/png": "[encoded data removed]",
            "text/plain": [
              "<Figure size 640x480 with 1 Axes>"
            ]
          },
          "metadata": {},
          "output_type": "display_data"
        }
      ],
      "source": [
        "accuracy = biLSTM_history.history['accuracy']\n",
        "val_accuracy = biLSTM_history.history['val_accuracy']\n",
        "loss = biLSTM_history.history['loss']\n",
        "val_loss = biLSTM_history.history['val_loss']\n",
        "\n",
        "epochs = range(1,len(accuracy) + 1)\n",
        "\n",
        "# Plot accuracy\n",
        "plt.figure(1)\n",
        "plt.plot(epochs, accuracy, 'b', label='Training accuracy')\n",
        "plt.plot(epochs, val_accuracy, 'r', label='Validation accuracy')\n",
        "plt.title('Training and validation accuracy')\n",
        "plt.xlabel('Epochs')\n",
        "plt.ylabel('Accuracy')\n",
        "plt.legend()"
      ]
    },
    {
      "cell_type": "code",
      "execution_count": null,
      "id": "14dd99ae",
      "metadata": {
        "colab": {
          "base_uri": "https://localhost:8080/",
          "height": 472
        },
        "id": "14dd99ae",
        "outputId": "6f29ddae-8566-4c98-9e68-53ddc3790b6b"
      },
      "outputs": [
        {
          "data": {
            "image/png": "[encoded data removed]",
            "text/plain": [
              "<Figure size 640x480 with 1 Axes>"
            ]
          },
          "metadata": {},
          "output_type": "display_data"
        }
      ],
      "source": [
        "# Plot loss\n",
        "plt.figure(2)\n",
        "plt.plot(epochs, loss, 'b', label='Training loss')\n",
        "plt.plot(epochs, val_loss, 'r', label='Validation loss')\n",
        "plt.title('Training and validation loss')\n",
        "plt.xlabel('Epochs')\n",
        "plt.ylabel('Loss')\n",
        "plt.legend()\n",
        "plt.show()"
      ]
    },
    {
      "attachments": {},
      "cell_type": "markdown",
      "id": "2c15f78e",
      "metadata": {
        "id": "2c15f78e"
      },
      "source": [
        "## Bidirectional GRU"
      ]
    },
    {
      "cell_type": "code",
      "execution_count": 84,
      "id": "74205279",
      "metadata": {
        "colab": {
          "base_uri": "https://localhost:8080/"
        },
        "id": "74205279",
        "outputId": "566bc7a8-4360-4457-be9d-f4c61c4909fb"
      },
      "outputs": [
        {
          "name": "stdout",
          "output_type": "stream",
          "text": [
            "Model: \"sequential_9\"\n",
            "_________________________________________________________________\n",
            " Layer (type)                Output Shape              Param #   \n",
            "=================================================================\n",
            " embedding_9 (Embedding)     (None, 300, 100)          1825600   \n",
            "                                                                 \n",
            " bidirectional_5 (Bidirectio  (None, 128)              63744     \n",
            " nal)                                                            \n",
            "                                                                 \n",
            " dense_38 (Dense)            (None, 128)               16512     \n",
            "                                                                 \n",
            " dense_39 (Dense)            (None, 64)                8256      \n",
            "                                                                 \n",
            " dropout_6 (Dropout)         (None, 64)                0         \n",
            "                                                                 \n",
            " dense_40 (Dense)            (None, 32)                2080      \n",
            "                                                                 \n",
            " dense_41 (Dense)            (None, 16)                528       \n",
            "                                                                 \n",
            " dense_42 (Dense)            (None, 2)                 34        \n",
            "                                                                 \n",
            "=================================================================\n",
            "Total params: 1,916,754\n",
            "Trainable params: 1,916,754\n",
            "Non-trainable params: 0\n",
            "_________________________________________________________________\n",
            "CPU times: user 961 ms, sys: 79.4 ms, total: 1.04 s\n",
            "Wall time: 1.1 s\n"
          ]
        }
      ],
      "source": [
        "%%time\n",
        "with strategy.scope():\n",
        "  #create BIGRU model with keras\n",
        "  dropout = 0.5\n",
        "  opt = 'adam'\n",
        "  # clear_session()\n",
        "  BIGRU = Sequential()\n",
        "  BIGRU.add(Embedding(input_dim=len(tokenizer.word_index)+1, output_dim=100, input_length=300))\n",
        "  # model.add(keras.layers.Bidirectional(keras.layers.GRU(100, dropout=0.5, recurrent_dropout=0.5, return_sequences=True)))\n",
        "  BIGRU.add(Bidirectional(GRU(64)))\n",
        "  BIGRU.add(Dense(128, activation='relu'))\n",
        "  BIGRU.add(Dense(64, activation='relu'))\n",
        "  BIGRU.add(Dropout(0.5))\n",
        "  BIGRU.add(Dense(32, activation='relu'))\n",
        "  BIGRU.add(Dense(16, activation='relu'))\n",
        "  BIGRU.add(Dense(2, activation='softmax'))\n",
        "  BIGRU.compile(optimizer=opt, loss='binary_crossentropy', metrics=['accuracy'])\n",
        "BIGRU.summary()"
      ]
    },
    {
      "cell_type": "code",
      "execution_count": 85,
      "id": "1df16b7d",
      "metadata": {
        "colab": {
          "base_uri": "https://localhost:8080/"
        },
        "id": "1df16b7d",
        "outputId": "aab7d104-0af0-497b-ebb4-40061291665f",
        "scrolled": true
      },
      "outputs": [
        {
          "name": "stdout",
          "output_type": "stream",
          "text": [
            "Epoch 1/20\n",
            "64/64 [==============================] - 28s 286ms/step - loss: 0.5037 - accuracy: 0.7408 - val_loss: 0.3105 - val_accuracy: 0.8772\n",
            "Epoch 2/20\n",
            "64/64 [==============================] - 11s 174ms/step - loss: 0.3070 - accuracy: 0.8860 - val_loss: 0.2835 - val_accuracy: 0.8896\n",
            "Epoch 3/20\n",
            "64/64 [==============================] - 11s 174ms/step - loss: 0.2604 - accuracy: 0.9097 - val_loss: 0.2783 - val_accuracy: 0.8968\n",
            "Epoch 4/20\n",
            "64/64 [==============================] - 11s 177ms/step - loss: 0.2338 - accuracy: 0.9208 - val_loss: 0.2639 - val_accuracy: 0.9018\n",
            "Epoch 5/20\n",
            "64/64 [==============================] - 11s 171ms/step - loss: 0.2145 - accuracy: 0.9287 - val_loss: 0.2676 - val_accuracy: 0.9004\n",
            "Epoch 6/20\n",
            "64/64 [==============================] - 11s 172ms/step - loss: 0.2045 - accuracy: 0.9323 - val_loss: 0.2696 - val_accuracy: 0.9020\n",
            "Epoch 7/20\n",
            "64/64 [==============================] - 11s 172ms/step - loss: 0.1888 - accuracy: 0.9375 - val_loss: 0.2721 - val_accuracy: 0.9048\n",
            "Epoch 8/20\n",
            "64/64 [==============================] - 11s 173ms/step - loss: 0.1761 - accuracy: 0.9413 - val_loss: 0.2793 - val_accuracy: 0.9020\n",
            "Epoch 9/20\n",
            "64/64 [==============================] - 11s 172ms/step - loss: 0.1664 - accuracy: 0.9446 - val_loss: 0.2871 - val_accuracy: 0.9009\n",
            "Epoch 10/20\n",
            "64/64 [==============================] - 11s 175ms/step - loss: 0.1575 - accuracy: 0.9472 - val_loss: 0.3096 - val_accuracy: 0.9012\n",
            "Epoch 11/20\n",
            "64/64 [==============================] - 11s 173ms/step - loss: 0.1526 - accuracy: 0.9491 - val_loss: 0.3166 - val_accuracy: 0.8962\n",
            "Epoch 12/20\n",
            "64/64 [==============================] - 11s 174ms/step - loss: 0.1426 - accuracy: 0.9523 - val_loss: 0.3448 - val_accuracy: 0.8990\n",
            "Epoch 13/20\n",
            "64/64 [==============================] - 11s 173ms/step - loss: 0.1381 - accuracy: 0.9539 - val_loss: 0.3413 - val_accuracy: 0.8982\n",
            "Epoch 14/20\n",
            "64/64 [==============================] - 11s 173ms/step - loss: 0.1331 - accuracy: 0.9569 - val_loss: 0.3658 - val_accuracy: 0.8974\n",
            "Epoch 15/20\n",
            "64/64 [==============================] - 11s 174ms/step - loss: 0.1328 - accuracy: 0.9561 - val_loss: 0.4053 - val_accuracy: 0.8974\n",
            "Epoch 16/20\n",
            "64/64 [==============================] - 11s 175ms/step - loss: 0.1262 - accuracy: 0.9580 - val_loss: 0.3993 - val_accuracy: 0.8938\n",
            "Epoch 17/20\n",
            "64/64 [==============================] - 11s 173ms/step - loss: 0.1283 - accuracy: 0.9583 - val_loss: 0.4131 - val_accuracy: 0.8979\n",
            "Epoch 18/20\n",
            "64/64 [==============================] - 11s 173ms/step - loss: 0.1191 - accuracy: 0.9615 - val_loss: 0.4134 - val_accuracy: 0.8940\n",
            "Epoch 19/20\n",
            "64/64 [==============================] - 11s 173ms/step - loss: 0.1174 - accuracy: 0.9624 - val_loss: 0.4342 - val_accuracy: 0.8954\n",
            "Epoch 20/20\n",
            "64/64 [==============================] - 11s 172ms/step - loss: 0.1112 - accuracy: 0.9648 - val_loss: 0.4491 - val_accuracy: 0.8960\n"
          ]
        }
      ],
      "source": [
        "history_BIGRU = BIGRU.fit(X_train, label_train, epochs=20, verbose=True,  validation_data=(X_test, label_test),batch_size=64*strategy.num_replicas_in_sync)\n"
      ]
    },
    {
      "cell_type": "code",
      "execution_count": 86,
      "id": "3d51d25a",
      "metadata": {
        "colab": {
          "base_uri": "https://localhost:8080/"
        },
        "id": "3d51d25a",
        "outputId": "510fa251-eb47-4a95-c0c7-b15d5e5e1c24"
      },
      "outputs": [
        {
          "name": "stdout",
          "output_type": "stream",
          "text": [
            "114/114 [==============================] - 5s 32ms/step - loss: 0.4491 - accuracy: 0.8960\n",
            "Testing Accuracy:  0.8960\n"
          ]
        }
      ],
      "source": [
        "loss_val, accuracy_val = BIGRU.evaluate(X_test, label_test, verbose=True)\n",
        "print(\"Testing Accuracy:  {:.4f}\".format(accuracy_val))"
      ]
    },
    {
      "cell_type": "code",
      "execution_count": 87,
      "id": "Yog7cDtIP2Yj",
      "metadata": {
        "id": "Yog7cDtIP2Yj"
      },
      "outputs": [],
      "source": [
        "BIGRU.save('Approach2_English_BIGRU_Model.h5')\n"
      ]
    },
    {
      "cell_type": "code",
      "execution_count": null,
      "id": "b6462059",
      "metadata": {
        "colab": {
          "base_uri": "https://localhost:8080/",
          "height": 489
        },
        "id": "b6462059",
        "outputId": "1ba2b639-1c0f-41e9-dfad-9a7f96f55697"
      },
      "outputs": [
        {
          "name": "stdout",
          "output_type": "stream",
          "text": [
            "346/346 [==============================] - 11s 22ms/step\n"
          ]
        },
        {
          "data": {
            "image/png": "[encoded data removed]",
            "text/plain": [
              "<Figure size 640x480 with 2 Axes>"
            ]
          },
          "metadata": {},
          "output_type": "display_data"
        }
      ],
      "source": [
        "y_pred=BIGRU.predict(X_test)\n",
        "y_pred = (y_pred >= 0.5).astype(int)\n",
        "y_test_class=np.array(label_test)\n",
        "\n",
        "GRU = confusion_matrix(y_test_class,y_pred)\n",
        "sns.heatmap(GRU,annot=True,fmt = '.0f')\n",
        "plt.xlabel('prediction')\n",
        "plt.ylabel('Actual')\n",
        "plt.title(\"Bidirectional GRU\"+ ' Confusion Matrix')\n",
        "plt.show()"
      ]
    },
    {
      "cell_type": "code",
      "execution_count": null,
      "id": "53482051",
      "metadata": {
        "colab": {
          "base_uri": "https://localhost:8080/",
          "height": 489
        },
        "id": "53482051",
        "outputId": "76f57cbb-5439-4e9f-c835-a50bbb1054f0"
      },
      "outputs": [
        {
          "data": {
            "text/plain": [
              "<matplotlib.legend.Legend at 0x7f93e7127ee0>"
            ]
          },
          "execution_count": 38,
          "metadata": {},
          "output_type": "execute_result"
        },
        {
          "data": {
            "image/png": "[encoded data removed]",
            "text/plain": [
              "<Figure size 640x480 with 1 Axes>"
            ]
          },
          "metadata": {},
          "output_type": "display_data"
        }
      ],
      "source": [
        "accuracy = history.history['accuracy']\n",
        "val_accuracy = history.history['val_accuracy']\n",
        "loss = history.history['loss']\n",
        "val_loss = history.history['val_loss']\n",
        "\n",
        "epochs = range(1,len(accuracy) + 1)\n",
        "\n",
        "# Plot accuracy\n",
        "plt.figure(1)\n",
        "plt.plot(epochs, accuracy, 'b', label='Training accuracy')\n",
        "plt.plot(epochs, val_accuracy, 'r', label='Validation accuracy')\n",
        "plt.title('Training and validation accuracy')\n",
        "plt.xlabel('Epochs')\n",
        "plt.ylabel('Accuracy')\n",
        "plt.legend()"
      ]
    },
    {
      "cell_type": "code",
      "execution_count": null,
      "id": "b85d8bb1",
      "metadata": {
        "colab": {
          "base_uri": "https://localhost:8080/",
          "height": 472
        },
        "id": "b85d8bb1",
        "outputId": "66b982e9-eade-456f-bb88-52c08d42cc43"
      },
      "outputs": [
        {
          "data": {
            "image/png": "[encoded data removed]",
            "text/plain": [
              "<Figure size 640x480 with 1 Axes>"
            ]
          },
          "metadata": {},
          "output_type": "display_data"
        }
      ],
      "source": [
        "# Plot loss\n",
        "plt.figure(2)\n",
        "plt.plot(epochs, loss, 'b', label='Training loss')\n",
        "plt.plot(epochs, val_loss, 'r', label='Validation loss')\n",
        "plt.title('Training and validation loss')\n",
        "plt.xlabel('Epochs')\n",
        "plt.ylabel('Loss')\n",
        "plt.legend()\n",
        "plt.show()"
      ]
    }
  ],
  "metadata": {
    "accelerator": "TPU",
    "colab": {
      "gpuType": "T4",
      "provenance": []
    },
    "kernelspec": {
      "display_name": "Python 3",
      "name": "python3"
    },
    "language_info": {
      "codemirror_mode": {
        "name": "ipython",
        "version": 3
      },
      "file_extension": ".py",
      "mimetype": "text/x-python",
      "name": "python",
      "nbconvert_exporter": "python",
      "pygments_lexer": "ipython3",
      "version": "3.9.13"
    }
  },
  "nbformat": 4,
  "nbformat_minor": 5
}
