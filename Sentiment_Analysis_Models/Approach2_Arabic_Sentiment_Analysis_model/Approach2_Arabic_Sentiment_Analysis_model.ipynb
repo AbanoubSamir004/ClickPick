{
  "cells": [
    {
      "cell_type": "code",
      "execution_count": null,
      "metadata": {
        "id": "RH2k2wDamvC2"
      },
      "outputs": [],
      "source": [
        "#from google.colab import drive\n",
        "#drive.mount('/content/drive')"
      ]
    },
    {
      "cell_type": "code",
      "source": [
        "# !pip install emoji\n",
        "!pip install qalsadi"
      ],
      "metadata": {
        "colab": {
          "base_uri": "https://localhost:8080/"
        },
        "id": "1f6Oqw3IQN1T",
        "outputId": "4ec9855d-8689-4682-d7f0-1a5fb3f6fd2f"
      },
      "execution_count": 42,
      "outputs": [
        {
          "output_type": "stream",
          "name": "stdout",
          "text": [
            "Collecting qalsadi\n",
            "  Downloading qalsadi-0.4.6-py3-none-any.whl (256 kB)\n",
            "\u001b[2K     \u001b[90m━━━━━━━━━━━━━━━━━━━━━━━━━━━━━━━━━━━━━━━\u001b[0m \u001b[32m256.6/256.6 kB\u001b[0m \u001b[31m5.5 MB/s\u001b[0m eta \u001b[36m0:00:00\u001b[0m\n",
            "\u001b[?25hCollecting Arabic-Stopwords>=0.3 (from qalsadi)\n",
            "  Downloading Arabic_Stopwords-0.4.3-py3-none-any.whl (360 kB)\n",
            "\u001b[2K     \u001b[90m━━━━━━━━━━━━━━━━━━━━━━━━━━━━━━━━━━━━━━\u001b[0m \u001b[32m360.5/360.5 kB\u001b[0m \u001b[31m19.2 MB/s\u001b[0m eta \u001b[36m0:00:00\u001b[0m\n",
            "\u001b[?25hCollecting alyahmor>=0.1 (from qalsadi)\n",
            "  Downloading alyahmor-0.2-py3-none-any.whl (65 kB)\n",
            "\u001b[2K     \u001b[90m━━━━━━━━━━━━━━━━━━━━━━━━━━━━━━━━━━━━━━━━\u001b[0m \u001b[32m65.1/65.1 kB\u001b[0m \u001b[31m7.3 MB/s\u001b[0m eta \u001b[36m0:00:00\u001b[0m\n",
            "\u001b[?25hCollecting arramooz-pysqlite>=0.3 (from qalsadi)\n",
            "  Downloading arramooz_pysqlite-0.4.1-py3-none-any.whl (14.5 MB)\n",
            "\u001b[2K     \u001b[90m━━━━━━━━━━━━━━━━━━━━━━━━━━━━━━━━━━━━━━━━\u001b[0m \u001b[32m14.5/14.5 MB\u001b[0m \u001b[31m25.6 MB/s\u001b[0m eta \u001b[36m0:00:00\u001b[0m\n",
            "\u001b[?25hRequirement already satisfied: future>=0.16.0 in /usr/local/lib/python3.10/dist-packages (from qalsadi) (0.18.3)\n",
            "Collecting libqutrub>=1.2.3 (from qalsadi)\n",
            "  Downloading libqutrub-1.2.4.1-py3-none-any.whl (138 kB)\n",
            "\u001b[2K     \u001b[90m━━━━━━━━━━━━━━━━━━━━━━━━━━━━━━━━━━━━━━\u001b[0m \u001b[32m139.0/139.0 kB\u001b[0m \u001b[31m14.4 MB/s\u001b[0m eta \u001b[36m0:00:00\u001b[0m\n",
            "\u001b[?25hCollecting naftawayh>=0.3 (from qalsadi)\n",
            "  Downloading Naftawayh-0.4-py3-none-any.whl (332 kB)\n",
            "\u001b[2K     \u001b[90m━━━━━━━━━━━━━━━━━━━━━━━━━━━━━━━━━━━━━━\u001b[0m \u001b[32m332.6/332.6 kB\u001b[0m \u001b[31m26.1 MB/s\u001b[0m eta \u001b[36m0:00:00\u001b[0m\n",
            "\u001b[?25hCollecting pickledb>=0.9.2 (from qalsadi)\n",
            "  Downloading pickleDB-0.9.2.tar.gz (3.7 kB)\n",
            "  Preparing metadata (setup.py) ... \u001b[?25l\u001b[?25hdone\n",
            "Collecting pyarabic>=0.6.7 (from qalsadi)\n",
            "  Downloading PyArabic-0.6.15-py3-none-any.whl (126 kB)\n",
            "\u001b[2K     \u001b[90m━━━━━━━━━━━━━━━━━━━━━━━━━━━━━━━━━━━━━━\u001b[0m \u001b[32m126.4/126.4 kB\u001b[0m \u001b[31m12.2 MB/s\u001b[0m eta \u001b[36m0:00:00\u001b[0m\n",
            "\u001b[?25hRequirement already satisfied: six>=1.10.0 in /usr/local/lib/python3.10/dist-packages (from qalsadi) (1.16.0)\n",
            "Collecting tashaphyne>=0.3.4.1 (from qalsadi)\n",
            "  Downloading Tashaphyne-0.3.6-py3-none-any.whl (251 kB)\n",
            "\u001b[2K     \u001b[90m━━━━━━━━━━━━━━━━━━━━━━━━━━━━━━━━━━━━━━\u001b[0m \u001b[32m251.5/251.5 kB\u001b[0m \u001b[31m16.9 MB/s\u001b[0m eta \u001b[36m0:00:00\u001b[0m\n",
            "\u001b[?25hBuilding wheels for collected packages: pickledb\n",
            "  Building wheel for pickledb (setup.py) ... \u001b[?25l\u001b[?25hdone\n",
            "  Created wheel for pickledb: filename=pickleDB-0.9.2-py3-none-any.whl size=4254 sha256=9f1fba477505602a641cb828e137fc55faa435ef7fcc042f13e2897581175ee7\n",
            "  Stored in directory: /root/.cache/pip/wheels/31/99/ef/8bf37f0157e6423a373297de279351af04ad18c4136c3af121\n",
            "Successfully built pickledb\n",
            "Installing collected packages: pickledb, pyarabic, tashaphyne, libqutrub, arramooz-pysqlite, Arabic-Stopwords, naftawayh, alyahmor, qalsadi\n",
            "Successfully installed Arabic-Stopwords-0.4.3 alyahmor-0.2 arramooz-pysqlite-0.4.1 libqutrub-1.2.4.1 naftawayh-0.4 pickledb-0.9.2 pyarabic-0.6.15 qalsadi-0.4.6 tashaphyne-0.3.6\n"
          ]
        }
      ]
    },
    {
      "cell_type": "markdown",
      "metadata": {
        "id": "Ba6CMiA-TrIq"
      },
      "source": [
        "# **Imports**"
      ]
    },
    {
      "cell_type": "code",
      "execution_count": 43,
      "metadata": {
        "colab": {
          "base_uri": "https://localhost:8080/",
          "height": 52
        },
        "id": "X_MI1ZOgm--d",
        "outputId": "2406f721-7183-491b-f7ae-d58a75549733"
      },
      "outputs": [
        {
          "output_type": "display_data",
          "data": {
            "text/html": [
              "        <script type=\"text/javascript\">\n",
              "        window.PlotlyConfig = {MathJaxConfig: 'local'};\n",
              "        if (window.MathJax && window.MathJax.Hub && window.MathJax.Hub.Config) {window.MathJax.Hub.Config({SVG: {font: \"STIX-Web\"}});}\n",
              "        if (typeof require !== 'undefined') {\n",
              "        require.undef(\"plotly\");\n",
              "        requirejs.config({\n",
              "            paths: {\n",
              "                'plotly': ['https://cdn.plot.ly/plotly-2.18.2.min']\n",
              "            }\n",
              "        });\n",
              "        require(['plotly'], function(Plotly) {\n",
              "            window._Plotly = Plotly;\n",
              "        });\n",
              "        }\n",
              "        </script>\n",
              "        "
            ]
          },
          "metadata": {}
        },
        {
          "output_type": "stream",
          "name": "stderr",
          "text": [
            "[nltk_data] Downloading package stopwords to /root/nltk_data...\n",
            "[nltk_data]   Package stopwords is already up-to-date!\n"
          ]
        }
      ],
      "source": [
        "import pandas as pd\n",
        "import numpy as np\n",
        "import seaborn as sns\n",
        "import matplotlib.pyplot as plt\n",
        "from plotly.offline import init_notebook_mode, iplot\n",
        "#from keras.utils import np_utils\n",
        "import qalsadi.lemmatizer\n",
        "from nltk.stem.isri import ISRIStemmer\n",
        "import re\n",
        "import emoji\n",
        "from nltk.corpus import stopwords\n",
        "init_notebook_mode(connected=True)\n",
        "from sklearn.feature_extraction.text import TfidfVectorizer\n",
        "import nltk\n",
        "nltk.download('stopwords')\n",
        "from operator import is_not\n",
        "import tensorflow as tf\n",
        "\n",
        "from functools import partial\n",
        "from sklearn.metrics import confusion_matrix,classification_report\n",
        "from sklearn.metrics import classification_report , roc_curve, f1_score, accuracy_score, recall_score , roc_auc_score,make_scorer,precision_score\n",
        "from sklearn.model_selection import train_test_split\n",
        "from sklearn.model_selection import cross_val_score, GridSearchCV\n",
        "from sklearn import metrics\n",
        "from sklearn.ensemble import RandomForestClassifier,GradientBoostingClassifier\n",
        "from sklearn.linear_model import LogisticRegression\n",
        "from sklearn.svm import LinearSVC\n",
        "from sklearn.naive_bayes import MultinomialNB\n",
        "\n",
        "from keras.preprocessing.text import Tokenizer\n",
        "from tensorflow.keras.preprocessing.sequence import pad_sequences\n",
        "from keras.models import Sequential\n",
        "from keras import layers\n",
        "from keras.backend import clear_session\n",
        "from tensorflow import keras\n"
      ]
    },
    {
      "cell_type": "code",
      "execution_count": null,
      "metadata": {
        "id": "x7A8v8IEhixb"
      },
      "outputs": [],
      "source": [
        "df=pd.read_excel(\"All_Scrapped_Sentiment_Dataset.xlsx\")"
      ]
    },
    {
      "cell_type": "code",
      "execution_count": null,
      "metadata": {
        "id": "0HLmwTCfhixb",
        "outputId": "52713e29-2ce7-4fb0-cb32-92bc0499170c"
      },
      "outputs": [
        {
          "data": {
            "text/html": [
              "<div>\n",
              "<style scoped>\n",
              "    .dataframe tbody tr th:only-of-type {\n",
              "        vertical-align: middle;\n",
              "    }\n",
              "\n",
              "    .dataframe tbody tr th {\n",
              "        vertical-align: top;\n",
              "    }\n",
              "\n",
              "    .dataframe thead th {\n",
              "        text-align: right;\n",
              "    }\n",
              "</style>\n",
              "<table border=\"1\" class=\"dataframe\">\n",
              "  <thead>\n",
              "    <tr style=\"text-align: right;\">\n",
              "      <th></th>\n",
              "      <th>Unnamed: 0</th>\n",
              "      <th>review</th>\n",
              "      <th>rating</th>\n",
              "    </tr>\n",
              "  </thead>\n",
              "  <tbody>\n",
              "    <tr>\n",
              "      <th>0</th>\n",
              "      <td>0</td>\n",
              "      <td>المنتج لم يصلني . وصلتي منتج مختلف اللي وصلني ...</td>\n",
              "      <td>0</td>\n",
              "    </tr>\n",
              "    <tr>\n",
              "      <th>1</th>\n",
              "      <td>1</td>\n",
              "      <td>السماعة اشتريتها قبل كده وممتازة جدا دلوقتى اش...</td>\n",
              "      <td>0</td>\n",
              "    </tr>\n",
              "    <tr>\n",
              "      <th>2</th>\n",
              "      <td>2</td>\n",
              "      <td>ممتازة جدا والسعر جيد جدا شكرا للبائع وشكرا نوون</td>\n",
              "      <td>1</td>\n",
              "    </tr>\n",
              "    <tr>\n",
              "      <th>3</th>\n",
              "      <td>3</td>\n",
              "      <td>ممتاز</td>\n",
              "      <td>1</td>\n",
              "    </tr>\n",
              "    <tr>\n",
              "      <th>4</th>\n",
              "      <td>4</td>\n",
              "      <td>الصنية حجمها كبير وتقيلة ما شاء الله شكرا نون</td>\n",
              "      <td>1</td>\n",
              "    </tr>\n",
              "    <tr>\n",
              "      <th>...</th>\n",
              "      <td>...</td>\n",
              "      <td>...</td>\n",
              "      <td>...</td>\n",
              "    </tr>\n",
              "    <tr>\n",
              "      <th>112447</th>\n",
              "      <td>112447</td>\n",
              "      <td>حالة عدم مصداقية , تم استلام المنتج وهو تحت ال...</td>\n",
              "      <td>1</td>\n",
              "    </tr>\n",
              "    <tr>\n",
              "      <th>112448</th>\n",
              "      <td>112448</td>\n",
              "      <td>نوعية المعدن رديئة , نوعية معدن البريسليت رديئ...</td>\n",
              "      <td>0</td>\n",
              "    </tr>\n",
              "    <tr>\n",
              "      <th>112449</th>\n",
              "      <td>112449</td>\n",
              "      <td>Only 11 gems in the bracelet/ Product descript...</td>\n",
              "      <td>0</td>\n",
              "    </tr>\n",
              "    <tr>\n",
              "      <th>112450</th>\n",
              "      <td>112450</td>\n",
              "      <td>الانسيال مش زي الصورة خالص , للاسف المنتج صدمن...</td>\n",
              "      <td>0</td>\n",
              "    </tr>\n",
              "    <tr>\n",
              "      <th>112451</th>\n",
              "      <td>112451</td>\n",
              "      <td>رهيييييب حلو جدا جدا , منتهي الشياكة تحفة</td>\n",
              "      <td>1</td>\n",
              "    </tr>\n",
              "  </tbody>\n",
              "</table>\n",
              "<p>112452 rows × 3 columns</p>\n",
              "</div>"
            ],
            "text/plain": [
              "        Unnamed: 0                                             review  rating\n",
              "0                0  المنتج لم يصلني . وصلتي منتج مختلف اللي وصلني ...       0\n",
              "1                1  السماعة اشتريتها قبل كده وممتازة جدا دلوقتى اش...       0\n",
              "2                2   ممتازة جدا والسعر جيد جدا شكرا للبائع وشكرا نوون       1\n",
              "3                3                                              ممتاز       1\n",
              "4                4      الصنية حجمها كبير وتقيلة ما شاء الله شكرا نون       1\n",
              "...            ...                                                ...     ...\n",
              "112447      112447  حالة عدم مصداقية , تم استلام المنتج وهو تحت ال...       1\n",
              "112448      112448  نوعية المعدن رديئة , نوعية معدن البريسليت رديئ...       0\n",
              "112449      112449  Only 11 gems in the bracelet/ Product descript...       0\n",
              "112450      112450  الانسيال مش زي الصورة خالص , للاسف المنتج صدمن...       0\n",
              "112451      112451          رهيييييب حلو جدا جدا , منتهي الشياكة تحفة       1\n",
              "\n",
              "[112452 rows x 3 columns]"
            ]
          },
          "execution_count": 6,
          "metadata": {},
          "output_type": "execute_result"
        }
      ],
      "source": [
        "df"
      ]
    },
    {
      "cell_type": "markdown",
      "metadata": {
        "id": "q7QWq03D80rS",
        "papermill": {
          "duration": 0.079249,
          "end_time": "2022-09-21T03:15:31.540628",
          "exception": false,
          "start_time": "2022-09-21T03:15:31.461379",
          "status": "completed"
        },
        "tags": []
      },
      "source": [
        "# **Preprocessing**"
      ]
    },
    {
      "cell_type": "code",
      "execution_count": 70,
      "metadata": {
        "id": "Kr52Cn2FtpD3"
      },
      "outputs": [],
      "source": [
        "def data_preprocessing(text):\n",
        "    emojis = {\n",
        "        \"🙂\":\"يبتسم\",\n",
        "        \"😂\":\"يضحك\",\n",
        "        \"💔\":\"قلب حزين\",\n",
        "        \"🙂\":\"يبتسم\",\n",
        "        \"❤️\":\"حب\",\n",
        "        \"❤\":\"حب\",\n",
        "        \"😍\":\"حب\",\n",
        "        \"😭\":\"يبكي\",\n",
        "        \"😢\":\"حزن\",\n",
        "        \"😔\":\"حزن\",\n",
        "        \"♥\":\"حب\",\n",
        "        \"💜\":\"حب\",\n",
        "        \"😅\":\"يضحك\",\n",
        "        \"🙁\":\"حزين\",\n",
        "        \"💕\":\"حب\",\n",
        "        \"💙\":\"حب\",\n",
        "        \"😞\":\"حزين\",\n",
        "        \"😊\":\"سعادة\",\n",
        "        \"👏\":\"يصفق\",\n",
        "        \"👌\":\"احسنت\",\n",
        "        \"😴\":\"ينام\",\n",
        "        \"😀\":\"يضحك\",\n",
        "        \"😌\":\"حزين\",\n",
        "        \"🌹\":\"وردة\",\n",
        "        \"🙈\":\"حب\",\n",
        "        \"😄\":\"يضحك\",\n",
        "        \"😐\":\"محايد\",\n",
        "        \"✌\":\"منتصر\",\n",
        "        \"✨\":\"نجمه\",\n",
        "        \"🤔\":\"تفكير\",\n",
        "        \"😏\":\"يستهزء\",\n",
        "        \"😒\":\"يستهزء\",\n",
        "        \"🙄\":\"ملل\",\n",
        "        \"😕\":\"عصبية\",\n",
        "        \"😃\":\"يضحك\",\n",
        "        \"🌸\":\"وردة\",\n",
        "        \"😓\":\"حزن\",\n",
        "        \"💞\":\"حب\",\n",
        "        \"💗\":\"حب\",\n",
        "        \"😑\":\"منزعج\",\n",
        "        \"💭\":\"تفكير\",\n",
        "        \"😎\":\"ثقة\",\n",
        "        \"💛\":\"حب\",\n",
        "        \"😩\":\"حزين\",\n",
        "        \"💪\":\"عضلات\",\n",
        "        \"👍\":\"موافق\",\n",
        "        \"🙏🏻\":\"رجاء طلب\",\n",
        "        \"😳\":\"مصدوم\",\n",
        "        \"👏🏼\":\"تصفيق\",\n",
        "        \"🎶\":\"موسيقي\",\n",
        "        \"🌚\":\"صمت\",\n",
        "        \"💚\":\"حب\",\n",
        "        \"🙏\":\"رجاء طلب\",\n",
        "        \"💘\":\"حب\",\n",
        "        \"🍃\":\"سلام\",\n",
        "        \"☺\":\"يضحك\",\n",
        "        \"🐸\":\"ضفدع\",\n",
        "        \"😶\":\"مصدوم\",\n",
        "        \"✌️\":\"مرح\",\n",
        "        \"✋🏻\":\"توقف\",\n",
        "        \"😉\":\"غمزة\",\n",
        "        \"🌷\":\"حب\",\n",
        "        \"🙃\":\"مبتسم\",\n",
        "        \"😫\":\"حزين\",\n",
        "        \"😨\":\"مصدوم\",\n",
        "        \"🎼 \":\"موسيقي\",\n",
        "        \"🍁\":\"مرح\",\n",
        "        \"🍂\":\"مرح\",\n",
        "        \"💟\":\"حب\",\n",
        "        \"😪\":\"حزن\",\n",
        "        \"😆\":\"يضحك\",\n",
        "        \"😣\":\"استياء\",\n",
        "        \"☺️\":\"حب\",\n",
        "        \"😱\":\"كارثة\",\n",
        "        \"😁\":\"يضحك\",\n",
        "        \"😖\":\"استياء\",\n",
        "        \"🏃🏼\":\"يجري\",\n",
        "        \"😡\":\"غضب\",\n",
        "        \"🚶\":\"يسير\",\n",
        "        \"🤕\":\"مرض\",\n",
        "        \"‼️\":\"تعجب\",\n",
        "        \"🕊\":\"طائر\",\n",
        "        \"👌🏻\":\"احسنت\",\n",
        "        \"❣\":\"حب\",\n",
        "        \"🙊\":\"مصدوم\",\n",
        "        \"💃\":\"سعادة مرح\",\n",
        "        \"💃🏼\":\"سعادة مرح\",\n",
        "        \"😜\":\"مرح\",\n",
        "        \"👊\":\"ضربة\",\n",
        "        \"😟\":\"استياء\",\n",
        "        \"💖\":\"حب\",\n",
        "        \"😥\":\"حزن\",\n",
        "        \"🎻\":\"موسيقي\",\n",
        "        \"✒\":\"يكتب\",\n",
        "        \"🚶🏻\":\"يسير\",\n",
        "        \"💎\":\"الماظ\",\n",
        "        \"😷\":\"وباء مرض\",\n",
        "        \"☝\":\"واحد\",\n",
        "        \"🚬\":\"تدخين\",\n",
        "        \"💐\" : \"ورد\",\n",
        "        \"🌞\" : \"شمس\",\n",
        "        \"👆\" : \"الاول\",\n",
        "        \"⚠️\" :\"تحذير\",\n",
        "        \"🤗\" : \"احتواء\",\n",
        "        \"✖️\": \"غلط\",\n",
        "        \"📍\"  : \"مكان\",\n",
        "        \"👸\" : \"ملكه\",\n",
        "        \"👑\" : \"تاج\",\n",
        "        \"✔️\" : \"صح\",\n",
        "        \"💌\": \"قلب\",\n",
        "        \"😲\" : \"مندهش\",\n",
        "        \"💦\": \"ماء\",\n",
        "        \"🚫\" : \"خطا\",\n",
        "        \"👏🏻\" : \"برافو\",\n",
        "        \"🏊\" :\"يسبح\",\n",
        "        \"👍🏻\": \"تمام\",\n",
        "        \"⭕️\" :\"دائره كبيره\",\n",
        "        \"🎷\" : \"ساكسفون\",\n",
        "        \"👋\": \"تلويح باليد\",\n",
        "        \"✌🏼\": \"علامه النصر\",\n",
        "        \"🌝\":\"مبتسم\",\n",
        "        \"➿\"  : \"عقده مزدوجه\",\n",
        "        \"💪🏼\" : \"قوي\",\n",
        "        \"📩\":  \"تواصل معي\",\n",
        "        \"☕️\": \"قهوه\",\n",
        "        \"😧\" : \"قلق و صدمة\",\n",
        "        \"🗨\": \"رسالة\",\n",
        "        \"❗️\" :\"تعجب\",\n",
        "        \"🙆🏻\": \"اشاره موافقه\",\n",
        "        \"👯\" :\"اخوات\",\n",
        "        \"©\" :  \"رمز\",\n",
        "        \"👵🏽\" :\"سيده عجوزه\",\n",
        "        \"🐣\": \"كتكوت\",\n",
        "        \"🙌\": \"تشجيع\",\n",
        "        \"🙇\": \"شخص ينحني\",\n",
        "        \"👐🏽\":\"ايدي مفتوحه\",\n",
        "        \"👌🏽\": \"بالظبط\",\n",
        "        \"⁉️\" : \"استنكار\",\n",
        "        \"⚽️\": \"كوره\",\n",
        "        \"🕶\" :\"حب\",\n",
        "        \"🎈\" :\"بالون\",\n",
        "        \"🎀\":    \"ورده\",\n",
        "        \"💵\":  \"فلوس\",\n",
        "        \"😋\":  \"جائع\",\n",
        "        \"😛\":  \"يغيظ\",\n",
        "        \"😠\":  \"غاضب\",\n",
        "        \"✍🏻\":  \"يكتب\",\n",
        "        \"🌾\":  \"ارز\",\n",
        "        \"👣\":  \"اثر قدمين\",\n",
        "        \"❌\":\"رفض\",\n",
        "        \"🍟\":\"طعام\",\n",
        "        \"👬\":\"صداقة\",\n",
        "        \"🐰\":\"ارنب\",\n",
        "        \"☂\":\"مطر\",\n",
        "        \"⚜\":\"مملكة فرنسا\",\n",
        "        \"🐑\":\"خروف\",\n",
        "        \"🗣\":\"صوت مرتفع\",\n",
        "        \"👌🏼\":\"احسنت\",\n",
        "        \"☘\":\"مرح\",\n",
        "        \"😮\":\"صدمة\",\n",
        "        \"😦\":\"قلق\",\n",
        "        \"⭕\":\"الحق\",\n",
        "        \"✏️\":\"قلم\",\n",
        "        \"ℹ\":\"معلومات\",\n",
        "        \"🙍🏻\":\"رفض\",\n",
        "        \"⚪️\":\"نضارة نقاء\",\n",
        "        \"🐤\":\"حزن\",\n",
        "        \"💫\":\"مرح\",\n",
        "        \"💝\":\"حب\",\n",
        "        \"🍔\":\"طعام\",\n",
        "        \"❤︎\":\"حب\",\n",
        "        \"✈️\":\"سفر\",\n",
        "        \"🏃🏻‍♀️\":\"يسير\",\n",
        "        \"🍳\":\"ذكر\",\n",
        "        \"🎤\":\"مايك غناء\",\n",
        "        \"🎾\":\"كره\",\n",
        "        \"🐔\":\"دجاجة\",\n",
        "        \"🙋\":\"سؤال\",\n",
        "        \"📮\":\"بحر\",\n",
        "        \"💉\":\"دواء\",\n",
        "        \"🙏🏼\":\"رجاء طلب\",\n",
        "        \"💂🏿 \":\"حارس\",\n",
        "        \"🎬\":\"سينما\",\n",
        "        \"♦️\":\"مرح\",\n",
        "        \"💡\":\"قكرة\",\n",
        "        \"‼\":\"تعجب\",\n",
        "        \"👼\":\"طفل\",\n",
        "        \"🔑\":\"مفتاح\",\n",
        "        \"♥️\":\"حب\",\n",
        "        \"🕋\":\"كعبة\",\n",
        "        \"🐓\":\"دجاجة\",\n",
        "        \"💩\":\"معترض\",\n",
        "        \"👽\":\"فضائي\",\n",
        "        \"☔️\":\"مطر\",\n",
        "        \"🍷\":\"عصير\",\n",
        "        \"🌟\":\"نجمة\",\n",
        "        \"☁️\":\"سحب\",\n",
        "        \"👃\":\"معترض\",\n",
        "        \"🌺\":\"مرح\",\n",
        "        \"🔪\":\"سكينة\",\n",
        "        \"♨\":\"سخونية\",\n",
        "        \"👊🏼\":\"ضرب\",\n",
        "        \"✏\":\"قلم\",\n",
        "        \"🚶🏾‍♀️\":\"يسير\",\n",
        "        \"👊\":\"ضربة\",\n",
        "        \"◾️\":\"وقف\",\n",
        "        \"😚\":\"حب\",\n",
        "        \"🔸\":\"مرح\",\n",
        "        \"👎🏻\":\"لا يعجبني\",\n",
        "        \"👊🏽\":\"ضربة\",\n",
        "        \"😙\":\"حب\",\n",
        "        \"🎥\":\"تصوير\",\n",
        "        \"👉\":\"جذب انتباه\",\n",
        "        \"👏🏽\":\"يصفق\",\n",
        "        \"💪🏻\":\"عضلات\",\n",
        "        \"🏴\":\"اسود\",\n",
        "        \"🔥\":\"حريق\",\n",
        "        \"😬\":\"عدم الراحة\",\n",
        "        \"👊🏿\":\"يضرب\",\n",
        "        \"🌿\":\"ورقه شجره\",\n",
        "        \"✋🏼\":\"كف ايد\",\n",
        "        \"👐\":\"ايدي مفتوحه\",\n",
        "        \"☠️\":\"وجه مرعب\",\n",
        "        \"🎉\":\"يهنئ\",\n",
        "        \"🔕\" :\"صامت\",\n",
        "        \"😿\":\"وجه حزين\",\n",
        "        \"☹️\":\"وجه يائس\",\n",
        "        \"😘\" :\"حب\",\n",
        "        \"😰\" :\"خوف و حزن\",\n",
        "        \"🌼\":\"ورده\",\n",
        "        \"💋\":  \"بوسه\",\n",
        "        \"👇\":\"لاسفل\",\n",
        "        \"❣️\":\"حب\",\n",
        "        \"🎧\":\"سماعات\",\n",
        "        \"📝\":\"يكتب\",\n",
        "        \"😇\":\"دايخ\",\n",
        "        \"😈\":\"رعب\",\n",
        "        \"🏃\":\"يجري\",\n",
        "        \"✌🏻\":\"علامه النصر\",\n",
        "        \"🔫\":\"يضرب\",\n",
        "        \"❗️\":\"تعجب\",\n",
        "        \"👎\":\"غير موافق\",\n",
        "        \"🔐\":\"قفل\",\n",
        "        \"👈\":\"لليمين\",\n",
        "        \"™\":\"رمز\",\n",
        "        \"🚶🏽\":\"يتمشي\",\n",
        "        \"😯\":\"متفاجأ\",\n",
        "        \"✊\":\"يد مغلقه\",\n",
        "        \"😻\":\"اعجاب\",\n",
        "        \"🙉\" :\"قرد\",\n",
        "        \"👧\":\"طفله صغيره\",\n",
        "        \"🔴\":\"دائره حمراء\",\n",
        "        \"💪🏽\":\"قوه\",\n",
        "        \"💤\":\"ينام\",\n",
        "        \"👀\":\"ينظر\",\n",
        "        \"✍🏻\":\"يكتب\",\n",
        "        \"❄️\":\"تلج\",\n",
        "        \"💀\":\"رعب\",\n",
        "        \"😤\":\"وجه عابس\",\n",
        "        \"🖋\":\"قلم\",\n",
        "        \"🎩\":\"كاب\",\n",
        "        \"☕️\":\"قهوه\",\n",
        "        \"😹\":\"ضحك\",\n",
        "        \"💓\":\"حب\",\n",
        "        \"☄️ \":\"نار\",\n",
        "        \"👻\":\"رعب\",\n",
        "        \"❎\":\"خطء\",\n",
        "        \"🤮\":\"حزن\",\n",
        "        '🏻':\"احمر\"\n",
        "    }\n",
        "\n",
        "    emoticons_to_emoji = {\n",
        "        \":)\" : \"🙂\",\n",
        "        \":(\" : \"🙁\",\n",
        "        \"xD\" : \"😆\",\n",
        "        \":=(\": \"😭\",\n",
        "        \":'(\": \"😢\",\n",
        "        \":'‑(\": \"😢\",\n",
        "        \"XD\" : \"😂\",\n",
        "        \":D\" : \"🙂\",\n",
        "        \"♬\" : \"موسيقي\",\n",
        "        \"♡\" : \"❤\",\n",
        "        \"☻\"  : \"🙂\",\n",
        "    }\n",
        "\n",
        "    def remove_diacritics(text):\n",
        "        arabic_diacritics = re.compile(\"\"\" ّ    | # Tashdid\n",
        "                            َ    | # Fatha\n",
        "                            ً    | # Tanwin Fath\n",
        "                            ُ    | # Damma\n",
        "                            ٌ    | # Tanwin Damm\n",
        "                            ِ    | # Kasra\n",
        "                            ٍ    | # Tanwin Kasr\n",
        "                            ْ    | # Sukun\n",
        "                            ـ     # Tatwil/Kashida\n",
        "                        \"\"\", re.VERBOSE)\n",
        "        text = re.sub(arabic_diacritics, '', str(text))\n",
        "        return text\n",
        "\n",
        "    def remove_longation(text):\n",
        "        #remove longation/non-arabic\n",
        "        text = re.sub(\"[إأآا]\", \"ا\", text)\n",
        "        text = re.sub(\"ى\", \"ي\", text)\n",
        "        text = re.sub(\"ؤ\", \"ء\", text)\n",
        "        text = re.sub(\"ئ\", \"ء\", text)\n",
        "        text = re.sub(\"ة\", \"ه\", text)\n",
        "        text = re.sub(\"گ\", \"ك\", text)\n",
        "        text=re.sub(r'[^\\u0621-\\u064A]+', ' ', text)\n",
        "\n",
        "        return text\n",
        "\n",
        "    def remove_urls(text):\n",
        "\n",
        "        text = re.sub(r'^https?://.[\\r\\n]', '', text, flags=re.MULTILINE)\n",
        "        text = re.sub(r'^http?://.[\\r\\n]', '', text, flags=re.MULTILINE)\n",
        "        text = re.sub(r\"http\\S+\", \"\", text)\n",
        "        text = re.sub(r\"https\\S+\", \"\", text)\n",
        "        text = re.sub(r'\\s+', ' ', text)\n",
        "        text = re.sub(\"(\\s\\d+)\",\"\",text)\n",
        "        text = re.sub(r\"$\\d+\\W+|\\b\\d+\\b|\\W+\\d+$\", \"\", text)\n",
        "        text = re.sub(\"\\d+\", \" \", text)\n",
        "        return text\n",
        "\n",
        "    def checkemojie(text):\n",
        "        emojistext=[]\n",
        "        for char in text:\n",
        "            if any(emoji.distinct_emoji_list(char)) and char in emojis.keys():\n",
        "                emojistext.append(emojis[emoji.distinct_emoji_list(char)[0]])\n",
        "        return \" \".join(emojistext)\n",
        "\n",
        "    def emojiTextTransform(text):\n",
        "        cleantext=re.sub(r'[^\\w\\s]','',text)\n",
        "        return cleantext+\" \"+checkemojie(text)\n",
        "\n",
        "    def convert_list_to_str(data):\n",
        "        data = str(data)\n",
        "        data = data.replace(\"'\",'')\n",
        "        data = data.replace(',','')\n",
        "        data = data.replace('[','')\n",
        "        data = data.replace(']','')\n",
        "        return data\n",
        "\n",
        "\n",
        "    stopWords=list(set(stopwords.words(\"arabic\")))## To remove duplictes and return to list again\n",
        "    #Some words needed to work with to will remove\n",
        "    for word in ['واو','لا','لكن','ولكن','أطعم', 'أف','ليس','ولا','ما','تكون','بس']:\n",
        "        if word in stopWords:\n",
        "            stopWords.remove(word)\n",
        "\n",
        "    #new_df=pd.DataFrame()\n",
        "    #Remove Punctuation\n",
        "\n",
        "    preprocessed_text = text\n",
        "    preprocessed_text = re.sub('[%s]' % re.escape(\"\"\"!\"#$%&'()*+,،-./:;<=>؟?@[\\]^_`{|}~\"\"\"), ' ', preprocessed_text)\n",
        "    preprocessed_text = preprocessed_text.replace('؛', '')\n",
        "\n",
        "    preprocessed_text = \" \".join([word for word in preprocessed_text.split() if word not in stopWords])\n",
        "\n",
        "    preprocessed_text = emojiTextTransform(preprocessed_text)\n",
        "    preprocessed_text = remove_diacritics(preprocessed_text)\n",
        "    preprocessed_text = remove_longation(preprocessed_text)\n",
        "    preprocessed_text = remove_urls(preprocessed_text)\n",
        "    preprocessed_text = ''.join([word for word in preprocessed_text if not word.isdigit()])\n",
        "\n",
        "    preprocessed_text = \" \".join([ISRIStemmer().stem(word) for word in preprocessed_text.split()])\n",
        "\n",
        "\n",
        "    #Apply lemmatization\n",
        "    # preprocessed_text = pd.Series(preprocessed_text)\n",
        "    # lemmer = qalsadi.lemmatizer.Lemmatizer()\n",
        "\n",
        "    # preprocessed_text = preprocessed_text.apply(lambda x: \" \".join([lemmer.lemmatize(word) for word in x.split()]))\n",
        "\n",
        "\n",
        "    return preprocessed_text"
      ]
    },
    {
      "cell_type": "code",
      "source": [
        "# input_text = \"السماعة اشتريتها قبل كده وممتازة جدا دلوقتى.\"\n",
        "\n",
        "# output=data_preprocessing(input_text)\n",
        "# output"
      ],
      "metadata": {
        "colab": {
          "base_uri": "https://localhost:8080/",
          "height": 35
        },
        "id": "o2Y_etA-N9-V",
        "outputId": "4a60c48a-9b72-4e2b-dece-5925126a18ab"
      },
      "execution_count": 51,
      "outputs": [
        {
          "output_type": "execute_result",
          "data": {
            "text/plain": [
              "'السماعه اشترى دهي ممتاز جدا دلوقتي'"
            ],
            "application/vnd.google.colaboratory.intrinsic+json": {
              "type": "string"
            }
          },
          "metadata": {},
          "execution_count": 51
        }
      ]
    },
    {
      "cell_type": "code",
      "execution_count": null,
      "metadata": {
        "id": "gUMhTnIuhixf"
      },
      "outputs": [],
      "source": [
        "df=data_preprocessing(df)"
      ]
    },
    {
      "cell_type": "code",
      "execution_count": null,
      "metadata": {
        "id": "4YOARE_Rhixf",
        "outputId": "bf0cf4dc-d59d-498a-98a8-7ec48e36394c"
      },
      "outputs": [
        {
          "data": {
            "text/plain": [
              "1    51136\n",
              "0    31489\n",
              "Name: rating, dtype: int64"
            ]
          },
          "execution_count": 9,
          "metadata": {},
          "output_type": "execute_result"
        }
      ],
      "source": [
        "df.rating.value_counts()"
      ]
    },
    {
      "cell_type": "code",
      "execution_count": null,
      "metadata": {
        "id": "kmAiyNDDhixg",
        "outputId": "c024b88e-20d8-4518-f3bf-2aaec9545a8e"
      },
      "outputs": [
        {
          "data": {
            "text/html": [
              "<div>\n",
              "<style scoped>\n",
              "    .dataframe tbody tr th:only-of-type {\n",
              "        vertical-align: middle;\n",
              "    }\n",
              "\n",
              "    .dataframe tbody tr th {\n",
              "        vertical-align: top;\n",
              "    }\n",
              "\n",
              "    .dataframe thead th {\n",
              "        text-align: right;\n",
              "    }\n",
              "</style>\n",
              "<table border=\"1\" class=\"dataframe\">\n",
              "  <thead>\n",
              "    <tr style=\"text-align: right;\">\n",
              "      <th></th>\n",
              "      <th>Unnamed: 0</th>\n",
              "      <th>review</th>\n",
              "      <th>rating</th>\n",
              "      <th>preprocessed_text</th>\n",
              "    </tr>\n",
              "  </thead>\n",
              "  <tbody>\n",
              "    <tr>\n",
              "      <th>0</th>\n",
              "      <td>0</td>\n",
              "      <td>المنتج لم يصلني . وصلتي منتج مختلف اللي وصلني ...</td>\n",
              "      <td>0</td>\n",
              "      <td>نتج يصل وصل نتج خلف الل وصل ميز طبخ</td>\n",
              "    </tr>\n",
              "    <tr>\n",
              "      <th>1</th>\n",
              "      <td>1</td>\n",
              "      <td>السماعة اشتريتها قبل كده وممتازة جدا دلوقتى اش...</td>\n",
              "      <td>0</td>\n",
              "      <td>سمع شري كده متز جدا دلق شري مرت وفي شكل في بطر...</td>\n",
              "    </tr>\n",
              "    <tr>\n",
              "      <th>2</th>\n",
              "      <td>2</td>\n",
              "      <td>ممتازة جدا والسعر جيد جدا شكرا للبائع وشكرا نوون</td>\n",
              "      <td>1</td>\n",
              "      <td>متز جدا سعر جيد جدا شكر بءع شكر نون</td>\n",
              "    </tr>\n",
              "    <tr>\n",
              "      <th>3</th>\n",
              "      <td>3</td>\n",
              "      <td>ممتاز</td>\n",
              "      <td>1</td>\n",
              "      <td>متز</td>\n",
              "    </tr>\n",
              "    <tr>\n",
              "      <th>4</th>\n",
              "      <td>4</td>\n",
              "      <td>الصنية حجمها كبير وتقيلة ما شاء الله شكرا نون</td>\n",
              "      <td>1</td>\n",
              "      <td>صنه حجم كبر تقل ما شاء الل شكر</td>\n",
              "    </tr>\n",
              "    <tr>\n",
              "      <th>...</th>\n",
              "      <td>...</td>\n",
              "      <td>...</td>\n",
              "      <td>...</td>\n",
              "      <td>...</td>\n",
              "    </tr>\n",
              "    <tr>\n",
              "      <th>82620</th>\n",
              "      <td>112446</td>\n",
              "      <td>جميلة , جميلة. رقيقة. عايزه استعمال خفيف.</td>\n",
              "      <td>1</td>\n",
              "      <td>جمل جمل رقق عيز عمل خفف</td>\n",
              "    </tr>\n",
              "    <tr>\n",
              "      <th>82621</th>\n",
              "      <td>112447</td>\n",
              "      <td>حالة عدم مصداقية , تم استلام المنتج وهو تحت ال...</td>\n",
              "      <td>1</td>\n",
              "      <td>حله عدم صدق تم لام نتج جرب ولكن تتي معه علب هد...</td>\n",
              "    </tr>\n",
              "    <tr>\n",
              "      <th>82622</th>\n",
              "      <td>112448</td>\n",
              "      <td>نوعية المعدن رديئة , نوعية معدن البريسليت رديئ...</td>\n",
              "      <td>0</td>\n",
              "      <td>نوع عدن ردء نوع عدن ريسل ردء لون لسل التي خدم ...</td>\n",
              "    </tr>\n",
              "    <tr>\n",
              "      <th>82623</th>\n",
              "      <td>112450</td>\n",
              "      <td>الانسيال مش زي الصورة خالص , للاسف المنتج صدمن...</td>\n",
              "      <td>0</td>\n",
              "      <td>سيل مش زي صور خلص اسف نتج صدم جدا يري بلش غش</td>\n",
              "    </tr>\n",
              "    <tr>\n",
              "      <th>82624</th>\n",
              "      <td>112451</td>\n",
              "      <td>رهيييييب حلو جدا جدا , منتهي الشياكة تحفة</td>\n",
              "      <td>1</td>\n",
              "      <td>رهيييييب حلو جدا جدا نهي شيك تحف</td>\n",
              "    </tr>\n",
              "  </tbody>\n",
              "</table>\n",
              "<p>82625 rows × 4 columns</p>\n",
              "</div>"
            ],
            "text/plain": [
              "       Unnamed: 0                                             review  rating  \\\n",
              "0               0  المنتج لم يصلني . وصلتي منتج مختلف اللي وصلني ...       0   \n",
              "1               1  السماعة اشتريتها قبل كده وممتازة جدا دلوقتى اش...       0   \n",
              "2               2   ممتازة جدا والسعر جيد جدا شكرا للبائع وشكرا نوون       1   \n",
              "3               3                                              ممتاز       1   \n",
              "4               4      الصنية حجمها كبير وتقيلة ما شاء الله شكرا نون       1   \n",
              "...           ...                                                ...     ...   \n",
              "82620      112446          جميلة , جميلة. رقيقة. عايزه استعمال خفيف.       1   \n",
              "82621      112447  حالة عدم مصداقية , تم استلام المنتج وهو تحت ال...       1   \n",
              "82622      112448  نوعية المعدن رديئة , نوعية معدن البريسليت رديئ...       0   \n",
              "82623      112450  الانسيال مش زي الصورة خالص , للاسف المنتج صدمن...       0   \n",
              "82624      112451          رهيييييب حلو جدا جدا , منتهي الشياكة تحفة       1   \n",
              "\n",
              "                                       preprocessed_text  \n",
              "0                    نتج يصل وصل نتج خلف الل وصل ميز طبخ  \n",
              "1      سمع شري كده متز جدا دلق شري مرت وفي شكل في بطر...  \n",
              "2                    متز جدا سعر جيد جدا شكر بءع شكر نون  \n",
              "3                                                    متز  \n",
              "4                         صنه حجم كبر تقل ما شاء الل شكر  \n",
              "...                                                  ...  \n",
              "82620                            جمل جمل رقق عيز عمل خفف  \n",
              "82621  حله عدم صدق تم لام نتج جرب ولكن تتي معه علب هد...  \n",
              "82622  نوع عدن ردء نوع عدن ريسل ردء لون لسل التي خدم ...  \n",
              "82623       سيل مش زي صور خلص اسف نتج صدم جدا يري بلش غش  \n",
              "82624                   رهيييييب حلو جدا جدا نهي شيك تحف  \n",
              "\n",
              "[82625 rows x 4 columns]"
            ]
          },
          "execution_count": 10,
          "metadata": {},
          "output_type": "execute_result"
        }
      ],
      "source": [
        "df"
      ]
    },
    {
      "cell_type": "code",
      "execution_count": null,
      "metadata": {
        "id": "LaHOJiXwUVwZ"
      },
      "outputs": [],
      "source": [
        "# assume your dataframe is named 'df'\n",
        "df_label0= df[df['label'] == 0]\n",
        "df_label1= df[df['label'] == 1]\n",
        "\n",
        "df_label1 = df_label1.iloc[:-15000]\n",
        "df2=pd.concat([df_label0,df_label1])\n",
        "df2.reset_index(drop=True,inplace=True)"
      ]
    },
    {
      "cell_type": "code",
      "execution_count": null,
      "metadata": {
        "id": "DDhGn3E0hixg",
        "outputId": "042955db-9a94-48de-e959-5466cb9fd985"
      },
      "outputs": [
        {
          "data": {
            "text/plain": [
              "1    36136\n",
              "0    31489\n",
              "Name: rating, dtype: int64"
            ]
          },
          "execution_count": 12,
          "metadata": {},
          "output_type": "execute_result"
        }
      ],
      "source": [
        "df2.rating.value_counts()"
      ]
    },
    {
      "cell_type": "code",
      "execution_count": null,
      "metadata": {
        "id": "F6XEYThUhixg"
      },
      "outputs": [],
      "source": [
        "df2.to_excel(\"Approach2_Arabic_Preprocessed.xlsx\")"
      ]
    },
    {
      "cell_type": "code",
      "execution_count": null,
      "metadata": {
        "id": "vJf8YDa7UVwZ"
      },
      "outputs": [],
      "source": []
    },
    {
      "cell_type": "code",
      "execution_count": 3,
      "metadata": {
        "colab": {
          "base_uri": "https://localhost:8080/",
          "height": 424
        },
        "id": "VVp2KOgShixh",
        "outputId": "cb18a00d-18ae-4eca-f80a-89c542f7bbea"
      },
      "outputs": [
        {
          "output_type": "execute_result",
          "data": {
            "text/plain": [
              "       Unnamed: 0.1  Unnamed: 0  \\\n",
              "0                 0           0   \n",
              "1                 1           1   \n",
              "2                 2          11   \n",
              "3                 3          20   \n",
              "4                 4          21   \n",
              "...             ...         ...   \n",
              "67620         67620       84598   \n",
              "67621         67621       84603   \n",
              "67622         67622       84604   \n",
              "67623         67623       84605   \n",
              "67624         67624       84607   \n",
              "\n",
              "                                                  review  rating  \\\n",
              "0      المنتج لم يصلني . وصلتي منتج مختلف اللي وصلني ...       0   \n",
              "1      السماعة اشتريتها قبل كده وممتازة جدا دلوقتى اش...       0   \n",
              "2                          مش هو هو اللون وحقيقي معجبنيش       0   \n",
              "3                                     المرسل غير المطلوب       0   \n",
              "4      انا طلبت ميكروبف من يوم ٢١ ومحاسبه فيزا وكان ا...       0   \n",
              "...                                                  ...     ...   \n",
              "67620  تقييم من سوق.كوم , ممتاز\\nإيجابيات هذا المنتج:...       1   \n",
              "67621        صغير و جيد , ناقل اشاره ممتاز بالنسبه لحجمه       1   \n",
              "67622                            مدى الجهاز , منتج ممتاز       1   \n",
              "67623  جهاز رائع , جهاز محترم مداه كويس و بيدعم 2.4 &...       1   \n",
              "67624  سهولة الضبط و التوليف مع الراوتر , سهل الاستخد...       1   \n",
              "\n",
              "                                       preprocessed_text  \n",
              "0                    نتج يصل وصل نتج خلف الل وصل ميز طبخ  \n",
              "1      سمع شري كده متز جدا دلق شري مرت وفي شكل في بطر...  \n",
              "2                                     مش لون حقق معجبنيش  \n",
              "3                                                رسل طلب  \n",
              "4      انا طلب ميكروبف يوم حسب فيز وكان فرض وصل يوم ل...  \n",
              "...                                                  ...  \n",
              "67620                        قيم سوق كوم متز يجب نتج سرع  \n",
              "67621                        صغر جيد نقل شره متز نسب حجم  \n",
              "67622                                    مدي جهز نتج متز  \n",
              "67623  جهز رءع جهز حرم داه كوس دعم ده متز جدا نسب سعر...  \n",
              "67624              سهل ضبط ولف راوتر سهل خدم قوه شره متز  \n",
              "\n",
              "[67625 rows x 5 columns]"
            ],
            "text/html": [
              "\n",
              "  <div id=\"df-711f3cce-db36-405c-a525-cb58c9008780\">\n",
              "    <div class=\"colab-df-container\">\n",
              "      <div>\n",
              "<style scoped>\n",
              "    .dataframe tbody tr th:only-of-type {\n",
              "        vertical-align: middle;\n",
              "    }\n",
              "\n",
              "    .dataframe tbody tr th {\n",
              "        vertical-align: top;\n",
              "    }\n",
              "\n",
              "    .dataframe thead th {\n",
              "        text-align: right;\n",
              "    }\n",
              "</style>\n",
              "<table border=\"1\" class=\"dataframe\">\n",
              "  <thead>\n",
              "    <tr style=\"text-align: right;\">\n",
              "      <th></th>\n",
              "      <th>Unnamed: 0.1</th>\n",
              "      <th>Unnamed: 0</th>\n",
              "      <th>review</th>\n",
              "      <th>rating</th>\n",
              "      <th>preprocessed_text</th>\n",
              "    </tr>\n",
              "  </thead>\n",
              "  <tbody>\n",
              "    <tr>\n",
              "      <th>0</th>\n",
              "      <td>0</td>\n",
              "      <td>0</td>\n",
              "      <td>المنتج لم يصلني . وصلتي منتج مختلف اللي وصلني ...</td>\n",
              "      <td>0</td>\n",
              "      <td>نتج يصل وصل نتج خلف الل وصل ميز طبخ</td>\n",
              "    </tr>\n",
              "    <tr>\n",
              "      <th>1</th>\n",
              "      <td>1</td>\n",
              "      <td>1</td>\n",
              "      <td>السماعة اشتريتها قبل كده وممتازة جدا دلوقتى اش...</td>\n",
              "      <td>0</td>\n",
              "      <td>سمع شري كده متز جدا دلق شري مرت وفي شكل في بطر...</td>\n",
              "    </tr>\n",
              "    <tr>\n",
              "      <th>2</th>\n",
              "      <td>2</td>\n",
              "      <td>11</td>\n",
              "      <td>مش هو هو اللون وحقيقي معجبنيش</td>\n",
              "      <td>0</td>\n",
              "      <td>مش لون حقق معجبنيش</td>\n",
              "    </tr>\n",
              "    <tr>\n",
              "      <th>3</th>\n",
              "      <td>3</td>\n",
              "      <td>20</td>\n",
              "      <td>المرسل غير المطلوب</td>\n",
              "      <td>0</td>\n",
              "      <td>رسل طلب</td>\n",
              "    </tr>\n",
              "    <tr>\n",
              "      <th>4</th>\n",
              "      <td>4</td>\n",
              "      <td>21</td>\n",
              "      <td>انا طلبت ميكروبف من يوم ٢١ ومحاسبه فيزا وكان ا...</td>\n",
              "      <td>0</td>\n",
              "      <td>انا طلب ميكروبف يوم حسب فيز وكان فرض وصل يوم ل...</td>\n",
              "    </tr>\n",
              "    <tr>\n",
              "      <th>...</th>\n",
              "      <td>...</td>\n",
              "      <td>...</td>\n",
              "      <td>...</td>\n",
              "      <td>...</td>\n",
              "      <td>...</td>\n",
              "    </tr>\n",
              "    <tr>\n",
              "      <th>67620</th>\n",
              "      <td>67620</td>\n",
              "      <td>84598</td>\n",
              "      <td>تقييم من سوق.كوم , ممتاز\\nإيجابيات هذا المنتج:...</td>\n",
              "      <td>1</td>\n",
              "      <td>قيم سوق كوم متز يجب نتج سرع</td>\n",
              "    </tr>\n",
              "    <tr>\n",
              "      <th>67621</th>\n",
              "      <td>67621</td>\n",
              "      <td>84603</td>\n",
              "      <td>صغير و جيد , ناقل اشاره ممتاز بالنسبه لحجمه</td>\n",
              "      <td>1</td>\n",
              "      <td>صغر جيد نقل شره متز نسب حجم</td>\n",
              "    </tr>\n",
              "    <tr>\n",
              "      <th>67622</th>\n",
              "      <td>67622</td>\n",
              "      <td>84604</td>\n",
              "      <td>مدى الجهاز , منتج ممتاز</td>\n",
              "      <td>1</td>\n",
              "      <td>مدي جهز نتج متز</td>\n",
              "    </tr>\n",
              "    <tr>\n",
              "      <th>67623</th>\n",
              "      <td>67623</td>\n",
              "      <td>84605</td>\n",
              "      <td>جهاز رائع , جهاز محترم مداه كويس و بيدعم 2.4 &amp;...</td>\n",
              "      <td>1</td>\n",
              "      <td>جهز رءع جهز حرم داه كوس دعم ده متز جدا نسب سعر...</td>\n",
              "    </tr>\n",
              "    <tr>\n",
              "      <th>67624</th>\n",
              "      <td>67624</td>\n",
              "      <td>84607</td>\n",
              "      <td>سهولة الضبط و التوليف مع الراوتر , سهل الاستخد...</td>\n",
              "      <td>1</td>\n",
              "      <td>سهل ضبط ولف راوتر سهل خدم قوه شره متز</td>\n",
              "    </tr>\n",
              "  </tbody>\n",
              "</table>\n",
              "<p>67625 rows × 5 columns</p>\n",
              "</div>\n",
              "      <button class=\"colab-df-convert\" onclick=\"convertToInteractive('df-711f3cce-db36-405c-a525-cb58c9008780')\"\n",
              "              title=\"Convert this dataframe to an interactive table.\"\n",
              "              style=\"display:none;\">\n",
              "        \n",
              "  <svg xmlns=\"http://www.w3.org/2000/svg\" height=\"24px\"viewBox=\"0 0 24 24\"\n",
              "       width=\"24px\">\n",
              "    <path d=\"M0 0h24v24H0V0z\" fill=\"none\"/>\n",
              "    <path d=\"M18.56 5.44l.94 2.06.94-2.06 2.06-.94-2.06-.94-.94-2.06-.94 2.06-2.06.94zm-11 1L8.5 8.5l.94-2.06 2.06-.94-2.06-.94L8.5 2.5l-.94 2.06-2.06.94zm10 10l.94 2.06.94-2.06 2.06-.94-2.06-.94-.94-2.06-.94 2.06-2.06.94z\"/><path d=\"M17.41 7.96l-1.37-1.37c-.4-.4-.92-.59-1.43-.59-.52 0-1.04.2-1.43.59L10.3 9.45l-7.72 7.72c-.78.78-.78 2.05 0 2.83L4 21.41c.39.39.9.59 1.41.59.51 0 1.02-.2 1.41-.59l7.78-7.78 2.81-2.81c.8-.78.8-2.07 0-2.86zM5.41 20L4 18.59l7.72-7.72 1.47 1.35L5.41 20z\"/>\n",
              "  </svg>\n",
              "      </button>\n",
              "      \n",
              "  <style>\n",
              "    .colab-df-container {\n",
              "      display:flex;\n",
              "      flex-wrap:wrap;\n",
              "      gap: 12px;\n",
              "    }\n",
              "\n",
              "    .colab-df-convert {\n",
              "      background-color: #E8F0FE;\n",
              "      border: none;\n",
              "      border-radius: 50%;\n",
              "      cursor: pointer;\n",
              "      display: none;\n",
              "      fill: #1967D2;\n",
              "      height: 32px;\n",
              "      padding: 0 0 0 0;\n",
              "      width: 32px;\n",
              "    }\n",
              "\n",
              "    .colab-df-convert:hover {\n",
              "      background-color: #E2EBFA;\n",
              "      box-shadow: 0px 1px 2px rgba(60, 64, 67, 0.3), 0px 1px 3px 1px rgba(60, 64, 67, 0.15);\n",
              "      fill: #174EA6;\n",
              "    }\n",
              "\n",
              "    [theme=dark] .colab-df-convert {\n",
              "      background-color: #3B4455;\n",
              "      fill: #D2E3FC;\n",
              "    }\n",
              "\n",
              "    [theme=dark] .colab-df-convert:hover {\n",
              "      background-color: #434B5C;\n",
              "      box-shadow: 0px 1px 3px 1px rgba(0, 0, 0, 0.15);\n",
              "      filter: drop-shadow(0px 1px 2px rgba(0, 0, 0, 0.3));\n",
              "      fill: #FFFFFF;\n",
              "    }\n",
              "  </style>\n",
              "\n",
              "      <script>\n",
              "        const buttonEl =\n",
              "          document.querySelector('#df-711f3cce-db36-405c-a525-cb58c9008780 button.colab-df-convert');\n",
              "        buttonEl.style.display =\n",
              "          google.colab.kernel.accessAllowed ? 'block' : 'none';\n",
              "\n",
              "        async function convertToInteractive(key) {\n",
              "          const element = document.querySelector('#df-711f3cce-db36-405c-a525-cb58c9008780');\n",
              "          const dataTable =\n",
              "            await google.colab.kernel.invokeFunction('convertToInteractive',\n",
              "                                                     [key], {});\n",
              "          if (!dataTable) return;\n",
              "\n",
              "          const docLinkHtml = 'Like what you see? Visit the ' +\n",
              "            '<a target=\"_blank\" href=https://colab.research.google.com/notebooks/data_table.ipynb>data table notebook</a>'\n",
              "            + ' to learn more about interactive tables.';\n",
              "          element.innerHTML = '';\n",
              "          dataTable['output_type'] = 'display_data';\n",
              "          await google.colab.output.renderOutput(dataTable, element);\n",
              "          const docLink = document.createElement('div');\n",
              "          docLink.innerHTML = docLinkHtml;\n",
              "          element.appendChild(docLink);\n",
              "        }\n",
              "      </script>\n",
              "    </div>\n",
              "  </div>\n",
              "  "
            ]
          },
          "metadata": {},
          "execution_count": 3
        }
      ],
      "source": [
        "df=pd.read_excel(\"Approach2_Arabic_Preprocessed.xlsx\")\n",
        "df"
      ]
    },
    {
      "cell_type": "code",
      "execution_count": null,
      "metadata": {
        "id": "JfsG1Asnhixh"
      },
      "outputs": [],
      "source": [
        "x_train,x_test,y_train,y_test =  train_test_split(df['preprocessed_text'],df['rating'],random_state=42,test_size=0.2,shuffle=True)"
      ]
    },
    {
      "cell_type": "code",
      "execution_count": null,
      "metadata": {
        "colab": {
          "base_uri": "https://localhost:8080/"
        },
        "id": "Qy50mMqZhixh",
        "outputId": "1261b3cf-92d1-44e3-9904-83de1117473c"
      },
      "outputs": [
        {
          "name": "stdout",
          "output_type": "stream",
          "text": [
            "(54100,) (13525,)\n"
          ]
        }
      ],
      "source": [
        "print(x_train.shape,x_test.shape)"
      ]
    },
    {
      "cell_type": "markdown",
      "metadata": {
        "id": "CVrWpbnFzxDk"
      },
      "source": [
        "## TfidfVectorizer"
      ]
    },
    {
      "cell_type": "code",
      "execution_count": null,
      "metadata": {
        "id": "JikgcdRU3TH1"
      },
      "outputs": [],
      "source": [
        "word_vectorizer = TfidfVectorizer(ngram_range=(1,2), max_features=25000)\n",
        "unigramdataGet= word_vectorizer.fit_transform(x_train)\n",
        "unigramdataGet = unigramdataGet.toarray()\n",
        "vocab = word_vectorizer.get_feature_names_out()\n",
        "x_train=pd.DataFrame(unigramdataGet, columns=vocab)"
      ]
    },
    {
      "cell_type": "code",
      "source": [
        "filename='Arabic_word_tfidf_vectorizer.pk'\n",
        "word_vectorizer = pickle.load(open(filename,'rb'))"
      ],
      "metadata": {
        "id": "xMLKYskNMsq2"
      },
      "execution_count": null,
      "outputs": []
    },
    {
      "cell_type": "code",
      "source": [
        "sentences = [\n",
        "    \"الهاتف المحمول ده رهيب وبيعمل كل حاجة.\",\n",
        "    \"الجودة في المنتج ده ممتازة والأداء مذهل.\",\n",
        "    \"الشاشة بتاعة الجهاز ده جميلة جدا وواضحة.\",\n",
        "    \"البطارية في الهاتف ممتازة وبتقعد طويل.\",\n",
        "    \"الكاميرا في الجهاز ده رائعة وتلتقط صور جميلة.\",\n",
        "    \"الجهاز بطيء أوي والتطبيقات بتعلق كتير.\",\n",
        "    \"المنتج ده جودته ضعيفة ومش بيستحق السعر.\",\n",
        "    \"الجهاز مش مستقر وبيهنج بشكل متكرر.\",\n",
        "    \"الصوت في السماعة سيء وغير واضح.\",\n",
        "    \"مش بيدعم ميزات كتير والخيارات محدودة.\"\n",
        "]\n",
        "\n",
        "series = pd.Series(sentences)\n",
        "output = series.apply(data_preprocessing)\n",
        "\n",
        "# output=data_preprocessing.apply(sentences)\n",
        "output"
      ],
      "metadata": {
        "colab": {
          "base_uri": "https://localhost:8080/"
        },
        "id": "4cIpokD9Rs3i",
        "outputId": "ddddc334-b583-439e-ad96-5c43c6d6f1c9"
      },
      "execution_count": 81,
      "outputs": [
        {
          "output_type": "execute_result",
          "data": {
            "text/plain": [
              "0          هتف حمل ده رهب عمل حجه\n",
              "1          جود نتج ده متز ادء ذهل\n",
              "2      ششه بتع جهز ده جمل جدا وضح\n",
              "3             بطر هتف متز قعد طول\n",
              "4    كامير جهز ده رءع لقط صور جمل\n",
              "5         جهز بطء اوي طبق علق كتر\n",
              "6      نتج ده جود ضعف ومش سحق سعر\n",
              "7         جهز مش سقر هنج شكل تكرر\n",
              "8             صوت سمع سيء وغر وضح\n",
              "9          مش دعم ميز كتر خير حدد\n",
              "dtype: object"
            ]
          },
          "metadata": {},
          "execution_count": 81
        }
      ]
    },
    {
      "cell_type": "code",
      "execution_count": 82,
      "metadata": {
        "id": "tOAYd3xEhixi"
      },
      "outputs": [],
      "source": [
        "unigramdataGet= word_vectorizer.transform(output)\n",
        "unigramdataGet = unigramdataGet.toarray()\n",
        "vocab = word_vectorizer.get_feature_names_out()\n",
        "x_test=pd.DataFrame(unigramdataGet, columns=vocab)"
      ]
    },
    {
      "cell_type": "code",
      "source": [
        "x_test"
      ],
      "metadata": {
        "id": "Ah2jfA8ER5Si"
      },
      "execution_count": null,
      "outputs": []
    },
    {
      "cell_type": "code",
      "source": [
        "filename='Arabic_LogisticRegressionModel.pk'\n",
        "logisticModel = pickle.load(open(filename,'rb'))"
      ],
      "metadata": {
        "id": "KYuGDr0AR72R"
      },
      "execution_count": null,
      "outputs": []
    },
    {
      "cell_type": "code",
      "source": [
        "Prediction=logisticModel.predict(x_test)"
      ],
      "metadata": {
        "id": "eXBw4izISBgR"
      },
      "execution_count": 84,
      "outputs": []
    },
    {
      "cell_type": "code",
      "source": [
        "df=pd.DataFrame()\n",
        "df['Review']=sentences\n",
        "df[\"Prediction\"]=Prediction"
      ],
      "metadata": {
        "id": "KPEaqi5ZTfC-"
      },
      "execution_count": 85,
      "outputs": []
    },
    {
      "cell_type": "code",
      "source": [
        "df"
      ],
      "metadata": {
        "colab": {
          "base_uri": "https://localhost:8080/",
          "height": 363
        },
        "id": "WfVeFEb1TxAh",
        "outputId": "0c8ea3fa-f46f-4da1-9c2a-141e11add4c0"
      },
      "execution_count": 86,
      "outputs": [
        {
          "output_type": "execute_result",
          "data": {
            "text/plain": [
              "                                          Review  Prediction\n",
              "0         الهاتف المحمول ده رهيب وبيعمل كل حاجة.           1\n",
              "1       الجودة في المنتج ده ممتازة والأداء مذهل.           1\n",
              "2       الشاشة بتاعة الجهاز ده جميلة جدا وواضحة.           1\n",
              "3         البطارية في الهاتف ممتازة وبتقعد طويل.           1\n",
              "4  الكاميرا في الجهاز ده رائعة وتلتقط صور جميلة.           1\n",
              "5         الجهاز بطيء أوي والتطبيقات بتعلق كتير.           0\n",
              "6        المنتج ده جودته ضعيفة ومش بيستحق السعر.           0\n",
              "7             الجهاز مش مستقر وبيهنج بشكل متكرر.           0\n",
              "8                الصوت في السماعة سيء وغير واضح.           0\n",
              "9          مش بيدعم ميزات كتير والخيارات محدودة.           1"
            ],
            "text/html": [
              "\n",
              "  <div id=\"df-1ec7ee7e-779b-4cb1-872a-28277cf8c0f1\">\n",
              "    <div class=\"colab-df-container\">\n",
              "      <div>\n",
              "<style scoped>\n",
              "    .dataframe tbody tr th:only-of-type {\n",
              "        vertical-align: middle;\n",
              "    }\n",
              "\n",
              "    .dataframe tbody tr th {\n",
              "        vertical-align: top;\n",
              "    }\n",
              "\n",
              "    .dataframe thead th {\n",
              "        text-align: right;\n",
              "    }\n",
              "</style>\n",
              "<table border=\"1\" class=\"dataframe\">\n",
              "  <thead>\n",
              "    <tr style=\"text-align: right;\">\n",
              "      <th></th>\n",
              "      <th>Review</th>\n",
              "      <th>Prediction</th>\n",
              "    </tr>\n",
              "  </thead>\n",
              "  <tbody>\n",
              "    <tr>\n",
              "      <th>0</th>\n",
              "      <td>الهاتف المحمول ده رهيب وبيعمل كل حاجة.</td>\n",
              "      <td>1</td>\n",
              "    </tr>\n",
              "    <tr>\n",
              "      <th>1</th>\n",
              "      <td>الجودة في المنتج ده ممتازة والأداء مذهل.</td>\n",
              "      <td>1</td>\n",
              "    </tr>\n",
              "    <tr>\n",
              "      <th>2</th>\n",
              "      <td>الشاشة بتاعة الجهاز ده جميلة جدا وواضحة.</td>\n",
              "      <td>1</td>\n",
              "    </tr>\n",
              "    <tr>\n",
              "      <th>3</th>\n",
              "      <td>البطارية في الهاتف ممتازة وبتقعد طويل.</td>\n",
              "      <td>1</td>\n",
              "    </tr>\n",
              "    <tr>\n",
              "      <th>4</th>\n",
              "      <td>الكاميرا في الجهاز ده رائعة وتلتقط صور جميلة.</td>\n",
              "      <td>1</td>\n",
              "    </tr>\n",
              "    <tr>\n",
              "      <th>5</th>\n",
              "      <td>الجهاز بطيء أوي والتطبيقات بتعلق كتير.</td>\n",
              "      <td>0</td>\n",
              "    </tr>\n",
              "    <tr>\n",
              "      <th>6</th>\n",
              "      <td>المنتج ده جودته ضعيفة ومش بيستحق السعر.</td>\n",
              "      <td>0</td>\n",
              "    </tr>\n",
              "    <tr>\n",
              "      <th>7</th>\n",
              "      <td>الجهاز مش مستقر وبيهنج بشكل متكرر.</td>\n",
              "      <td>0</td>\n",
              "    </tr>\n",
              "    <tr>\n",
              "      <th>8</th>\n",
              "      <td>الصوت في السماعة سيء وغير واضح.</td>\n",
              "      <td>0</td>\n",
              "    </tr>\n",
              "    <tr>\n",
              "      <th>9</th>\n",
              "      <td>مش بيدعم ميزات كتير والخيارات محدودة.</td>\n",
              "      <td>1</td>\n",
              "    </tr>\n",
              "  </tbody>\n",
              "</table>\n",
              "</div>\n",
              "      <button class=\"colab-df-convert\" onclick=\"convertToInteractive('df-1ec7ee7e-779b-4cb1-872a-28277cf8c0f1')\"\n",
              "              title=\"Convert this dataframe to an interactive table.\"\n",
              "              style=\"display:none;\">\n",
              "        \n",
              "  <svg xmlns=\"http://www.w3.org/2000/svg\" height=\"24px\"viewBox=\"0 0 24 24\"\n",
              "       width=\"24px\">\n",
              "    <path d=\"M0 0h24v24H0V0z\" fill=\"none\"/>\n",
              "    <path d=\"M18.56 5.44l.94 2.06.94-2.06 2.06-.94-2.06-.94-.94-2.06-.94 2.06-2.06.94zm-11 1L8.5 8.5l.94-2.06 2.06-.94-2.06-.94L8.5 2.5l-.94 2.06-2.06.94zm10 10l.94 2.06.94-2.06 2.06-.94-2.06-.94-.94-2.06-.94 2.06-2.06.94z\"/><path d=\"M17.41 7.96l-1.37-1.37c-.4-.4-.92-.59-1.43-.59-.52 0-1.04.2-1.43.59L10.3 9.45l-7.72 7.72c-.78.78-.78 2.05 0 2.83L4 21.41c.39.39.9.59 1.41.59.51 0 1.02-.2 1.41-.59l7.78-7.78 2.81-2.81c.8-.78.8-2.07 0-2.86zM5.41 20L4 18.59l7.72-7.72 1.47 1.35L5.41 20z\"/>\n",
              "  </svg>\n",
              "      </button>\n",
              "      \n",
              "  <style>\n",
              "    .colab-df-container {\n",
              "      display:flex;\n",
              "      flex-wrap:wrap;\n",
              "      gap: 12px;\n",
              "    }\n",
              "\n",
              "    .colab-df-convert {\n",
              "      background-color: #E8F0FE;\n",
              "      border: none;\n",
              "      border-radius: 50%;\n",
              "      cursor: pointer;\n",
              "      display: none;\n",
              "      fill: #1967D2;\n",
              "      height: 32px;\n",
              "      padding: 0 0 0 0;\n",
              "      width: 32px;\n",
              "    }\n",
              "\n",
              "    .colab-df-convert:hover {\n",
              "      background-color: #E2EBFA;\n",
              "      box-shadow: 0px 1px 2px rgba(60, 64, 67, 0.3), 0px 1px 3px 1px rgba(60, 64, 67, 0.15);\n",
              "      fill: #174EA6;\n",
              "    }\n",
              "\n",
              "    [theme=dark] .colab-df-convert {\n",
              "      background-color: #3B4455;\n",
              "      fill: #D2E3FC;\n",
              "    }\n",
              "\n",
              "    [theme=dark] .colab-df-convert:hover {\n",
              "      background-color: #434B5C;\n",
              "      box-shadow: 0px 1px 3px 1px rgba(0, 0, 0, 0.15);\n",
              "      filter: drop-shadow(0px 1px 2px rgba(0, 0, 0, 0.3));\n",
              "      fill: #FFFFFF;\n",
              "    }\n",
              "  </style>\n",
              "\n",
              "      <script>\n",
              "        const buttonEl =\n",
              "          document.querySelector('#df-1ec7ee7e-779b-4cb1-872a-28277cf8c0f1 button.colab-df-convert');\n",
              "        buttonEl.style.display =\n",
              "          google.colab.kernel.accessAllowed ? 'block' : 'none';\n",
              "\n",
              "        async function convertToInteractive(key) {\n",
              "          const element = document.querySelector('#df-1ec7ee7e-779b-4cb1-872a-28277cf8c0f1');\n",
              "          const dataTable =\n",
              "            await google.colab.kernel.invokeFunction('convertToInteractive',\n",
              "                                                     [key], {});\n",
              "          if (!dataTable) return;\n",
              "\n",
              "          const docLinkHtml = 'Like what you see? Visit the ' +\n",
              "            '<a target=\"_blank\" href=https://colab.research.google.com/notebooks/data_table.ipynb>data table notebook</a>'\n",
              "            + ' to learn more about interactive tables.';\n",
              "          element.innerHTML = '';\n",
              "          dataTable['output_type'] = 'display_data';\n",
              "          await google.colab.output.renderOutput(dataTable, element);\n",
              "          const docLink = document.createElement('div');\n",
              "          docLink.innerHTML = docLinkHtml;\n",
              "          element.appendChild(docLink);\n",
              "        }\n",
              "      </script>\n",
              "    </div>\n",
              "  </div>\n",
              "  "
            ]
          },
          "metadata": {},
          "execution_count": 86
        }
      ]
    },
    {
      "cell_type": "code",
      "execution_count": null,
      "metadata": {
        "id": "PXvijyHny3O7"
      },
      "outputs": [],
      "source": [
        "import pickle\n",
        "pickle.dump(word_vectorizer, open(\"word_tfidf_vectorizer.pk\", \"wb\"))"
      ]
    },
    {
      "cell_type": "code",
      "execution_count": null,
      "metadata": {
        "id": "7C1tQK4whixi"
      },
      "outputs": [],
      "source": [
        "#filename='word_tfidf_vectorizer2.pk'\n",
        "#vectorizer = pickle.load(open(filename,'rb'))"
      ]
    },
    {
      "cell_type": "code",
      "execution_count": null,
      "metadata": {
        "id": "LHPNIG1nCbk0"
      },
      "outputs": [],
      "source": [
        "def get_accuracy(name, trained_model , x_train, y_train, x_test, y_test):\n",
        "    tree_predict1 = trained_model.predict(x_train)\n",
        "    print(\"Training accuracy  :\",metrics.accuracy_score(y_train, tree_predict1)*100 ,\"%\")\n",
        "\n",
        "    tree_predict = trained_model.predict(x_test)\n",
        "    print(\"Testing accuracy   :\",metrics.accuracy_score(y_test, tree_predict)*100 , \"%\")\n",
        "\n",
        "    print(\"precision : \",precision_score(y_test, tree_predict,average='micro'))\n",
        "    print(\"recall    : \",recall_score(y_test, tree_predict,average='micro'))\n",
        "    print(\"f1_score  : \",f1_score(y_test, tree_predict,average='micro'))\n",
        "\n",
        "\n",
        "    cf1 = confusion_matrix(y_test,tree_predict)\n",
        "    sns.heatmap(cf1,annot=True,fmt = '.0f')\n",
        "    plt.xlabel('prediction')\n",
        "    plt.ylabel('Actual')\n",
        "    plt.title(name+ ' Confusion Matrix')\n",
        "    plt.show()\n",
        "\n",
        "    print(classification_report(y_train,  trained_model.predict(x_train)))\n",
        "    print(classification_report(y_test,  trained_model.predict(x_test)))"
      ]
    },
    {
      "cell_type": "markdown",
      "metadata": {
        "id": "x_hLX1Vsz1DA"
      },
      "source": [
        "## LinearSVC"
      ]
    },
    {
      "cell_type": "code",
      "execution_count": null,
      "metadata": {
        "colab": {
          "base_uri": "https://localhost:8080/",
          "height": 764
        },
        "id": "BRtGlV3nUjxC",
        "outputId": "33a3f76f-bf89-4257-888e-0082155051d1"
      },
      "outputs": [
        {
          "name": "stdout",
          "output_type": "stream",
          "text": [
            "Training accuracy  : 96.39371534195934 %\n",
            "Testing accuracy   : 90.74306839186691 %\n",
            "precision :  0.9074306839186691\n",
            "recall    :  0.9074306839186691\n",
            "f1_score  :  0.9074306839186691\n"
          ]
        },
        {
          "data": {
            "image/png": "[encoded data removed]",
            "text/plain": [
              "<Figure size 640x480 with 2 Axes>"
            ]
          },
          "metadata": {},
          "output_type": "display_data"
        },
        {
          "name": "stdout",
          "output_type": "stream",
          "text": [
            "              precision    recall  f1-score   support\n",
            "\n",
            "           0       0.95      0.97      0.96     25278\n",
            "           1       0.97      0.96      0.97     28822\n",
            "\n",
            "    accuracy                           0.96     54100\n",
            "   macro avg       0.96      0.96      0.96     54100\n",
            "weighted avg       0.96      0.96      0.96     54100\n",
            "\n",
            "              precision    recall  f1-score   support\n",
            "\n",
            "           0       0.89      0.91      0.90      6211\n",
            "           1       0.92      0.91      0.91      7314\n",
            "\n",
            "    accuracy                           0.91     13525\n",
            "   macro avg       0.91      0.91      0.91     13525\n",
            "weighted avg       0.91      0.91      0.91     13525\n",
            "\n"
          ]
        }
      ],
      "source": [
        "from sklearn.svm import LinearSVC\n",
        "trained_clf_svc = LinearSVC().fit(x_train, y_train)\n",
        "get_accuracy('LinearSVC',trained_clf_svc,x_train, y_train, x_test, y_test)"
      ]
    },
    {
      "cell_type": "code",
      "execution_count": null,
      "metadata": {
        "colab": {
          "base_uri": "https://localhost:8080/"
        },
        "id": "qU2XNa5Sh6DC",
        "outputId": "81f0e9a8-81ad-43b8-c65a-bd6fb57a4e52"
      },
      "outputs": [
        {
          "name": "stdout",
          "output_type": "stream",
          "text": [
            "Training accuracy: 96.39371534195934 %\n",
            "Testing accuracy   : 91.54158964879852 %\n",
            "Training loss       : 0.3134735485086302\n",
            "Testing loss       : 0.35200808082251095\n"
          ]
        }
      ],
      "source": [
        "from sklearn.metrics import log_loss\n",
        "\n",
        "test_probabilities = trained_clf_svc._predict_proba_lr(x_test)\n",
        "train_probabilities = trained_clf_svc._predict_proba_lr(x_train)\n",
        "\n",
        "# Get the log loss for the test data\n",
        "test_loss = log_loss(y_test, test_probabilities)\n",
        "train_loss = log_loss(y_train, train_probabilities)\n",
        "\n",
        "# Print the training and test accuracies and loss\n",
        "print(\"Training accuracy:\", trained_clf_svc.score(x_train, y_train)*100,\"%\")\n",
        "print(\"Testing accuracy   :\",accuracy_score(y_pred, y_test)*100,\"%\")\n",
        "print(\"Training loss       :\", train_loss)\n",
        "print(\"Testing loss       :\", test_loss)"
      ]
    },
    {
      "cell_type": "markdown",
      "metadata": {
        "id": "3pM7lDk7zvCq"
      },
      "source": [
        "## RandomForestClassifier"
      ]
    },
    {
      "cell_type": "code",
      "execution_count": null,
      "metadata": {
        "colab": {
          "base_uri": "https://localhost:8080/",
          "height": 694
        },
        "id": "HqEqYLdJCndO",
        "outputId": "333f41f5-d832-42ea-fe2d-a6c7d2ef6460"
      },
      "outputs": [
        {
          "name": "stdout",
          "output_type": "stream",
          "text": [
            "Training accuracy  : 99.86691312384474 %\n",
            "Testing accuracy   : 90.12199630314232 %\n",
            "precision :  0.9012199630314233\n",
            "recall    :  0.9012199630314233\n",
            "f1_score  :  0.9012199630314233\n"
          ]
        },
        {
          "data": {
            "image/png": "[encoded data removed]",
            "text/plain": [
              "<Figure size 640x480 with 2 Axes>"
            ]
          },
          "metadata": {},
          "output_type": "display_data"
        },
        {
          "name": "stdout",
          "output_type": "stream",
          "text": [
            "              precision    recall  f1-score   support\n",
            "\n",
            "           0       1.00      1.00      1.00     25278\n",
            "           1       1.00      1.00      1.00     28822\n",
            "\n",
            "    accuracy                           1.00     54100\n",
            "   macro avg       1.00      1.00      1.00     54100\n",
            "weighted avg       1.00      1.00      1.00     54100\n",
            "\n",
            "              precision    recall  f1-score   support\n",
            "\n",
            "           0       0.88      0.91      0.89      6211\n",
            "           1       0.92      0.89      0.91      7314\n",
            "\n",
            "    accuracy                           0.90     13525\n",
            "   macro avg       0.90      0.90      0.90     13525\n",
            "weighted avg       0.90      0.90      0.90     13525\n",
            "\n"
          ]
        }
      ],
      "source": [
        "from sklearn.ensemble import RandomForestClassifier\n",
        "trained_clf_random_forest = RandomForestClassifier(n_estimators=50).fit(x_train, y_train)\n",
        "get_accuracy('RandomForestClassifier',trained_clf_random_forest,x_train, y_train, x_test, y_test)"
      ]
    },
    {
      "cell_type": "code",
      "execution_count": null,
      "metadata": {
        "colab": {
          "base_uri": "https://localhost:8080/"
        },
        "id": "EXobNvjUff1P",
        "outputId": "7497d550-7672-47ad-cfac-835f2898443e"
      },
      "outputs": [
        {
          "name": "stdout",
          "output_type": "stream",
          "text": [
            "Training accuracy: 0.9986691312384474\n",
            "Testing accuracy   : 0.9012199630314233\n",
            "Training loss       : 0.0788841784794124\n",
            "Testing loss       : 0.3092534750641586\n"
          ]
        }
      ],
      "source": [
        "from sklearn.metrics import log_loss\n",
        "\n",
        "y_pred=trained_clf_random_forest.predict(x_test)\n",
        "\n",
        "test_probabilities = trained_clf_random_forest.predict_proba(x_test)\n",
        "train_probabilities = trained_clf_random_forest.predict_proba(x_train)\n",
        "\n",
        "# Get the log loss for the test data\n",
        "test_loss = log_loss(y_test, test_probabilities)\n",
        "train_loss = log_loss(y_train, train_probabilities)\n",
        "\n",
        "# Print the training and test accuracies and loss\n",
        "print(\"Training accuracy:\", trained_clf_random_forest.score(x_train, y_train))\n",
        "print(\"Testing accuracy   :\",accuracy_score(y_pred, y_test))\n",
        "print(\"Training loss       :\", train_loss)\n",
        "print(\"Testing loss       :\", test_loss)"
      ]
    },
    {
      "cell_type": "markdown",
      "metadata": {
        "id": "KbWqu5uThixk"
      },
      "source": [
        "## Multinomial Naive Bayes"
      ]
    },
    {
      "cell_type": "code",
      "execution_count": null,
      "metadata": {
        "id": "dFzOqaFBhixk",
        "outputId": "afcff9c8-73e1-4a53-f489-97b4af448b16"
      },
      "outputs": [
        {
          "name": "stdout",
          "output_type": "stream",
          "text": [
            "Training accuracy  : 91.93715341959334 %\n",
            "Testing accuracy   : 90.78003696857671 %\n",
            "precision :  0.907800369685767\n",
            "recall    :  0.907800369685767\n",
            "f1_score  :  0.907800369685767\n"
          ]
        },
        {
          "data": {
            "image/png": "[encoded data removed]",
            "text/plain": [
              "<Figure size 640x480 with 2 Axes>"
            ]
          },
          "metadata": {},
          "output_type": "display_data"
        },
        {
          "name": "stdout",
          "output_type": "stream",
          "text": [
            "              precision    recall  f1-score   support\n",
            "\n",
            "           0       0.90      0.93      0.92     25278\n",
            "           1       0.94      0.91      0.92     28822\n",
            "\n",
            "    accuracy                           0.92     54100\n",
            "   macro avg       0.92      0.92      0.92     54100\n",
            "weighted avg       0.92      0.92      0.92     54100\n",
            "\n",
            "              precision    recall  f1-score   support\n",
            "\n",
            "           0       0.89      0.91      0.90      6211\n",
            "           1       0.92      0.90      0.91      7314\n",
            "\n",
            "    accuracy                           0.91     13525\n",
            "   macro avg       0.91      0.91      0.91     13525\n",
            "weighted avg       0.91      0.91      0.91     13525\n",
            "\n"
          ]
        }
      ],
      "source": [
        "clf_NB = MultinomialNB().fit(x_train, y_train)\n",
        "get_accuracy('Multinomial Naive Bayes',clf_NB,x_train, y_train, x_test, y_test)"
      ]
    },
    {
      "cell_type": "code",
      "execution_count": null,
      "metadata": {
        "id": "jwM0Ej8Uhixk",
        "outputId": "92c0c5f8-07b2-44b3-9dfe-5b40bf15df39"
      },
      "outputs": [
        {
          "name": "stdout",
          "output_type": "stream",
          "text": [
            "Training accuracy: 91.93715341959334 %\n",
            "Testing accuracy   : 90.78003696857671 %\n",
            "Training loss       : 0.22307803770043716\n",
            "Testing loss       : 0.246083874704793\n"
          ]
        }
      ],
      "source": [
        "from sklearn.metrics import log_loss\n",
        "y_pred = clf_NB.predict(x_test)\n",
        "y_prob = clf_NB.predict_proba(x_test)\n",
        "\n",
        "test_loss = log_loss(y_test, y_prob, eps=1e-15)\n",
        "train_loss = log_loss(y_train, clf_NB.predict_proba(x_train), eps=1e-15)\n",
        "\n",
        "print(\"Training accuracy:\", clf_NB.score(x_train, y_train)*100,\"%\")\n",
        "print(\"Testing accuracy   :\",accuracy_score(y_pred, y_test)*100,\"%\")\n",
        "print(\"Training loss       :\", train_loss)\n",
        "print(\"Testing loss       :\", test_loss)"
      ]
    },
    {
      "cell_type": "markdown",
      "metadata": {
        "id": "7eU2R3Qnzswf"
      },
      "source": [
        "### LogisticRegression\n"
      ]
    },
    {
      "cell_type": "code",
      "execution_count": null,
      "metadata": {
        "colab": {
          "base_uri": "https://localhost:8080/",
          "height": 486
        },
        "id": "lfD-cS07cj6v",
        "outputId": "a3b74e80-f304-49be-8a51-b6a1de0a43cb"
      },
      "outputs": [
        {
          "name": "stdout",
          "output_type": "stream",
          "text": [
            "Training accuracy  : 92.69685767097967 %\n",
            "Testing accuracy   : 91.54158964879852 %\n",
            "              precision    recall  f1-score   support\n",
            "\n",
            "           0       0.90      0.92      0.91      6211\n",
            "           1       0.93      0.91      0.92      7314\n",
            "\n",
            "    accuracy                           0.92     13525\n",
            "   macro avg       0.91      0.92      0.92     13525\n",
            "weighted avg       0.92      0.92      0.92     13525\n",
            "\n"
          ]
        },
        {
          "data": {
            "image/png": "[encoded data removed]",
            "text/plain": [
              "<Figure size 640x480 with 2 Axes>"
            ]
          },
          "metadata": {},
          "output_type": "display_data"
        }
      ],
      "source": [
        "trained_clf_LogisticRegression = LogisticRegression(max_iter=200,solver='lbfgs').fit(x_train, y_train)\n",
        "y_pred=trained_clf_LogisticRegression.predict(x_test)\n",
        "train_predict = trained_clf_LogisticRegression.predict(x_train)\n",
        "\n",
        "print(\"Training accuracy  :\",metrics.accuracy_score(y_train, train_predict)*100 ,\"%\")\n",
        "print(\"Testing accuracy   :\",metrics.accuracy_score(y_test, y_pred)*100 , \"%\")\n",
        "print(classification_report(y_test, y_pred))\n",
        "\n",
        "cf1 = confusion_matrix(y_test,y_pred)\n",
        "sns.heatmap(cf1,annot=True,fmt = '.0f')\n",
        "plt.xlabel('prediction')\n",
        "plt.ylabel('Actual')\n",
        "plt.title('LogisticRegression'+ ' Confusion Matrix')\n",
        "plt.show()"
      ]
    },
    {
      "cell_type": "code",
      "execution_count": null,
      "metadata": {
        "colab": {
          "base_uri": "https://localhost:8080/"
        },
        "id": "GmV4GIJX0kS_",
        "outputId": "3b1da6d8-760b-4eac-ac52-38533a69831c"
      },
      "outputs": [
        {
          "name": "stdout",
          "output_type": "stream",
          "text": [
            "Training accuracy: 92.69685767097967 %\n",
            "Testing accuracy   : 91.54158964879852 %\n",
            "Training loss       : 0.21834091074025241\n",
            "Testing loss       : 0.24177024721725432\n"
          ]
        }
      ],
      "source": [
        "from sklearn.metrics import log_loss\n",
        "\n",
        "test_probabilities = trained_clf_LogisticRegression.predict_proba(x_test)\n",
        "train_probabilities = trained_clf_LogisticRegression.predict_proba(x_train)\n",
        "\n",
        "# Get the log loss for the test data\n",
        "test_loss = log_loss(y_test, test_probabilities)\n",
        "train_loss = log_loss(y_train, train_probabilities)\n",
        "\n",
        "# Print the training and test accuracies and loss\n",
        "print(\"Training accuracy:\", trained_clf_LogisticRegression.score(x_train, y_train)*100,\"%\")\n",
        "print(\"Testing accuracy   :\",accuracy_score(y_pred, y_test)*100,\"%\")\n",
        "print(\"Training loss       :\", train_loss)\n",
        "print(\"Testing loss       :\", test_loss)"
      ]
    },
    {
      "cell_type": "code",
      "execution_count": null,
      "metadata": {
        "id": "6JdVTWOkUVwd"
      },
      "outputs": [],
      "source": [
        "import pickle\n",
        "pickle.dump(trained_clf_LogisticRegression, open(\"LogisticRegressionModel.pk\", \"wb\"))"
      ]
    },
    {
      "cell_type": "markdown",
      "metadata": {
        "id": "CsxoTwlJV1C_"
      },
      "source": [
        "## DeepLearning Models\n"
      ]
    },
    {
      "cell_type": "code",
      "execution_count": 4,
      "metadata": {
        "colab": {
          "base_uri": "https://localhost:8080/"
        },
        "id": "olPH9uWS0bCF",
        "outputId": "f5d52132-6322-46aa-f703-e4dba998f054"
      },
      "outputs": [
        {
          "output_type": "stream",
          "name": "stdout",
          "text": [
            "Running on TPU  grpc://10.82.119.146:8470\n"
          ]
        },
        {
          "output_type": "stream",
          "name": "stderr",
          "text": [
            "WARNING:absl:`tf.distribute.experimental.TPUStrategy` is deprecated, please use  the non experimental symbol `tf.distribute.TPUStrategy` instead.\n"
          ]
        },
        {
          "output_type": "stream",
          "name": "stdout",
          "text": [
            "REPLICAS:  8\n"
          ]
        }
      ],
      "source": [
        "# Detect hardware, return appropriate distribution strategy\n",
        "try:\n",
        "    # TPU detection. No parameters necessary if TPU_NAME environment variable is\n",
        "    # set: this is always the case on Kaggle.\n",
        "    tpu = tf.distribute.cluster_resolver.TPUClusterResolver()\n",
        "    print('Running on TPU ', tpu.master())\n",
        "except ValueError:\n",
        "    tpu = None\n",
        "\n",
        "if tpu:\n",
        "    tf.config.experimental_connect_to_cluster(tpu)\n",
        "    tf.tpu.experimental.initialize_tpu_system(tpu)\n",
        "    strategy = tf.distribute.experimental.TPUStrategy(tpu)\n",
        "else:\n",
        "    # Default distribution strategy in Tensorflow. Works on CPU and single GPU.\n",
        "    strategy = tf.distribute.get_strategy()\n",
        "\n",
        "print(\"REPLICAS: \", strategy.num_replicas_in_sync)"
      ]
    },
    {
      "cell_type": "markdown",
      "metadata": {
        "id": "DemiJwrdal9i"
      },
      "source": [
        "# Prepare Dataset"
      ]
    },
    {
      "cell_type": "code",
      "execution_count": 5,
      "metadata": {
        "id": "zKRQ-cd9V_2V"
      },
      "outputs": [],
      "source": [
        "from tensorflow.keras.layers import Dense, Dropout, Embedding, LSTM, GRU,Bidirectional"
      ]
    },
    {
      "cell_type": "code",
      "execution_count": 6,
      "metadata": {
        "colab": {
          "base_uri": "https://localhost:8080/"
        },
        "id": "8i2w0htmx5rI",
        "outputId": "fed44774-f3eb-4cb3-82c7-a87fa484c2ba"
      },
      "outputs": [
        {
          "output_type": "stream",
          "name": "stdout",
          "text": [
            "vocab size: 10702\n",
            "Training: 50382\n"
          ]
        }
      ],
      "source": [
        "min_sample = df.groupby(['rating']).count().preprocessed_text.min()\n",
        "input_data = pd.concat([df[df.rating == 1].head(min_sample),\n",
        "                        df[df.rating == 0].head(min_sample)])\n",
        "\n",
        "X = input_data.preprocessed_text.astype('str').values #training paramter\n",
        "Y = np.asarray(input_data.rating.values).astype('float32') #prediction paramter\n",
        "Y = Y.clip(0, 1)\n",
        "X_train, X_test, label_train, label_test = train_test_split(X, Y, test_size=0.2, random_state=42,shuffle=True)\n",
        "\n",
        "tokenizer = Tokenizer(num_words=5000)\n",
        "tokenizer.fit_on_texts(X_train)\n",
        "X_train = tokenizer.texts_to_sequences(X_train)\n",
        "print(\"vocab size:\",len(tokenizer.word_index))\n",
        "X_train = pad_sequences(X_train, padding='post', maxlen=300)\n",
        "\n",
        "\n",
        "print(\"Training:\", len(X_train))\n",
        ""
      ]
    },
    {
      "cell_type": "code",
      "execution_count": 7,
      "metadata": {
        "colab": {
          "base_uri": "https://localhost:8080/"
        },
        "id": "fvKmZBPlipOe",
        "outputId": "ed870a99-d318-4fe9-9115-a6cb0bc88d13"
      },
      "outputs": [
        {
          "output_type": "stream",
          "name": "stdout",
          "text": [
            "vocab size: 10702\n",
            "Testing:  12596\n"
          ]
        }
      ],
      "source": [
        "X_test = tokenizer.texts_to_sequences(X_test)\n",
        "print(\"vocab size:\",len(tokenizer.word_index))\n",
        "X_test = pad_sequences(X_test, padding='post', maxlen=300)\n",
        "print(\"Testing: \", len(X_test))\n"
      ]
    },
    {
      "cell_type": "code",
      "source": [
        "label_train = pd.get_dummies(label_train).values\n",
        "label_test = pd.get_dummies(label_test).values\n"
      ],
      "metadata": {
        "id": "WI3jI2i5BCSa"
      },
      "execution_count": 9,
      "outputs": []
    },
    {
      "cell_type": "code",
      "execution_count": 8,
      "metadata": {
        "id": "UGcOdo-L_PBN"
      },
      "outputs": [],
      "source": [
        "import pickle\n",
        "pickle.dump(tokenizer, open(\"tokenizer_texts_to_sequences.pk\", \"wb\"))"
      ]
    },
    {
      "cell_type": "markdown",
      "metadata": {
        "id": "HHUPtP7fOVSN"
      },
      "source": [
        "### RNN"
      ]
    },
    {
      "cell_type": "code",
      "execution_count": null,
      "metadata": {
        "colab": {
          "base_uri": "https://localhost:8080/"
        },
        "id": "1-TiyAyHOZik",
        "outputId": "897dc80b-0a1d-4f93-c375-9c48d01b78fe"
      },
      "outputs": [
        {
          "name": "stdout",
          "output_type": "stream",
          "text": [
            "Model: \"sequential_1\"\n",
            "_________________________________________________________________\n",
            " Layer (type)                Output Shape              Param #   \n",
            "=================================================================\n",
            " embedding_1 (Embedding)     (None, 300, 100)          500000    \n",
            "                                                                 \n",
            " simple_rnn_1 (SimpleRNN)    (None, 300, 100)          20100     \n",
            "                                                                 \n",
            " global_max_pooling1d_1 (Glo  (None, 100)              0         \n",
            " balMaxPooling1D)                                                \n",
            "                                                                 \n",
            " dense_3 (Dense)             (None, 64)                6464      \n",
            "                                                                 \n",
            " dense_4 (Dense)             (None, 32)                2080      \n",
            "                                                                 \n",
            " dense_5 (Dense)             (None, 1)                 33        \n",
            "                                                                 \n",
            "=================================================================\n",
            "Total params: 528,677\n",
            "Trainable params: 528,677\n",
            "Non-trainable params: 0\n",
            "_________________________________________________________________\n",
            "CPU times: user 409 ms, sys: 58.9 ms, total: 468 ms\n",
            "Wall time: 580 ms\n"
          ]
        }
      ],
      "source": [
        "%%time\n",
        "with strategy.scope():\n",
        "  dropout = 0.5\n",
        "  opt = 'adam'\n",
        "  model4 = Sequential()\n",
        "\n",
        "  model4.add(layers.Embedding(input_dim=5000, output_dim=100, input_length=300))\n",
        "  model4.add(layers.SimpleRNN(units=100, return_sequences=True))\n",
        "  model4.add(layers.GlobalMaxPool1D())\n",
        "  model4.add(layers.Dense(64, activation='relu'))\n",
        "  model4.add(layers.Dense(32, activation='relu'))\n",
        "  model4.add(layers.Dense(1, activation='sigmoid'))\n",
        "\n",
        "  model4.compile(optimizer=opt, loss='binary_crossentropy', metrics=['accuracy'])\n",
        "  model4.summary()"
      ]
    },
    {
      "cell_type": "code",
      "execution_count": null,
      "metadata": {
        "colab": {
          "base_uri": "https://localhost:8080/"
        },
        "id": "5VnYUBteTn2B",
        "outputId": "6afbccd9-5bdb-459a-9a94-7fa868d54d9c"
      },
      "outputs": [
        {
          "name": "stdout",
          "output_type": "stream",
          "text": [
            "Epoch 1/20\n",
            "197/197 [==============================] - 21s 78ms/step - loss: 0.5052 - accuracy: 0.7403 - val_loss: 0.2998 - val_accuracy: 0.8866\n",
            "Epoch 2/20\n",
            "197/197 [==============================] - 8s 38ms/step - loss: 0.2600 - accuracy: 0.9016 - val_loss: 0.2684 - val_accuracy: 0.8966\n",
            "Epoch 3/20\n",
            "197/197 [==============================] - 8s 39ms/step - loss: 0.2193 - accuracy: 0.9177 - val_loss: 0.2774 - val_accuracy: 0.8989\n",
            "Epoch 4/20\n",
            "197/197 [==============================] - 10s 53ms/step - loss: 0.1952 - accuracy: 0.9271 - val_loss: 0.2685 - val_accuracy: 0.9008\n",
            "Epoch 5/20\n",
            "197/197 [==============================] - 7s 35ms/step - loss: 0.1746 - accuracy: 0.9365 - val_loss: 0.2886 - val_accuracy: 0.8938\n",
            "Epoch 6/20\n",
            "197/197 [==============================] - 9s 44ms/step - loss: 0.1537 - accuracy: 0.9455 - val_loss: 0.3079 - val_accuracy: 0.8860\n",
            "Epoch 7/20\n",
            "197/197 [==============================] - 8s 39ms/step - loss: 0.1354 - accuracy: 0.9521 - val_loss: 0.3110 - val_accuracy: 0.8912\n",
            "Epoch 8/20\n",
            "197/197 [==============================] - 8s 41ms/step - loss: 0.1182 - accuracy: 0.9587 - val_loss: 0.3308 - val_accuracy: 0.8799\n",
            "Epoch 9/20\n",
            "197/197 [==============================] - 8s 41ms/step - loss: 0.1046 - accuracy: 0.9645 - val_loss: 0.3564 - val_accuracy: 0.8881\n",
            "Epoch 10/20\n",
            "197/197 [==============================] - 6s 31ms/step - loss: 0.0953 - accuracy: 0.9680 - val_loss: 0.3794 - val_accuracy: 0.8796\n",
            "Epoch 11/20\n",
            "197/197 [==============================] - 6s 32ms/step - loss: 0.0843 - accuracy: 0.9723 - val_loss: 0.3955 - val_accuracy: 0.8781\n",
            "Epoch 12/20\n",
            "197/197 [==============================] - 7s 38ms/step - loss: 0.0769 - accuracy: 0.9752 - val_loss: 0.3862 - val_accuracy: 0.8779\n",
            "Epoch 13/20\n",
            "197/197 [==============================] - 7s 33ms/step - loss: 0.0732 - accuracy: 0.9763 - val_loss: 0.4342 - val_accuracy: 0.8835\n",
            "Epoch 14/20\n",
            "197/197 [==============================] - 9s 43ms/step - loss: 0.0677 - accuracy: 0.9785 - val_loss: 0.3977 - val_accuracy: 0.8804\n",
            "Epoch 15/20\n",
            "197/197 [==============================] - 7s 38ms/step - loss: 0.0619 - accuracy: 0.9796 - val_loss: 0.4320 - val_accuracy: 0.8770\n",
            "Epoch 16/20\n",
            "197/197 [==============================] - 6s 31ms/step - loss: 0.0584 - accuracy: 0.9812 - val_loss: 0.4465 - val_accuracy: 0.8815\n",
            "Epoch 17/20\n",
            "197/197 [==============================] - 6s 30ms/step - loss: 0.0544 - accuracy: 0.9823 - val_loss: 0.4607 - val_accuracy: 0.8818\n",
            "Epoch 18/20\n",
            "197/197 [==============================] - 6s 33ms/step - loss: 0.0545 - accuracy: 0.9816 - val_loss: 0.4525 - val_accuracy: 0.8788\n",
            "Epoch 19/20\n",
            "197/197 [==============================] - 6s 30ms/step - loss: 0.0472 - accuracy: 0.9847 - val_loss: 0.5080 - val_accuracy: 0.8775\n",
            "Epoch 20/20\n",
            "197/197 [==============================] - 6s 32ms/step - loss: 0.0456 - accuracy: 0.9850 - val_loss: 0.4884 - val_accuracy: 0.8762\n",
            "394/394 [==============================] - 8s 18ms/step - loss: 0.4884 - accuracy: 0.8762\n",
            "Testing Accuracy:  0.8762\n"
          ]
        }
      ],
      "source": [
        "history4 = model4.fit(X_train, label_train, epochs=20, verbose=True,  validation_data=(X_test, label_test),batch_size=32*strategy.num_replicas_in_sync)\n",
        "loss_val, accuracy_val = model4.evaluate(X_test, label_test, verbose=True)\n",
        "print(\"Testing Accuracy:  {:.4f}\".format(accuracy_val))"
      ]
    },
    {
      "cell_type": "code",
      "execution_count": null,
      "metadata": {
        "id": "ZKG5cSrOTyHJ"
      },
      "outputs": [],
      "source": [
        "#model4.save('SimpleRNN_Model.h5')"
      ]
    },
    {
      "cell_type": "code",
      "execution_count": null,
      "metadata": {
        "colab": {
          "base_uri": "https://localhost:8080/",
          "height": 490
        },
        "id": "bty5cCFDULr3",
        "outputId": "f0f2dba6-7049-4e22-a4b7-2a9ca746929b"
      },
      "outputs": [
        {
          "name": "stdout",
          "output_type": "stream",
          "text": [
            "394/394 [==============================] - 6s 12ms/step\n"
          ]
        },
        {
          "data": {
            "image/png": "[encoded data removed]",
            "text/plain": [
              "<Figure size 640x480 with 2 Axes>"
            ]
          },
          "metadata": {},
          "output_type": "display_data"
        }
      ],
      "source": [
        "y_pred4=model4.predict(X_test)\n",
        "y_pred4 = (y_pred4 >= 0.5).astype(int)\n",
        "y_test_class=np.array(label_test)\n",
        "\n",
        "SimpleRNN = confusion_matrix(y_test_class,y_pred4)\n",
        "sns.heatmap(SimpleRNN,annot=True,fmt = '.0f')\n",
        "plt.xlabel('prediction')\n",
        "plt.ylabel('Actual')\n",
        "plt.title(\"SimpleRNN\"+ ' Confusion Matrix')\n",
        "plt.show()"
      ]
    },
    {
      "cell_type": "code",
      "execution_count": null,
      "metadata": {
        "colab": {
          "base_uri": "https://localhost:8080/",
          "height": 490
        },
        "id": "cP_INNr2UQlB",
        "outputId": "724da200-49f9-4f4d-c2a0-0a5bd638a2ff"
      },
      "outputs": [
        {
          "data": {
            "text/plain": [
              "<matplotlib.legend.Legend at 0x7efe4f29d7c0>"
            ]
          },
          "execution_count": 14,
          "metadata": {},
          "output_type": "execute_result"
        },
        {
          "data": {
            "image/png": "[encoded data removed]",
            "text/plain": [
              "<Figure size 640x480 with 1 Axes>"
            ]
          },
          "metadata": {},
          "output_type": "display_data"
        }
      ],
      "source": [
        "accuracy = history4.history['accuracy']\n",
        "val_accuracy = history4.history['val_accuracy']\n",
        "loss = history4.history['loss']\n",
        "val_loss = history4.history['val_loss']\n",
        "\n",
        "epochs = range(1,len(accuracy) + 1)\n",
        "\n",
        "# Plot accuracy\n",
        "plt.figure(1)\n",
        "plt.plot(epochs, accuracy, 'b', label='Training accuracy')\n",
        "plt.plot(epochs, val_accuracy, 'r', label='Validation accuracy')\n",
        "plt.title('Training and validation accuracy')\n",
        "plt.xlabel('Epochs')\n",
        "plt.ylabel('Accuracy')\n",
        "plt.legend()"
      ]
    },
    {
      "cell_type": "code",
      "execution_count": null,
      "metadata": {
        "colab": {
          "base_uri": "https://localhost:8080/",
          "height": 472
        },
        "id": "tq6fMgOqnvjL",
        "outputId": "88e6f080-b45c-49f2-a656-1ea8cd0b57e0"
      },
      "outputs": [
        {
          "data": {
            "image/png": "[encoded data removed]",
            "text/plain": [
              "<Figure size 640x480 with 1 Axes>"
            ]
          },
          "metadata": {},
          "output_type": "display_data"
        }
      ],
      "source": [
        "# Plot loss\n",
        "plt.figure(2)\n",
        "plt.plot(epochs, loss, 'b', label='Training loss')\n",
        "plt.plot(epochs, val_loss, 'r', label='Validation loss')\n",
        "plt.title('Training and validation loss')\n",
        "plt.xlabel('Epochs')\n",
        "plt.ylabel('Loss')\n",
        "plt.legend()\n",
        "plt.show()"
      ]
    },
    {
      "cell_type": "markdown",
      "metadata": {
        "id": "5W9Mu9loUd2C"
      },
      "source": [
        "### CNN"
      ]
    },
    {
      "cell_type": "code",
      "execution_count": null,
      "metadata": {
        "id": "ZJJKxzP4n45d"
      },
      "outputs": [],
      "source": [
        "from keras.layers import Input, Dense, Dropout, Embedding, Conv1D, MaxPooling1D, LSTM, concatenate,Flatten\n",
        "from keras.models import Sequential\n",
        "from keras.preprocessing.text import Tokenizer\n",
        "from tensorflow.keras.preprocessing.sequence import pad_sequences\n",
        "from sklearn.metrics import accuracy_score\n",
        "from sklearn.preprocessing import StandardScaler\n",
        "from keras.layers import Bidirectional"
      ]
    },
    {
      "cell_type": "code",
      "execution_count": null,
      "metadata": {
        "colab": {
          "base_uri": "https://localhost:8080/"
        },
        "id": "k-IygAwQUgbl",
        "outputId": "b05a3b38-b2f7-4e14-e782-86f6a2b788ea"
      },
      "outputs": [
        {
          "name": "stdout",
          "output_type": "stream",
          "text": [
            "Model: \"sequential_9\"\n",
            "_________________________________________________________________\n",
            " Layer (type)                Output Shape              Param #   \n",
            "=================================================================\n",
            " embedding_10 (Embedding)    (None, 300, 50)           535150    \n",
            "                                                                 \n",
            " conv1d_4 (Conv1D)           (None, 298, 32)           4832      \n",
            "                                                                 \n",
            " lstm_9 (LSTM)               (None, 298, 60)           22320     \n",
            "                                                                 \n",
            " flatten_4 (Flatten)         (None, 17880)             0         \n",
            "                                                                 \n",
            " dense_34 (Dense)            (None, 64)                1144384   \n",
            "                                                                 \n",
            " dense_35 (Dense)            (None, 32)                2080      \n",
            "                                                                 \n",
            " dense_36 (Dense)            (None, 1)                 33        \n",
            "                                                                 \n",
            "=================================================================\n",
            "Total params: 1,708,799\n",
            "Trainable params: 1,708,799\n",
            "Non-trainable params: 0\n",
            "_________________________________________________________________\n"
          ]
        }
      ],
      "source": [
        "with strategy.scope():\n",
        "  embedding_dim = 50\n",
        "  CNN_LSTM = Sequential()\n",
        "  CNN_LSTM.add(Embedding(input_dim=len(tokenizer.word_index)+1, output_dim=embedding_dim, input_length=300))\n",
        "\n",
        "  CNN_LSTM.add(Conv1D(filters=32, kernel_size=3, activation='relu'))\n",
        "  CNN_LSTM.add((LSTM(60, return_sequences=True)))\n",
        "  CNN_LSTM.add(Flatten())\n",
        "  CNN_LSTM.add(layers.Dense(64, activation='relu'))\n",
        "  CNN_LSTM.add(Dense(32, activation='relu'))\n",
        "  CNN_LSTM.add(Dense(1, activation='sigmoid'))\n",
        "\n",
        "  CNN_LSTM.compile(loss='binary_crossentropy', optimizer=\"adam\", metrics=['accuracy'])\n",
        "CNN_LSTM.summary()\n"
      ]
    },
    {
      "cell_type": "code",
      "execution_count": null,
      "metadata": {
        "colab": {
          "base_uri": "https://localhost:8080/"
        },
        "id": "EB80_-0uUo_a",
        "outputId": "63c1a6fb-8125-42a7-dcc9-03166c522d9e"
      },
      "outputs": [
        {
          "name": "stdout",
          "output_type": "stream",
          "text": [
            "Epoch 1/20\n",
            "197/197 [==============================] - 26s 91ms/step - loss: 0.3456 - accuracy: 0.8410 - val_loss: 0.2565 - val_accuracy: 0.9023\n",
            "Epoch 2/20\n",
            "197/197 [==============================] - 11s 55ms/step - loss: 0.2235 - accuracy: 0.9153 - val_loss: 0.2541 - val_accuracy: 0.9005\n",
            "Epoch 3/20\n",
            "197/197 [==============================] - 11s 58ms/step - loss: 0.1920 - accuracy: 0.9307 - val_loss: 0.2529 - val_accuracy: 0.9030\n",
            "Epoch 4/20\n",
            "197/197 [==============================] - 12s 59ms/step - loss: 0.1633 - accuracy: 0.9423 - val_loss: 0.2858 - val_accuracy: 0.8912\n",
            "Epoch 5/20\n",
            "197/197 [==============================] - 11s 57ms/step - loss: 0.1368 - accuracy: 0.9538 - val_loss: 0.2899 - val_accuracy: 0.8961\n",
            "Epoch 6/20\n",
            "197/197 [==============================] - 11s 56ms/step - loss: 0.1148 - accuracy: 0.9621 - val_loss: 0.3122 - val_accuracy: 0.8961\n",
            "Epoch 7/20\n",
            "197/197 [==============================] - 11s 56ms/step - loss: 0.0953 - accuracy: 0.9695 - val_loss: 0.3338 - val_accuracy: 0.8913\n",
            "Epoch 8/20\n",
            "197/197 [==============================] - 11s 55ms/step - loss: 0.0808 - accuracy: 0.9747 - val_loss: 0.3315 - val_accuracy: 0.8875\n",
            "Epoch 9/20\n",
            "197/197 [==============================] - 11s 55ms/step - loss: 0.0712 - accuracy: 0.9777 - val_loss: 0.4128 - val_accuracy: 0.8896\n",
            "Epoch 10/20\n",
            "197/197 [==============================] - 11s 56ms/step - loss: 0.0629 - accuracy: 0.9815 - val_loss: 0.4209 - val_accuracy: 0.8805\n",
            "Epoch 11/20\n",
            "197/197 [==============================] - 11s 57ms/step - loss: 0.0581 - accuracy: 0.9824 - val_loss: 0.4193 - val_accuracy: 0.8829\n",
            "Epoch 12/20\n",
            "197/197 [==============================] - 11s 56ms/step - loss: 0.0531 - accuracy: 0.9848 - val_loss: 0.4535 - val_accuracy: 0.8753\n",
            "Epoch 13/20\n",
            "197/197 [==============================] - 11s 56ms/step - loss: 0.0497 - accuracy: 0.9860 - val_loss: 0.4479 - val_accuracy: 0.8847\n",
            "Epoch 14/20\n",
            "197/197 [==============================] - 11s 56ms/step - loss: 0.0423 - accuracy: 0.9886 - val_loss: 0.5175 - val_accuracy: 0.8834\n",
            "Epoch 15/20\n",
            "197/197 [==============================] - 11s 56ms/step - loss: 0.0428 - accuracy: 0.9876 - val_loss: 0.4966 - val_accuracy: 0.8804\n",
            "Epoch 16/20\n",
            "197/197 [==============================] - 11s 56ms/step - loss: 0.0387 - accuracy: 0.9893 - val_loss: 0.5089 - val_accuracy: 0.8828\n",
            "Epoch 17/20\n",
            "197/197 [==============================] - 11s 55ms/step - loss: 0.0336 - accuracy: 0.9911 - val_loss: 0.5157 - val_accuracy: 0.8823\n",
            "Epoch 18/20\n",
            "197/197 [==============================] - 11s 58ms/step - loss: 0.0347 - accuracy: 0.9905 - val_loss: 0.5620 - val_accuracy: 0.8840\n",
            "Epoch 19/20\n",
            "197/197 [==============================] - 11s 55ms/step - loss: 0.0337 - accuracy: 0.9909 - val_loss: 0.5998 - val_accuracy: 0.8784\n",
            "Epoch 20/20\n",
            "197/197 [==============================] - 11s 56ms/step - loss: 0.0330 - accuracy: 0.9907 - val_loss: 0.5958 - val_accuracy: 0.8745\n",
            "394/394 [==============================] - 10s 22ms/step - loss: 0.5958 - accuracy: 0.8745\n",
            "Testing Accuracy:  0.8745\n"
          ]
        }
      ],
      "source": [
        "history6 = CNN_LSTM.fit(X_train, label_train, epochs=20, verbose=True,  validation_data=(X_test, label_test),batch_size=32*strategy.num_replicas_in_sync)\n",
        "loss_val, accuracy_val = CNN_LSTM.evaluate(X_test, label_test, verbose=True)\n",
        "print(\"Testing Accuracy:  {:.4f}\".format(accuracy_val))"
      ]
    },
    {
      "cell_type": "code",
      "execution_count": null,
      "metadata": {
        "id": "XJyaeltvUuC8"
      },
      "outputs": [],
      "source": [
        "#CNN_LSTM.save('CNN_LSTM.h5')"
      ]
    },
    {
      "cell_type": "code",
      "execution_count": null,
      "metadata": {
        "colab": {
          "base_uri": "https://localhost:8080/",
          "height": 490
        },
        "id": "6zVqMnAwteF8",
        "outputId": "5f297e98-90b9-4a84-e6c4-6930194b7b32"
      },
      "outputs": [
        {
          "name": "stdout",
          "output_type": "stream",
          "text": [
            "394/394 [==============================] - 7s 15ms/step\n"
          ]
        },
        {
          "data": {
            "image/png": "[encoded data removed]",
            "text/plain": [
              "<Figure size 640x480 with 2 Axes>"
            ]
          },
          "metadata": {},
          "output_type": "display_data"
        }
      ],
      "source": [
        "y_pred6=CNN_LSTM.predict(X_test)\n",
        "y_pred6 = (y_pred6 >= 0.5).astype(int)\n",
        "y_test_class=np.array(label_test)\n",
        "\n",
        "CNN_LSTM = confusion_matrix(y_test_class,y_pred6)\n",
        "sns.heatmap(CNN_LSTM,annot=True,fmt = '.0f')\n",
        "plt.xlabel('prediction')\n",
        "plt.ylabel('Actual')\n",
        "plt.title(\"CNN_LSTM\"+ ' Confusion Matrix')\n",
        "plt.show()"
      ]
    },
    {
      "cell_type": "code",
      "execution_count": null,
      "metadata": {
        "colab": {
          "base_uri": "https://localhost:8080/",
          "height": 490
        },
        "id": "3pyP4AbKoFGQ",
        "outputId": "c378433a-1989-484a-ec6a-03eb30c22726"
      },
      "outputs": [
        {
          "data": {
            "text/plain": [
              "<matplotlib.legend.Legend at 0x7efe4e417f40>"
            ]
          },
          "execution_count": 51,
          "metadata": {},
          "output_type": "execute_result"
        },
        {
          "data": {
            "image/png": "[encoded data removed]",
            "text/plain": [
              "<Figure size 640x480 with 1 Axes>"
            ]
          },
          "metadata": {},
          "output_type": "display_data"
        }
      ],
      "source": [
        "accuracy = history6.history['accuracy']\n",
        "val_accuracy = history6.history['val_accuracy']\n",
        "loss = history6.history['loss']\n",
        "val_loss = history6.history['val_loss']\n",
        "\n",
        "epochs = range(1,len(accuracy) + 1)\n",
        "\n",
        "# Plot accuracy\n",
        "plt.figure(1)\n",
        "plt.plot(epochs, accuracy, 'b', label='Training accuracy')\n",
        "plt.plot(epochs, val_accuracy, 'r', label='Validation accuracy')\n",
        "plt.title('Training and validation accuracy')\n",
        "plt.xlabel('Epochs')\n",
        "plt.ylabel('Accuracy')\n",
        "plt.legend()"
      ]
    },
    {
      "cell_type": "code",
      "execution_count": null,
      "metadata": {
        "colab": {
          "base_uri": "https://localhost:8080/",
          "height": 472
        },
        "id": "E6JFAwjboFLJ",
        "outputId": "77f2b23e-2d9e-476b-c6e8-008a9afe2056"
      },
      "outputs": [
        {
          "data": {
            "image/png": "[encoded data removed]",
            "text/plain": [
              "<Figure size 640x480 with 1 Axes>"
            ]
          },
          "metadata": {},
          "output_type": "display_data"
        }
      ],
      "source": [
        "# Plot loss\n",
        "plt.figure(2)\n",
        "plt.plot(epochs, loss, 'b', label='Training loss')\n",
        "plt.plot(epochs, val_loss, 'r', label='Validation loss')\n",
        "plt.title('Training and validation loss')\n",
        "plt.xlabel('Epochs')\n",
        "plt.ylabel('Loss')\n",
        "plt.legend()\n",
        "plt.show()"
      ]
    },
    {
      "cell_type": "markdown",
      "metadata": {
        "id": "HhKAd6AgVN8K"
      },
      "source": [
        "### LSTM"
      ]
    },
    {
      "cell_type": "code",
      "execution_count": null,
      "metadata": {
        "colab": {
          "base_uri": "https://localhost:8080/"
        },
        "id": "8wW_n89JVQan",
        "outputId": "e0994abd-b959-4820-9e36-4042c94bce33"
      },
      "outputs": [
        {
          "name": "stdout",
          "output_type": "stream",
          "text": [
            "Model: \"sequential_5\"\n",
            "_________________________________________________________________\n",
            " Layer (type)                Output Shape              Param #   \n",
            "=================================================================\n",
            " embedding_5 (Embedding)     (None, 300, 100)          500000    \n",
            "                                                                 \n",
            " lstm_3 (LSTM)               (None, 300, 100)          80400     \n",
            "                                                                 \n",
            " lstm_4 (LSTM)               (None, 300, 60)           38640     \n",
            "                                                                 \n",
            " global_max_pooling1d_2 (Glo  (None, 60)               0         \n",
            " balMaxPooling1D)                                                \n",
            "                                                                 \n",
            " dense_15 (Dense)            (None, 128)               7808      \n",
            "                                                                 \n",
            " dropout (Dropout)           (None, 128)               0         \n",
            "                                                                 \n",
            " dense_16 (Dense)            (None, 64)                8256      \n",
            "                                                                 \n",
            " dropout_1 (Dropout)         (None, 64)                0         \n",
            "                                                                 \n",
            " dense_17 (Dense)            (None, 32)                2080      \n",
            "                                                                 \n",
            " dropout_2 (Dropout)         (None, 32)                0         \n",
            "                                                                 \n",
            " dense_18 (Dense)            (None, 1)                 33        \n",
            "                                                                 \n",
            "=================================================================\n",
            "Total params: 637,217\n",
            "Trainable params: 637,217\n",
            "Non-trainable params: 0\n",
            "_________________________________________________________________\n",
            "CPU times: user 1.08 s, sys: 81 ms, total: 1.17 s\n",
            "Wall time: 3.84 s\n"
          ]
        }
      ],
      "source": [
        "# LSTM model with keras\n",
        "%%time\n",
        "with strategy.scope():\n",
        "    dropout = 0.5\n",
        "    opt = 'adam'\n",
        "    model2 = Sequential()\n",
        "    model2.add(layers.Embedding(input_dim=5000, output_dim=100, input_length=300))\n",
        "\n",
        "    model2.add(layers.LSTM(100, dropout=0.5, recurrent_dropout=0.5, return_sequences=True))\n",
        "    model2.add(layers.LSTM(60, dropout=0.5, recurrent_dropout=0.5, return_sequences=True))\n",
        "    model2.add(layers.GlobalMaxPool1D())\n",
        "    model2.add(layers.Dense(128, activation='relu'))\n",
        "    model2.add(layers.Dropout(dropout))\n",
        "    model2.add(layers.Dense(64, activation='relu'))\n",
        "    model2.add(layers.Dropout(dropout))\n",
        "    model2.add(layers.Dense(32, activation='relu'))\n",
        "    model2.add(layers.Dropout(dropout))\n",
        "    model2.add(layers.Dense(1, activation='sigmoid'))\n",
        "\n",
        "    model2.compile(optimizer=opt, loss='binary_crossentropy', metrics=['accuracy'])\n",
        "    model2.summary()"
      ]
    },
    {
      "cell_type": "code",
      "execution_count": null,
      "metadata": {
        "colab": {
          "base_uri": "https://localhost:8080/"
        },
        "id": "Q9sAvuCIVe00",
        "outputId": "20822c7d-5300-4141-e866-a87182226068"
      },
      "outputs": [
        {
          "name": "stdout",
          "output_type": "stream",
          "text": [
            "Epoch 1/20\n",
            "197/197 [==============================] - 56s 200ms/step - loss: 0.5395 - accuracy: 0.7337 - val_loss: 0.3623 - val_accuracy: 0.8666\n",
            "Epoch 2/20\n",
            "197/197 [==============================] - 29s 145ms/step - loss: 0.3134 - accuracy: 0.8918 - val_loss: 0.2693 - val_accuracy: 0.8999\n",
            "Epoch 3/20\n",
            "197/197 [==============================] - 29s 146ms/step - loss: 0.2675 - accuracy: 0.9063 - val_loss: 0.2615 - val_accuracy: 0.8994\n",
            "Epoch 4/20\n",
            "197/197 [==============================] - 29s 147ms/step - loss: 0.2487 - accuracy: 0.9120 - val_loss: 0.2662 - val_accuracy: 0.8954\n",
            "Epoch 5/20\n",
            "197/197 [==============================] - 29s 147ms/step - loss: 0.2355 - accuracy: 0.9147 - val_loss: 0.2599 - val_accuracy: 0.8979\n",
            "Epoch 6/20\n",
            "197/197 [==============================] - 29s 148ms/step - loss: 0.2260 - accuracy: 0.9176 - val_loss: 0.2645 - val_accuracy: 0.8972\n",
            "Epoch 7/20\n",
            "197/197 [==============================] - 29s 146ms/step - loss: 0.2192 - accuracy: 0.9210 - val_loss: 0.2819 - val_accuracy: 0.8944\n",
            "Epoch 8/20\n",
            "197/197 [==============================] - 29s 147ms/step - loss: 0.2105 - accuracy: 0.9237 - val_loss: 0.2791 - val_accuracy: 0.8890\n",
            "Epoch 9/20\n",
            "197/197 [==============================] - 29s 147ms/step - loss: 0.2040 - accuracy: 0.9256 - val_loss: 0.2802 - val_accuracy: 0.8962\n",
            "Epoch 10/20\n",
            "197/197 [==============================] - 29s 147ms/step - loss: 0.1985 - accuracy: 0.9273 - val_loss: 0.2918 - val_accuracy: 0.8979\n",
            "Epoch 11/20\n",
            "197/197 [==============================] - 30s 150ms/step - loss: 0.1929 - accuracy: 0.9274 - val_loss: 0.2996 - val_accuracy: 0.8970\n",
            "Epoch 12/20\n",
            "197/197 [==============================] - 29s 146ms/step - loss: 0.2047 - accuracy: 0.9281 - val_loss: 0.3148 - val_accuracy: 0.8894\n",
            "Epoch 13/20\n",
            "197/197 [==============================] - 29s 146ms/step - loss: 0.2307 - accuracy: 0.9169 - val_loss: 0.2923 - val_accuracy: 0.9009\n",
            "Epoch 14/20\n",
            "197/197 [==============================] - 29s 147ms/step - loss: 0.2002 - accuracy: 0.9268 - val_loss: 0.2989 - val_accuracy: 0.9000\n",
            "Epoch 15/20\n",
            "197/197 [==============================] - 29s 147ms/step - loss: 0.1940 - accuracy: 0.9299 - val_loss: 0.3157 - val_accuracy: 0.8996\n",
            "Epoch 16/20\n",
            "197/197 [==============================] - 29s 146ms/step - loss: 0.1854 - accuracy: 0.9334 - val_loss: 0.3213 - val_accuracy: 0.9000\n",
            "Epoch 17/20\n",
            "197/197 [==============================] - 29s 146ms/step - loss: 0.1846 - accuracy: 0.9337 - val_loss: 0.3234 - val_accuracy: 0.8992\n",
            "Epoch 18/20\n",
            "197/197 [==============================] - 29s 146ms/step - loss: 0.1802 - accuracy: 0.9346 - val_loss: 0.3317 - val_accuracy: 0.8970\n",
            "Epoch 19/20\n",
            "197/197 [==============================] - 29s 147ms/step - loss: 0.1755 - accuracy: 0.9359 - val_loss: 0.3364 - val_accuracy: 0.8960\n",
            "Epoch 20/20\n",
            "197/197 [==============================] - 29s 147ms/step - loss: 0.1723 - accuracy: 0.9388 - val_loss: 0.3269 - val_accuracy: 0.8958\n",
            "394/394 [==============================] - 14s 32ms/step - loss: 0.3269 - accuracy: 0.8958\n",
            "Testing Accuracy:  0.8958\n"
          ]
        }
      ],
      "source": [
        "history2 = model2.fit(X_train, label_train, epochs=20, verbose=True,  validation_data=(X_test, label_test),batch_size=32*strategy.num_replicas_in_sync)\n",
        "loss_val, accuracy_val = model2.evaluate(X_test, label_test, verbose=True)\n",
        "print(\"Testing Accuracy:  {:.4f}\".format(accuracy_val))"
      ]
    },
    {
      "cell_type": "code",
      "execution_count": null,
      "metadata": {
        "id": "96lQi9UTVm38"
      },
      "outputs": [],
      "source": [
        "#model2.save('LSTM_Model.h5')"
      ]
    },
    {
      "cell_type": "code",
      "execution_count": null,
      "metadata": {
        "colab": {
          "base_uri": "https://localhost:8080/",
          "height": 490
        },
        "id": "mddyx13UVnT6",
        "outputId": "9cd11962-1a84-4c9f-83d3-795275813979"
      },
      "outputs": [
        {
          "name": "stdout",
          "output_type": "stream",
          "text": [
            "394/394 [==============================] - 12s 27ms/step\n"
          ]
        },
        {
          "data": {
            "image/png": "[encoded data removed]",
            "text/plain": [
              "<Figure size 640x480 with 2 Axes>"
            ]
          },
          "metadata": {},
          "output_type": "display_data"
        }
      ],
      "source": [
        "y_pred2=model2.predict(X_test)\n",
        "y_pred2 = (y_pred2 >= 0.5).astype(int)\n",
        "y_test_class=np.array(label_test)\n",
        "\n",
        "lstm = confusion_matrix(y_test_class,y_pred2)\n",
        "sns.heatmap(lstm,annot=True,fmt = '.0f')\n",
        "plt.xlabel('prediction')\n",
        "plt.ylabel('Actual')\n",
        "plt.title(\"LSTM\"+ ' Confusion Matrix')\n",
        "plt.show()"
      ]
    },
    {
      "cell_type": "code",
      "execution_count": null,
      "metadata": {
        "colab": {
          "base_uri": "https://localhost:8080/",
          "height": 490
        },
        "id": "Pv-CGbFjVnRM",
        "outputId": "9f1b4e71-6a6e-4a32-ec9e-ad3467c443f4"
      },
      "outputs": [
        {
          "data": {
            "text/plain": [
              "<matplotlib.legend.Legend at 0x7efe4f47b0d0>"
            ]
          },
          "execution_count": 27,
          "metadata": {},
          "output_type": "execute_result"
        },
        {
          "data": {
            "image/png": "[encoded data removed]",
            "text/plain": [
              "<Figure size 640x480 with 1 Axes>"
            ]
          },
          "metadata": {},
          "output_type": "display_data"
        }
      ],
      "source": [
        "accuracy = history2.history['accuracy']\n",
        "val_accuracy = history2.history['val_accuracy']\n",
        "loss = history2.history['loss']\n",
        "val_loss = history2.history['val_loss']\n",
        "\n",
        "epochs = range(1,len(accuracy) + 1)\n",
        "\n",
        "# Plot accuracy\n",
        "plt.figure(1)\n",
        "plt.plot(epochs, accuracy, 'b', label='Training accuracy')\n",
        "plt.plot(epochs, val_accuracy, 'r', label='Validation accuracy')\n",
        "plt.title('Training and validation accuracy')\n",
        "plt.xlabel('Epochs')\n",
        "plt.ylabel('Accuracy')\n",
        "plt.legend()\n"
      ]
    },
    {
      "cell_type": "code",
      "execution_count": null,
      "metadata": {
        "colab": {
          "base_uri": "https://localhost:8080/",
          "height": 472
        },
        "id": "0YBJaXhDVstK",
        "outputId": "9dae0d43-7212-45b7-b17c-c6e4d7b43cd2"
      },
      "outputs": [
        {
          "data": {
            "image/png": "[encoded data removed]",
            "text/plain": [
              "<Figure size 640x480 with 1 Axes>"
            ]
          },
          "metadata": {},
          "output_type": "display_data"
        }
      ],
      "source": [
        "# Plot loss\n",
        "plt.figure(2)\n",
        "plt.plot(epochs, loss, 'b', label='Training loss')\n",
        "plt.plot(epochs, val_loss, 'r', label='Validation loss')\n",
        "plt.title('Training and validation loss')\n",
        "plt.xlabel('Epochs')\n",
        "plt.ylabel('Loss')\n",
        "plt.legend()\n",
        "plt.show()"
      ]
    },
    {
      "cell_type": "markdown",
      "metadata": {
        "id": "8TtKxWasWSf0"
      },
      "source": [
        "### BILSTM"
      ]
    },
    {
      "cell_type": "code",
      "source": [
        "# Define the model architecture\n",
        "%%time\n",
        "with strategy.scope():\n",
        "  embedding_dim = 50\n",
        "  biLSTM = Sequential()\n",
        "  biLSTM.add(Embedding(input_dim=len(tokenizer.word_index)+1, output_dim=embedding_dim, input_length=300))\n",
        "  biLSTM.add(Bidirectional(LSTM(64)))\n",
        "  biLSTM.add(Dense(128, activation='relu'))\n",
        "  biLSTM.add(Dense(64, activation='relu'))\n",
        "  biLSTM.add(Dropout(0.5))\n",
        "  biLSTM.add(Dense(32, activation='relu'))\n",
        "  biLSTM.add(Dense(16, activation='relu'))\n",
        "  biLSTM.add(Dense(2, activation='softmax'))\n",
        "\n",
        "  from keras import optimizers\n",
        "  optimizer = optimizers.Adam(learning_rate=0.0001)\n",
        "  biLSTM.compile(loss='categorical_crossentropy', optimizer=optimizer, metrics=['accuracy'])\n",
        "  biLSTM.summary()"
      ],
      "metadata": {
        "colab": {
          "base_uri": "https://localhost:8080/"
        },
        "id": "ruTDDcdlGM0s",
        "outputId": "aaf29296-469a-4444-91bf-7a5b081e9011"
      },
      "execution_count": 12,
      "outputs": [
        {
          "output_type": "stream",
          "name": "stdout",
          "text": [
            "Model: \"sequential_1\"\n",
            "_________________________________________________________________\n",
            " Layer (type)                Output Shape              Param #   \n",
            "=================================================================\n",
            " embedding_1 (Embedding)     (None, 300, 50)           535150    \n",
            "                                                                 \n",
            " bidirectional_2 (Bidirectio  (None, 128)              58880     \n",
            " nal)                                                            \n",
            "                                                                 \n",
            " dense_4 (Dense)             (None, 128)               16512     \n",
            "                                                                 \n",
            " dense_5 (Dense)             (None, 64)                8256      \n",
            "                                                                 \n",
            " dropout_3 (Dropout)         (None, 64)                0         \n",
            "                                                                 \n",
            " dense_6 (Dense)             (None, 32)                2080      \n",
            "                                                                 \n",
            " dense_7 (Dense)             (None, 16)                528       \n",
            "                                                                 \n",
            " dense_8 (Dense)             (None, 2)                 34        \n",
            "                                                                 \n",
            "=================================================================\n",
            "Total params: 621,440\n",
            "Trainable params: 621,440\n",
            "Non-trainable params: 0\n",
            "_________________________________________________________________\n",
            "CPU times: user 1.16 s, sys: 81.7 ms, total: 1.24 s\n",
            "Wall time: 2.42 s\n"
          ]
        }
      ]
    },
    {
      "cell_type": "code",
      "execution_count": 13,
      "metadata": {
        "colab": {
          "base_uri": "https://localhost:8080/"
        },
        "id": "7OhUBPfXWpxl",
        "outputId": "01fa8a06-d8f3-47d4-f652-726b32a5e985"
      },
      "outputs": [
        {
          "output_type": "stream",
          "name": "stdout",
          "text": [
            "Epoch 1/20\n",
            "197/197 [==============================] - 38s 135ms/step - loss: 0.6075 - accuracy: 0.6917 - val_loss: 0.3464 - val_accuracy: 0.8667\n",
            "Epoch 2/20\n",
            "197/197 [==============================] - 20s 100ms/step - loss: 0.3100 - accuracy: 0.8849 - val_loss: 0.2794 - val_accuracy: 0.8944\n",
            "Epoch 3/20\n",
            "197/197 [==============================] - 20s 99ms/step - loss: 0.2694 - accuracy: 0.9019 - val_loss: 0.2680 - val_accuracy: 0.8991\n",
            "Epoch 4/20\n",
            "197/197 [==============================] - 20s 100ms/step - loss: 0.2539 - accuracy: 0.9093 - val_loss: 0.2653 - val_accuracy: 0.8985\n",
            "Epoch 5/20\n",
            "197/197 [==============================] - 20s 99ms/step - loss: 0.2441 - accuracy: 0.9137 - val_loss: 0.2675 - val_accuracy: 0.8989\n",
            "Epoch 6/20\n",
            "197/197 [==============================] - 20s 99ms/step - loss: 0.2386 - accuracy: 0.9155 - val_loss: 0.2619 - val_accuracy: 0.9004\n",
            "Epoch 7/20\n",
            "197/197 [==============================] - 20s 100ms/step - loss: 0.2323 - accuracy: 0.9192 - val_loss: 0.2657 - val_accuracy: 0.9001\n",
            "Epoch 8/20\n",
            "197/197 [==============================] - 20s 99ms/step - loss: 0.2281 - accuracy: 0.9213 - val_loss: 0.2650 - val_accuracy: 0.8993\n",
            "Epoch 9/20\n",
            "197/197 [==============================] - 20s 100ms/step - loss: 0.2248 - accuracy: 0.9226 - val_loss: 0.2699 - val_accuracy: 0.8988\n",
            "Epoch 10/20\n",
            "197/197 [==============================] - 19s 99ms/step - loss: 0.2205 - accuracy: 0.9248 - val_loss: 0.2710 - val_accuracy: 0.8990\n",
            "Epoch 11/20\n",
            "197/197 [==============================] - 20s 100ms/step - loss: 0.2157 - accuracy: 0.9264 - val_loss: 0.2683 - val_accuracy: 0.8973\n",
            "Epoch 12/20\n",
            "197/197 [==============================] - 19s 99ms/step - loss: 0.2134 - accuracy: 0.9287 - val_loss: 0.2763 - val_accuracy: 0.8958\n",
            "Epoch 13/20\n",
            "197/197 [==============================] - 20s 99ms/step - loss: 0.2115 - accuracy: 0.9300 - val_loss: 0.2721 - val_accuracy: 0.8971\n",
            "Epoch 14/20\n",
            "197/197 [==============================] - 20s 99ms/step - loss: 0.2089 - accuracy: 0.9299 - val_loss: 0.2787 - val_accuracy: 0.8965\n",
            "Epoch 15/20\n",
            "197/197 [==============================] - 20s 100ms/step - loss: 0.2063 - accuracy: 0.9316 - val_loss: 0.2765 - val_accuracy: 0.8955\n",
            "Epoch 16/20\n",
            "197/197 [==============================] - 20s 100ms/step - loss: 0.2056 - accuracy: 0.9323 - val_loss: 0.2908 - val_accuracy: 0.8927\n",
            "Epoch 17/20\n",
            "197/197 [==============================] - 20s 100ms/step - loss: 0.2045 - accuracy: 0.9319 - val_loss: 0.2842 - val_accuracy: 0.8947\n",
            "Epoch 18/20\n",
            "197/197 [==============================] - 20s 101ms/step - loss: 0.2014 - accuracy: 0.9340 - val_loss: 0.2851 - val_accuracy: 0.8946\n",
            "Epoch 19/20\n",
            "197/197 [==============================] - 20s 100ms/step - loss: 0.1984 - accuracy: 0.9353 - val_loss: 0.2864 - val_accuracy: 0.8945\n",
            "Epoch 20/20\n",
            "197/197 [==============================] - 20s 101ms/step - loss: 0.1981 - accuracy: 0.9353 - val_loss: 0.2894 - val_accuracy: 0.8940\n",
            "394/394 [==============================] - 12s 26ms/step - loss: 0.2894 - accuracy: 0.8940\n",
            "Testing Accuracy:  0.8940\n"
          ]
        }
      ],
      "source": [
        "biLSTM_history = biLSTM.fit(X_train, label_train, epochs=20,batch_size=32*strategy.num_replicas_in_sync,validation_data=(X_test, label_test))\n",
        "loss_val, accuracy_val = biLSTM.evaluate(X_test, label_test, verbose=True)\n",
        "print(\"Testing Accuracy:  {:.4f}\".format(accuracy_val))"
      ]
    },
    {
      "cell_type": "code",
      "execution_count": 87,
      "metadata": {
        "id": "jX0UvXAqWzFi"
      },
      "outputs": [],
      "source": [
        "biLSTM.save('Approach2_Arabic_BILSTM_Model.h5')"
      ]
    },
    {
      "cell_type": "code",
      "source": [],
      "metadata": {
        "id": "b3P82YkYGgjm"
      },
      "execution_count": 13,
      "outputs": []
    },
    {
      "cell_type": "code",
      "source": [
        "sentences"
      ],
      "metadata": {
        "id": "yyOtn4nGGgpd"
      },
      "execution_count": 13,
      "outputs": []
    },
    {
      "cell_type": "code",
      "source": [
        "from tensorflow.keras.models import load_model\n",
        "\n",
        "# Load the saved model\n",
        "biLSTM = load_model('Approach2_Arabic_BILSTM_Model.h5')\n"
      ],
      "metadata": {
        "id": "fjdptoa7qHE9"
      },
      "execution_count": null,
      "outputs": []
    },
    {
      "cell_type": "code",
      "source": [
        "from sklearn.metrics import classification_report\n",
        "y_pred=biLSTM.predict(X_test)\n",
        "y_pred_binary = np.argmax(y_pred, axis=1)  # Assign the class with the highest probability\n",
        "cm = confusion_matrix(label_test[:, 1], y_pred_binary)  # Assuming the second column represents the positive class\n",
        "\n",
        "# Print the classification report\n",
        "report = classification_report(label_test[:, 1], y_pred_binary)\n",
        "\n",
        "sns.heatmap(cm, annot=True, fmt='.0f')\n",
        "plt.xlabel('Prediction')\n",
        "plt.ylabel('Actual')\n",
        "plt.title(\"BILSTM\" + ' Confusion Matrix')\n",
        "plt.show()\n",
        "print(report)\n"
      ],
      "metadata": {
        "colab": {
          "base_uri": "https://localhost:8080/",
          "height": 646
        },
        "id": "sijCD44VpQT-",
        "outputId": "b62e025b-a882-4f43-a27c-79d535ccdf50"
      },
      "execution_count": 91,
      "outputs": [
        {
          "output_type": "stream",
          "name": "stdout",
          "text": [
            "394/394 [==============================] - 14s 22ms/step\n"
          ]
        },
        {
          "output_type": "display_data",
          "data": {
            "text/plain": [
              "<Figure size 640x480 with 2 Axes>"
            ],
            "image/png": "[encoded data removed]"
          },
          "metadata": {}
        },
        {
          "output_type": "stream",
          "name": "stdout",
          "text": [
            "              precision    recall  f1-score   support\n",
            "\n",
            "           0       0.88      0.92      0.90      6288\n",
            "           1       0.91      0.87      0.89      6308\n",
            "\n",
            "    accuracy                           0.89     12596\n",
            "   macro avg       0.89      0.89      0.89     12596\n",
            "weighted avg       0.89      0.89      0.89     12596\n",
            "\n"
          ]
        }
      ]
    },
    {
      "cell_type": "code",
      "execution_count": 92,
      "metadata": {
        "colab": {
          "base_uri": "https://localhost:8080/",
          "height": 472
        },
        "id": "03ddd296",
        "outputId": "31af5251-a5a4-4a79-b0c5-8b9bd3a63890"
      },
      "outputs": [
        {
          "output_type": "display_data",
          "data": {
            "text/plain": [
              "<Figure size 640x480 with 1 Axes>"
            ],
            "image/png": "[encoded data removed]"
          },
          "metadata": {}
        }
      ],
      "source": [
        "accuracy = biLSTM_history.history['accuracy']\n",
        "val_accuracy = biLSTM_history.history['val_accuracy']\n",
        "loss = biLSTM_history.history['loss']\n",
        "val_loss = biLSTM_history.history['val_loss']\n",
        "\n",
        "epochs = range(1, len(accuracy) + 1)\n",
        "\n",
        "# Plot accuracy\n",
        "plt.figure(1)\n",
        "plt.plot(epochs, accuracy, 'b', label='Training accuracy')\n",
        "plt.plot(epochs, val_accuracy, 'r', label='Validation accuracy')\n",
        "plt.title('Training and validation accuracy')\n",
        "plt.xlabel('Epochs')\n",
        "plt.ylabel('Accuracy')\n",
        "plt.legend()\n",
        "\n",
        "# Print final accuracy values on the graph\n",
        "final_train_acc = accuracy[-1]\n",
        "final_val_acc = val_accuracy[-1]\n",
        "plt.text(len(accuracy), final_train_acc, f'{final_train_acc:.4f}', ha='center', va='bottom', color='blue')\n",
        "plt.text(len(val_accuracy), final_val_acc, f'{final_val_acc:.4f}', ha='center', va='top', color='red')\n",
        "\n",
        "plt.show()\n"
      ]
    },
    {
      "cell_type": "code",
      "execution_count": 93,
      "metadata": {
        "colab": {
          "base_uri": "https://localhost:8080/",
          "height": 472
        },
        "id": "14dd99ae",
        "outputId": "cef30a7a-4b32-4ebb-8790-e84815b8ca46"
      },
      "outputs": [
        {
          "output_type": "display_data",
          "data": {
            "text/plain": [
              "<Figure size 640x480 with 1 Axes>"
            ],
            "image/png": "[encoded data removed]"
          },
          "metadata": {}
        }
      ],
      "source": [
        "accuracy = biLSTM_history.history['accuracy']\n",
        "val_accuracy = biLSTM_history.history['val_accuracy']\n",
        "loss = biLSTM_history.history['loss']\n",
        "val_loss = biLSTM_history.history['val_loss']\n",
        "\n",
        "epochs = range(1, len(accuracy) + 1)\n",
        "\n",
        "\n",
        "# Plot loss\n",
        "plt.figure(2)\n",
        "plt.plot(epochs, loss, 'b', label='Training loss')\n",
        "plt.plot(epochs, val_loss, 'r', label='Validation loss')\n",
        "plt.title('Training and validation loss')\n",
        "plt.xlabel('Epochs')\n",
        "plt.ylabel('Loss')\n",
        "plt.legend()\n",
        "\n",
        "# Print final loss values on the graph\n",
        "final_train_loss = loss[-1]\n",
        "final_val_loss = val_loss[-1]\n",
        "plt.text(len(loss), final_train_loss, f'{final_train_loss:.4f}', ha='center', va='bottom', color='blue')\n",
        "plt.text(len(val_loss), final_val_loss, f'{final_val_loss:.4f}', ha='center', va='top', color='red')\n",
        "\n",
        "plt.show()\n"
      ]
    },
    {
      "cell_type": "code",
      "source": [
        "test = tokenizer.texts_to_sequences(output)\n",
        "print(\"vocab size:\",len(tokenizer.word_index))\n",
        "test = pad_sequences(test, padding='post', maxlen=300)\n",
        "print(\"Testing: \", len(test))\n"
      ],
      "metadata": {
        "colab": {
          "base_uri": "https://localhost:8080/"
        },
        "id": "lbHOXECJ1RrG",
        "outputId": "20974a79-f985-4221-ab5c-31042a4a54b4"
      },
      "execution_count": 101,
      "outputs": [
        {
          "output_type": "stream",
          "name": "stdout",
          "text": [
            "vocab size: 10702\n",
            "Testing:  10\n"
          ]
        }
      ]
    },
    {
      "cell_type": "code",
      "source": [
        "test"
      ],
      "metadata": {
        "colab": {
          "base_uri": "https://localhost:8080/"
        },
        "id": "omsgTSP0WZsY",
        "outputId": "9680e2ac-939b-42a1-ada4-cd612e29ae3b"
      },
      "execution_count": 102,
      "outputs": [
        {
          "output_type": "execute_result",
          "data": {
            "text/plain": [
              "array([[ 193,  165,   94, ...,    0,    0,    0],\n",
              "       [  53,    1,   94, ...,    0,    0,    0],\n",
              "       [ 146,   95,   65, ...,    0,    0,    0],\n",
              "       ...,\n",
              "       [  65,    5, 1562, ...,    0,    0,    0],\n",
              "       [  32,   19,   12, ...,    0,    0,    0],\n",
              "       [   5,  224,  249, ...,    0,    0,    0]], dtype=int32)"
            ]
          },
          "metadata": {},
          "execution_count": 102
        }
      ]
    },
    {
      "cell_type": "code",
      "source": [
        "\n",
        "test = np.array(test)\n",
        "\n",
        "# Predict the class for the input sequence\n",
        "y_pred2 = biLSTM.predict(test, batch_size=1, verbose=2)[0]\n",
        "y_pred2 = np.argmax(y_pred2)\n",
        "class_labels = [0, 1]\n",
        "predictions = [class_labels[np.argmax(pred)] for pred in y_pred]\n",
        "pred=[]\n",
        "# Print the predicted class label for each word in the sequence\n",
        "for word, prediction in zip(test, predictions):\n",
        "    print(\"| Predicted class:\", prediction)\n",
        "    pred.append(prediction)"
      ],
      "metadata": {
        "colab": {
          "base_uri": "https://localhost:8080/"
        },
        "id": "qXswD3Tc-A30",
        "outputId": "e7712ac8-bd2e-4b06-8974-34d84ab1fd27"
      },
      "execution_count": 106,
      "outputs": [
        {
          "output_type": "stream",
          "name": "stdout",
          "text": [
            "10/10 - 1s - 1s/epoch - 100ms/step\n",
            "| Predicted class: 1\n",
            "| Predicted class: 0\n",
            "| Predicted class: 1\n",
            "| Predicted class: 1\n",
            "| Predicted class: 0\n",
            "| Predicted class: 1\n",
            "| Predicted class: 0\n",
            "| Predicted class: 1\n",
            "| Predicted class: 1\n",
            "| Predicted class: 0\n"
          ]
        }
      ]
    },
    {
      "cell_type": "code",
      "source": [
        "df2=pd.DataFrame()\n",
        "df2['Reviews']=sentences\n",
        "df2['prediction']=pred\n",
        "df2"
      ],
      "metadata": {
        "colab": {
          "base_uri": "https://localhost:8080/",
          "height": 363
        },
        "id": "-hkjF_RbW4GP",
        "outputId": "a6968484-d34c-4771-b288-19f16ddb86e3"
      },
      "execution_count": 107,
      "outputs": [
        {
          "output_type": "execute_result",
          "data": {
            "text/plain": [
              "                                         Reviews  prediction\n",
              "0         الهاتف المحمول ده رهيب وبيعمل كل حاجة.           1\n",
              "1       الجودة في المنتج ده ممتازة والأداء مذهل.           0\n",
              "2       الشاشة بتاعة الجهاز ده جميلة جدا وواضحة.           1\n",
              "3         البطارية في الهاتف ممتازة وبتقعد طويل.           1\n",
              "4  الكاميرا في الجهاز ده رائعة وتلتقط صور جميلة.           0\n",
              "5         الجهاز بطيء أوي والتطبيقات بتعلق كتير.           1\n",
              "6        المنتج ده جودته ضعيفة ومش بيستحق السعر.           0\n",
              "7             الجهاز مش مستقر وبيهنج بشكل متكرر.           1\n",
              "8                الصوت في السماعة سيء وغير واضح.           1\n",
              "9          مش بيدعم ميزات كتير والخيارات محدودة.           0"
            ],
            "text/html": [
              "\n",
              "  <div id=\"df-28ab2636-e341-4acf-b43e-0c77e0f5db14\">\n",
              "    <div class=\"colab-df-container\">\n",
              "      <div>\n",
              "<style scoped>\n",
              "    .dataframe tbody tr th:only-of-type {\n",
              "        vertical-align: middle;\n",
              "    }\n",
              "\n",
              "    .dataframe tbody tr th {\n",
              "        vertical-align: top;\n",
              "    }\n",
              "\n",
              "    .dataframe thead th {\n",
              "        text-align: right;\n",
              "    }\n",
              "</style>\n",
              "<table border=\"1\" class=\"dataframe\">\n",
              "  <thead>\n",
              "    <tr style=\"text-align: right;\">\n",
              "      <th></th>\n",
              "      <th>Reviews</th>\n",
              "      <th>prediction</th>\n",
              "    </tr>\n",
              "  </thead>\n",
              "  <tbody>\n",
              "    <tr>\n",
              "      <th>0</th>\n",
              "      <td>الهاتف المحمول ده رهيب وبيعمل كل حاجة.</td>\n",
              "      <td>1</td>\n",
              "    </tr>\n",
              "    <tr>\n",
              "      <th>1</th>\n",
              "      <td>الجودة في المنتج ده ممتازة والأداء مذهل.</td>\n",
              "      <td>0</td>\n",
              "    </tr>\n",
              "    <tr>\n",
              "      <th>2</th>\n",
              "      <td>الشاشة بتاعة الجهاز ده جميلة جدا وواضحة.</td>\n",
              "      <td>1</td>\n",
              "    </tr>\n",
              "    <tr>\n",
              "      <th>3</th>\n",
              "      <td>البطارية في الهاتف ممتازة وبتقعد طويل.</td>\n",
              "      <td>1</td>\n",
              "    </tr>\n",
              "    <tr>\n",
              "      <th>4</th>\n",
              "      <td>الكاميرا في الجهاز ده رائعة وتلتقط صور جميلة.</td>\n",
              "      <td>0</td>\n",
              "    </tr>\n",
              "    <tr>\n",
              "      <th>5</th>\n",
              "      <td>الجهاز بطيء أوي والتطبيقات بتعلق كتير.</td>\n",
              "      <td>1</td>\n",
              "    </tr>\n",
              "    <tr>\n",
              "      <th>6</th>\n",
              "      <td>المنتج ده جودته ضعيفة ومش بيستحق السعر.</td>\n",
              "      <td>0</td>\n",
              "    </tr>\n",
              "    <tr>\n",
              "      <th>7</th>\n",
              "      <td>الجهاز مش مستقر وبيهنج بشكل متكرر.</td>\n",
              "      <td>1</td>\n",
              "    </tr>\n",
              "    <tr>\n",
              "      <th>8</th>\n",
              "      <td>الصوت في السماعة سيء وغير واضح.</td>\n",
              "      <td>1</td>\n",
              "    </tr>\n",
              "    <tr>\n",
              "      <th>9</th>\n",
              "      <td>مش بيدعم ميزات كتير والخيارات محدودة.</td>\n",
              "      <td>0</td>\n",
              "    </tr>\n",
              "  </tbody>\n",
              "</table>\n",
              "</div>\n",
              "      <button class=\"colab-df-convert\" onclick=\"convertToInteractive('df-28ab2636-e341-4acf-b43e-0c77e0f5db14')\"\n",
              "              title=\"Convert this dataframe to an interactive table.\"\n",
              "              style=\"display:none;\">\n",
              "        \n",
              "  <svg xmlns=\"http://www.w3.org/2000/svg\" height=\"24px\"viewBox=\"0 0 24 24\"\n",
              "       width=\"24px\">\n",
              "    <path d=\"M0 0h24v24H0V0z\" fill=\"none\"/>\n",
              "    <path d=\"M18.56 5.44l.94 2.06.94-2.06 2.06-.94-2.06-.94-.94-2.06-.94 2.06-2.06.94zm-11 1L8.5 8.5l.94-2.06 2.06-.94-2.06-.94L8.5 2.5l-.94 2.06-2.06.94zm10 10l.94 2.06.94-2.06 2.06-.94-2.06-.94-.94-2.06-.94 2.06-2.06.94z\"/><path d=\"M17.41 7.96l-1.37-1.37c-.4-.4-.92-.59-1.43-.59-.52 0-1.04.2-1.43.59L10.3 9.45l-7.72 7.72c-.78.78-.78 2.05 0 2.83L4 21.41c.39.39.9.59 1.41.59.51 0 1.02-.2 1.41-.59l7.78-7.78 2.81-2.81c.8-.78.8-2.07 0-2.86zM5.41 20L4 18.59l7.72-7.72 1.47 1.35L5.41 20z\"/>\n",
              "  </svg>\n",
              "      </button>\n",
              "      \n",
              "  <style>\n",
              "    .colab-df-container {\n",
              "      display:flex;\n",
              "      flex-wrap:wrap;\n",
              "      gap: 12px;\n",
              "    }\n",
              "\n",
              "    .colab-df-convert {\n",
              "      background-color: #E8F0FE;\n",
              "      border: none;\n",
              "      border-radius: 50%;\n",
              "      cursor: pointer;\n",
              "      display: none;\n",
              "      fill: #1967D2;\n",
              "      height: 32px;\n",
              "      padding: 0 0 0 0;\n",
              "      width: 32px;\n",
              "    }\n",
              "\n",
              "    .colab-df-convert:hover {\n",
              "      background-color: #E2EBFA;\n",
              "      box-shadow: 0px 1px 2px rgba(60, 64, 67, 0.3), 0px 1px 3px 1px rgba(60, 64, 67, 0.15);\n",
              "      fill: #174EA6;\n",
              "    }\n",
              "\n",
              "    [theme=dark] .colab-df-convert {\n",
              "      background-color: #3B4455;\n",
              "      fill: #D2E3FC;\n",
              "    }\n",
              "\n",
              "    [theme=dark] .colab-df-convert:hover {\n",
              "      background-color: #434B5C;\n",
              "      box-shadow: 0px 1px 3px 1px rgba(0, 0, 0, 0.15);\n",
              "      filter: drop-shadow(0px 1px 2px rgba(0, 0, 0, 0.3));\n",
              "      fill: #FFFFFF;\n",
              "    }\n",
              "  </style>\n",
              "\n",
              "      <script>\n",
              "        const buttonEl =\n",
              "          document.querySelector('#df-28ab2636-e341-4acf-b43e-0c77e0f5db14 button.colab-df-convert');\n",
              "        buttonEl.style.display =\n",
              "          google.colab.kernel.accessAllowed ? 'block' : 'none';\n",
              "\n",
              "        async function convertToInteractive(key) {\n",
              "          const element = document.querySelector('#df-28ab2636-e341-4acf-b43e-0c77e0f5db14');\n",
              "          const dataTable =\n",
              "            await google.colab.kernel.invokeFunction('convertToInteractive',\n",
              "                                                     [key], {});\n",
              "          if (!dataTable) return;\n",
              "\n",
              "          const docLinkHtml = 'Like what you see? Visit the ' +\n",
              "            '<a target=\"_blank\" href=https://colab.research.google.com/notebooks/data_table.ipynb>data table notebook</a>'\n",
              "            + ' to learn more about interactive tables.';\n",
              "          element.innerHTML = '';\n",
              "          dataTable['output_type'] = 'display_data';\n",
              "          await google.colab.output.renderOutput(dataTable, element);\n",
              "          const docLink = document.createElement('div');\n",
              "          docLink.innerHTML = docLinkHtml;\n",
              "          element.appendChild(docLink);\n",
              "        }\n",
              "      </script>\n",
              "    </div>\n",
              "  </div>\n",
              "  "
            ]
          },
          "metadata": {},
          "execution_count": 107
        }
      ]
    },
    {
      "cell_type": "code",
      "source": [
        "test=df_preprocessor.preprocessing(\"this phone is very bad\")\n",
        "result = ' '.join(test)\n",
        "result=tokenizer.texts_to_sequences(result)\n",
        "result = pad_sequences(result, padding='post', maxlen=300)\n",
        "y_pred2 = biLSTM.predict(result,batch_size=1,verbose = 2)[0]\n",
        "y_pred2 = np.argmax(y_pred2)\n",
        "if y_pred2 ==0:\n",
        "    class_label = 'Negative'\n",
        "else:\n",
        "    class_label = 'Positive'\n",
        "print(\"Predicted class:\", class_label)\n"
      ],
      "metadata": {
        "colab": {
          "base_uri": "https://localhost:8080/"
        },
        "id": "HJEkCKfQ_gki",
        "outputId": "514a349d-ded2-4f3a-b676-133d6611a6af"
      },
      "execution_count": null,
      "outputs": [
        {
          "output_type": "stream",
          "name": "stdout",
          "text": [
            "9/9 - 1s - 848ms/epoch - 94ms/step\n",
            "Predicted class: Negative\n"
          ]
        }
      ]
    },
    {
      "cell_type": "code",
      "source": [
        "test=df_preprocessor.preprocessing(\"the display is good\")\n",
        "result = ' '.join(test)\n",
        "result=tokenizer.texts_to_sequences(result)\n",
        "result = pad_sequences(result, padding='post', maxlen=300)\n",
        "y_pred2 = biLSTM.predict(result,batch_size=1,verbose = 2)[0]\n",
        "y_pred2 = np.argmax(y_pred2)\n",
        "if y_pred2 ==0:\n",
        "    class_label = 'Negative'\n",
        "else:\n",
        "    class_label = 'Positive'\n",
        "print(\"Predicted class:\", class_label)\n"
      ],
      "metadata": {
        "colab": {
          "base_uri": "https://localhost:8080/"
        },
        "id": "fpFXf1Xx_4Gc",
        "outputId": "a18746a6-afaa-47f0-93cb-ab454bd4eaf4"
      },
      "execution_count": null,
      "outputs": [
        {
          "output_type": "stream",
          "name": "stdout",
          "text": [
            "12/12 - 1s - 811ms/epoch - 68ms/step\n",
            "Predicted class: Negative\n"
          ]
        }
      ]
    },
    {
      "cell_type": "code",
      "source": [
        "test=df_preprocessor.preprocessing(\"Quality of product is lower than expected\")\n",
        "result = ' '.join(test)\n",
        "result=tokenizer.texts_to_sequences(result)\n",
        "result = pad_sequences(result, padding='post', maxlen=300)\n",
        "y_pred2 = biLSTM.predict(result,batch_size=1,verbose = 2)[0]\n",
        "y_pred2 = np.argmax(y_pred2)\n",
        "if y_pred2 ==0:\n",
        "    class_label = 'Negative'\n",
        "else:\n",
        "    class_label = 'Positive'\n",
        "print(\"Predicted class:\", class_label)\n"
      ],
      "metadata": {
        "colab": {
          "base_uri": "https://localhost:8080/"
        },
        "id": "7trgcmKl-c9t",
        "outputId": "0978d305-1cb2-43c7-d96a-1c78c5a9fc0a"
      },
      "execution_count": null,
      "outputs": [
        {
          "output_type": "stream",
          "name": "stdout",
          "text": [
            "30/30 - 2s - 2s/epoch - 64ms/step\n",
            "Predicted class: Negative\n"
          ]
        }
      ]
    },
    {
      "cell_type": "markdown",
      "metadata": {
        "id": "fy1UbYbgaPRv"
      },
      "source": [
        "### Bidirectional GRU"
      ]
    },
    {
      "cell_type": "code",
      "execution_count": null,
      "metadata": {
        "colab": {
          "base_uri": "https://localhost:8080/"
        },
        "id": "d-fJZ_q-aieF",
        "outputId": "40e7ef32-7522-4bc1-a6f6-dca304650e63"
      },
      "outputs": [
        {
          "name": "stdout",
          "output_type": "stream",
          "text": [
            "Model: \"sequential_7\"\n",
            "_________________________________________________________________\n",
            " Layer (type)                Output Shape              Param #   \n",
            "=================================================================\n",
            " embedding_7 (Embedding)     (None, 300, 100)          500000    \n",
            "                                                                 \n",
            " bidirectional_2 (Bidirectio  (None, 300, 200)         121200    \n",
            " nal)                                                            \n",
            "                                                                 \n",
            " bidirectional_3 (Bidirectio  (None, 300, 100)         75600     \n",
            " nal)                                                            \n",
            "                                                                 \n",
            " global_max_pooling1d_4 (Glo  (None, 100)              0         \n",
            " balMaxPooling1D)                                                \n",
            "                                                                 \n",
            " dense_23 (Dense)            (None, 128)               12928     \n",
            "                                                                 \n",
            " dropout_6 (Dropout)         (None, 128)               0         \n",
            "                                                                 \n",
            " dense_24 (Dense)            (None, 64)                8256      \n",
            "                                                                 \n",
            " dropout_7 (Dropout)         (None, 64)                0         \n",
            "                                                                 \n",
            " dense_25 (Dense)            (None, 32)                2080      \n",
            "                                                                 \n",
            " dropout_8 (Dropout)         (None, 32)                0         \n",
            "                                                                 \n",
            " dense_26 (Dense)            (None, 1)                 33        \n",
            "                                                                 \n",
            "=================================================================\n",
            "Total params: 720,097\n",
            "Trainable params: 720,097\n",
            "Non-trainable params: 0\n",
            "_________________________________________________________________\n",
            "CPU times: user 2.52 s, sys: 104 ms, total: 2.63 s\n",
            "Wall time: 4.07 s\n"
          ]
        }
      ],
      "source": [
        "%%time\n",
        "with strategy.scope():\n",
        "  #create BIGRU model with keras\n",
        "  dropout = 0.5\n",
        "  opt = 'adam'\n",
        "  # clear_session()\n",
        "  model = Sequential()\n",
        "  model.add(layers.Embedding(input_dim=5000, output_dim=100, input_length=300))\n",
        "  model.add(layers.Bidirectional(layers.GRU(100, dropout=0.5, recurrent_dropout=0.5, return_sequences=True)))\n",
        "\n",
        "  model.add(layers.Bidirectional(layers.GRU(50, dropout=0.5, recurrent_dropout=0.5, return_sequences=True)))\n",
        "  model.add(layers.GlobalMaxPool1D())\n",
        "  model.add(layers.Dense(128, activation='relu'))\n",
        "  model.add(layers.Dropout(dropout))\n",
        "  model.add(layers.Dense(64, activation='relu'))\n",
        "  model.add(layers.Dropout(dropout))\n",
        "  model.add(layers.Dense(32, activation='relu'))\n",
        "  model.add(layers.Dropout(dropout))\n",
        "  model.add(layers.Dense(1, activation='sigmoid'))\n",
        "\n",
        "  model.compile(optimizer=opt, loss='binary_crossentropy', metrics=['accuracy'])\n",
        "model.summary()"
      ]
    },
    {
      "cell_type": "code",
      "execution_count": null,
      "metadata": {
        "colab": {
          "base_uri": "https://localhost:8080/"
        },
        "id": "uso1aoq2as6O",
        "outputId": "a68ddf38-c1a8-419b-b596-03863b0f6254"
      },
      "outputs": [
        {
          "name": "stdout",
          "output_type": "stream",
          "text": [
            "Epoch 1/15\n",
            "197/197 [==============================] - 129s 534ms/step - loss: 0.4449 - accuracy: 0.7771 - val_loss: 0.2680 - val_accuracy: 0.8966\n",
            "Epoch 2/15\n",
            "197/197 [==============================] - 88s 446ms/step - loss: 0.2760 - accuracy: 0.9042 - val_loss: 0.2635 - val_accuracy: 0.9020\n",
            "Epoch 3/15\n",
            "197/197 [==============================] - 88s 446ms/step - loss: 0.2521 - accuracy: 0.9114 - val_loss: 0.2590 - val_accuracy: 0.9030\n",
            "Epoch 4/15\n",
            "197/197 [==============================] - 88s 445ms/step - loss: 0.2346 - accuracy: 0.9170 - val_loss: 0.2575 - val_accuracy: 0.9040\n",
            "Epoch 5/15\n",
            "197/197 [==============================] - 88s 446ms/step - loss: 0.2217 - accuracy: 0.9197 - val_loss: 0.2626 - val_accuracy: 0.9031\n",
            "Epoch 6/15\n",
            "197/197 [==============================] - 88s 447ms/step - loss: 0.2114 - accuracy: 0.9247 - val_loss: 0.2589 - val_accuracy: 0.9016\n",
            "Epoch 7/15\n",
            "197/197 [==============================] - 88s 446ms/step - loss: 0.2006 - accuracy: 0.9273 - val_loss: 0.2721 - val_accuracy: 0.9023\n",
            "Epoch 8/15\n",
            "197/197 [==============================] - 88s 446ms/step - loss: 0.1896 - accuracy: 0.9321 - val_loss: 0.3055 - val_accuracy: 0.9020\n",
            "Epoch 9/15\n",
            "197/197 [==============================] - 88s 447ms/step - loss: 0.1877 - accuracy: 0.9320 - val_loss: 0.2914 - val_accuracy: 0.9007\n",
            "Epoch 10/15\n",
            "197/197 [==============================] - 89s 453ms/step - loss: 0.1786 - accuracy: 0.9346 - val_loss: 0.3079 - val_accuracy: 0.9018\n",
            "Epoch 11/15\n",
            "197/197 [==============================] - 88s 447ms/step - loss: 0.1732 - accuracy: 0.9366 - val_loss: 0.3346 - val_accuracy: 0.8993\n",
            "Epoch 12/15\n",
            "197/197 [==============================] - 88s 446ms/step - loss: 0.1669 - accuracy: 0.9386 - val_loss: 0.3313 - val_accuracy: 0.8983\n",
            "Epoch 13/15\n",
            "197/197 [==============================] - 88s 446ms/step - loss: 0.1636 - accuracy: 0.9401 - val_loss: 0.3558 - val_accuracy: 0.8970\n",
            "Epoch 14/15\n",
            "197/197 [==============================] - 88s 446ms/step - loss: 0.1588 - accuracy: 0.9425 - val_loss: 0.3682 - val_accuracy: 0.9009\n",
            "Epoch 15/15\n",
            "197/197 [==============================] - 88s 447ms/step - loss: 0.1550 - accuracy: 0.9437 - val_loss: 0.3669 - val_accuracy: 0.8993\n",
            "394/394 [==============================] - 19s 45ms/step - loss: 0.3669 - accuracy: 0.8993\n",
            "Testing Accuracy:  0.8993\n"
          ]
        }
      ],
      "source": [
        "history = model.fit(X_train, label_train, epochs=15, verbose=True,  validation_data=(X_test, label_test),batch_size=32*strategy.num_replicas_in_sync)\n",
        "loss_val, accuracy_val = model.evaluate(X_test, label_test, verbose=True)\n",
        "print(\"Testing Accuracy:  {:.4f}\".format(accuracy_val))"
      ]
    },
    {
      "cell_type": "code",
      "execution_count": null,
      "metadata": {
        "id": "4EpY5ncoaxjr"
      },
      "outputs": [],
      "source": [
        "#model.save('BIGRU_Model.h5')"
      ]
    },
    {
      "cell_type": "code",
      "execution_count": null,
      "metadata": {
        "colab": {
          "base_uri": "https://localhost:8080/",
          "height": 490
        },
        "id": "ejvUEEWHc_Qn",
        "outputId": "c1d9dd45-dc89-4fee-b7ab-7f12e6d896c2"
      },
      "outputs": [
        {
          "name": "stdout",
          "output_type": "stream",
          "text": [
            "394/394 [==============================] - 18s 41ms/step\n"
          ]
        },
        {
          "data": {
            "image/png": "[encoded data removed]",
            "text/plain": [
              "<Figure size 640x480 with 2 Axes>"
            ]
          },
          "metadata": {},
          "output_type": "display_data"
        }
      ],
      "source": [
        "y_pred=model.predict(X_test)\n",
        "y_pred = (y_pred >= 0.5).astype(int)\n",
        "y_test_class=np.array(label_test)\n",
        "\n",
        "GRU = confusion_matrix(y_test_class,y_pred)\n",
        "sns.heatmap(GRU,annot=True,fmt = '.0f')\n",
        "plt.xlabel('prediction')\n",
        "plt.ylabel('Actual')\n",
        "plt.title(\"Bidirectional GRU\"+ ' Confusion Matrix')\n",
        "plt.show()"
      ]
    },
    {
      "cell_type": "code",
      "execution_count": null,
      "metadata": {
        "colab": {
          "base_uri": "https://localhost:8080/",
          "height": 490
        },
        "id": "60sHTCkEdIKU",
        "outputId": "92165d0d-a797-483b-a0ff-4c256c765f96"
      },
      "outputs": [
        {
          "data": {
            "text/plain": [
              "<matplotlib.legend.Legend at 0x7efe453be8e0>"
            ]
          },
          "execution_count": 40,
          "metadata": {},
          "output_type": "execute_result"
        },
        {
          "data": {
            "image/png": "[encoded data removed]",
            "text/plain": [
              "<Figure size 640x480 with 1 Axes>"
            ]
          },
          "metadata": {},
          "output_type": "display_data"
        }
      ],
      "source": [
        "accuracy = history.history['accuracy']\n",
        "val_accuracy = history.history['val_accuracy']\n",
        "loss = history.history['loss']\n",
        "val_loss = history.history['val_loss']\n",
        "\n",
        "epochs = range(1,len(accuracy) + 1)\n",
        "\n",
        "# Plot accuracy\n",
        "plt.figure(1)\n",
        "plt.plot(epochs, accuracy, 'b', label='Training accuracy')\n",
        "plt.plot(epochs, val_accuracy, 'r', label='Validation accuracy')\n",
        "plt.title('Training and validation accuracy')\n",
        "plt.xlabel('Epochs')\n",
        "plt.ylabel('Accuracy')\n",
        "plt.legend()"
      ]
    },
    {
      "cell_type": "code",
      "execution_count": null,
      "metadata": {
        "colab": {
          "base_uri": "https://localhost:8080/",
          "height": 472
        },
        "id": "d2cokFa4c_VI",
        "outputId": "acb3f5c2-6ac2-4508-d610-fb1bc1091ef7"
      },
      "outputs": [
        {
          "data": {
            "image/png": "[encoded data removed]",
            "text/plain": [
              "<Figure size 640x480 with 1 Axes>"
            ]
          },
          "metadata": {},
          "output_type": "display_data"
        }
      ],
      "source": [
        "# Plot loss\n",
        "plt.figure(2)\n",
        "plt.plot(epochs, loss, 'b', label='Training loss')\n",
        "plt.plot(epochs, val_loss, 'r', label='Validation loss')\n",
        "plt.title('Training and validation loss')\n",
        "plt.xlabel('Epochs')\n",
        "plt.ylabel('Loss')\n",
        "plt.legend()\n",
        "plt.show()"
      ]
    },
    {
      "cell_type": "markdown",
      "metadata": {
        "id": "vIuDfGGmK0Tq"
      },
      "source": [
        "## Attention Mode"
      ]
    },
    {
      "cell_type": "code",
      "execution_count": null,
      "metadata": {
        "colab": {
          "base_uri": "https://localhost:8080/"
        },
        "id": "Lgv6wbez_qKf",
        "outputId": "ff1b4715-7d4e-4aac-d4d7-edac743ed7ac"
      },
      "outputs": [
        {
          "name": "stdout",
          "output_type": "stream",
          "text": [
            "Model: \"model\"\n",
            "__________________________________________________________________________________________________\n",
            " Layer (type)                   Output Shape         Param #     Connected to                     \n",
            "==================================================================================================\n",
            " input_1 (InputLayer)           [(None, 300)]        0           []                               \n",
            "                                                                                                  \n",
            " embedding_8 (Embedding)        (None, 300, 100)     500000      ['input_1[0][0]']                \n",
            "                                                                                                  \n",
            " bidirectional_4 (Bidirectional  (None, 300, 120)    77280       ['embedding_8[0][0]']            \n",
            " )                                                                                                \n",
            "                                                                                                  \n",
            " attention_probs (Dense)        (None, 300, 60)      7260        ['bidirectional_4[0][0]']        \n",
            "                                                                                                  \n",
            " attention_mul (Dot)            (None, 60, 120)      0           ['attention_probs[0][0]',        \n",
            "                                                                  'bidirectional_4[0][0]']        \n",
            "                                                                                                  \n",
            " global_max_pooling1d_5 (Global  (None, 120)         0           ['attention_mul[0][0]']          \n",
            " MaxPooling1D)                                                                                    \n",
            "                                                                                                  \n",
            " dense_27 (Dense)               (None, 128)          15488       ['global_max_pooling1d_5[0][0]'] \n",
            "                                                                                                  \n",
            " dropout_9 (Dropout)            (None, 128)          0           ['dense_27[0][0]']               \n",
            "                                                                                                  \n",
            " dense_28 (Dense)               (None, 64)           8256        ['dropout_9[0][0]']              \n",
            "                                                                                                  \n",
            " dropout_10 (Dropout)           (None, 64)           0           ['dense_28[0][0]']               \n",
            "                                                                                                  \n",
            " dense_29 (Dense)               (None, 32)           2080        ['dropout_10[0][0]']             \n",
            "                                                                                                  \n",
            " dropout_11 (Dropout)           (None, 32)           0           ['dense_29[0][0]']               \n",
            "                                                                                                  \n",
            " dense_30 (Dense)               (None, 1)            33          ['dropout_11[0][0]']             \n",
            "                                                                                                  \n",
            "==================================================================================================\n",
            "Total params: 610,397\n",
            "Trainable params: 610,397\n",
            "Non-trainable params: 0\n",
            "__________________________________________________________________________________________________\n"
          ]
        }
      ],
      "source": [
        "from tensorflow.keras import Input, Model\n",
        "from tensorflow.keras.layers import Embedding, Bidirectional, LSTM, Dense, Dropout, Concatenate, Dot, Softmax, Reshape\n",
        "\n",
        "with strategy.scope():\n",
        "    # Define input\n",
        "    inputs = Input(shape=(300,), dtype='int32')\n",
        "    # Define embedding layer\n",
        "    embedding_layer = Embedding(input_dim=5000, output_dim=100, input_length=300)(inputs)\n",
        "    # Define first LSTM layer with bidirectional wrapper\n",
        "    lstm_layer1 = Bidirectional(LSTM(60, dropout=0.5, recurrent_dropout=0.5, return_sequences=True))(embedding_layer)\n",
        "    # Define attention mechanism\n",
        "    attention_probs = Dense(60, activation='softmax', name='attention_probs')(lstm_layer1)\n",
        "    attention_mul = Dot(name='attention_mul', axes=1)([attention_probs, lstm_layer1])\n",
        "    # Define pooling layer\n",
        "    global_pooling = layers.GlobalMaxPool1D()(attention_mul)\n",
        "    # Define dense layers with dropout\n",
        "    dense_layer1 = Dense(128, activation='relu')(global_pooling)\n",
        "    dropout_layer1 = Dropout(0.5)(dense_layer1)\n",
        "    dense_layer2 = Dense(64, activation='relu')(dropout_layer1)\n",
        "    dropout_layer2 = Dropout(0.5)(dense_layer2)\n",
        "    dense_layer3 = Dense(32, activation='relu')(dropout_layer2)\n",
        "    dropout_layer3 = Dropout(0.5)(dense_layer3)\n",
        "    # Define output layer\n",
        "    outputs = Dense(1, activation='sigmoid')(dropout_layer3)\n",
        "    # Define model\n",
        "    model5 = Model(inputs=inputs, outputs=outputs)\n",
        "    model5.compile(optimizer='adam', loss='binary_crossentropy', metrics=['accuracy'])\n",
        "\n",
        "model5.summary()\n"
      ]
    },
    {
      "cell_type": "code",
      "execution_count": null,
      "metadata": {
        "colab": {
          "base_uri": "https://localhost:8080/"
        },
        "id": "fOsrCkFC_3lM",
        "outputId": "ad008158-45d5-4827-a842-150f4779bb8b"
      },
      "outputs": [
        {
          "name": "stdout",
          "output_type": "stream",
          "text": [
            "Epoch 1/30\n",
            "99/99 [==============================] - 47s 327ms/step - loss: 0.6941 - accuracy: 0.5006 - val_loss: 0.6929 - val_accuracy: 0.5043\n",
            "Epoch 2/30\n",
            "99/99 [==============================] - 21s 208ms/step - loss: 0.6295 - accuracy: 0.6168 - val_loss: 0.4301 - val_accuracy: 0.8295\n",
            "Epoch 3/30\n",
            "99/99 [==============================] - 21s 209ms/step - loss: 0.3344 - accuracy: 0.8822 - val_loss: 0.2800 - val_accuracy: 0.8969\n",
            "Epoch 4/30\n",
            "99/99 [==============================] - 21s 208ms/step - loss: 0.2793 - accuracy: 0.9015 - val_loss: 0.2974 - val_accuracy: 0.8872\n",
            "Epoch 5/30\n",
            "99/99 [==============================] - 21s 208ms/step - loss: 0.2624 - accuracy: 0.9040 - val_loss: 0.2877 - val_accuracy: 0.8929\n",
            "Epoch 6/30\n",
            "99/99 [==============================] - 21s 208ms/step - loss: 0.2420 - accuracy: 0.9103 - val_loss: 0.2764 - val_accuracy: 0.9020\n",
            "Epoch 7/30\n",
            "99/99 [==============================] - 21s 208ms/step - loss: 0.2296 - accuracy: 0.9138 - val_loss: 0.2819 - val_accuracy: 0.9013\n",
            "Epoch 8/30\n",
            "99/99 [==============================] - 21s 209ms/step - loss: 0.2193 - accuracy: 0.9167 - val_loss: 0.2954 - val_accuracy: 0.9022\n",
            "Epoch 9/30\n",
            "99/99 [==============================] - 21s 217ms/step - loss: 0.2101 - accuracy: 0.9208 - val_loss: 0.3085 - val_accuracy: 0.9004\n",
            "Epoch 10/30\n",
            "99/99 [==============================] - 21s 209ms/step - loss: 0.2038 - accuracy: 0.9222 - val_loss: 0.3035 - val_accuracy: 0.8990\n",
            "Epoch 11/30\n",
            "99/99 [==============================] - 21s 208ms/step - loss: 0.1961 - accuracy: 0.9253 - val_loss: 0.3535 - val_accuracy: 0.8994\n",
            "Epoch 12/30\n",
            "99/99 [==============================] - 21s 208ms/step - loss: 0.1928 - accuracy: 0.9265 - val_loss: 0.3366 - val_accuracy: 0.8985\n",
            "Epoch 13/30\n",
            "99/99 [==============================] - 21s 209ms/step - loss: 0.1868 - accuracy: 0.9274 - val_loss: 0.3727 - val_accuracy: 0.8954\n",
            "Epoch 14/30\n",
            "99/99 [==============================] - 21s 208ms/step - loss: 0.1827 - accuracy: 0.9293 - val_loss: 0.3603 - val_accuracy: 0.8931\n",
            "Epoch 15/30\n",
            "99/99 [==============================] - 21s 209ms/step - loss: 0.1779 - accuracy: 0.9324 - val_loss: 0.3756 - val_accuracy: 0.8979\n",
            "Epoch 16/30\n",
            "99/99 [==============================] - 21s 207ms/step - loss: 0.1748 - accuracy: 0.9326 - val_loss: 0.3850 - val_accuracy: 0.8961\n",
            "Epoch 17/30\n",
            "99/99 [==============================] - 21s 208ms/step - loss: 0.1705 - accuracy: 0.9357 - val_loss: 0.4068 - val_accuracy: 0.8933\n",
            "Epoch 18/30\n",
            "99/99 [==============================] - 21s 208ms/step - loss: 0.1679 - accuracy: 0.9366 - val_loss: 0.4036 - val_accuracy: 0.8981\n",
            "Epoch 19/30\n",
            "99/99 [==============================] - 21s 209ms/step - loss: 0.1650 - accuracy: 0.9372 - val_loss: 0.4662 - val_accuracy: 0.8953\n",
            "Epoch 20/30\n",
            "99/99 [==============================] - 21s 210ms/step - loss: 0.1604 - accuracy: 0.9397 - val_loss: 0.4502 - val_accuracy: 0.8926\n",
            "Epoch 21/30\n",
            "99/99 [==============================] - 21s 209ms/step - loss: 0.1577 - accuracy: 0.9405 - val_loss: 0.4927 - val_accuracy: 0.8959\n",
            "Epoch 22/30\n",
            "99/99 [==============================] - 21s 209ms/step - loss: 0.1584 - accuracy: 0.9414 - val_loss: 0.4665 - val_accuracy: 0.8950\n",
            "Epoch 23/30\n",
            "99/99 [==============================] - 21s 208ms/step - loss: 0.1550 - accuracy: 0.9416 - val_loss: 0.5295 - val_accuracy: 0.8933\n",
            "Epoch 24/30\n",
            "99/99 [==============================] - 21s 209ms/step - loss: 0.1493 - accuracy: 0.9427 - val_loss: 0.5214 - val_accuracy: 0.8935\n",
            "Epoch 25/30\n",
            "99/99 [==============================] - 21s 210ms/step - loss: 0.1471 - accuracy: 0.9442 - val_loss: 0.5121 - val_accuracy: 0.8973\n",
            "Epoch 26/30\n",
            "99/99 [==============================] - 21s 208ms/step - loss: 0.1485 - accuracy: 0.9454 - val_loss: 0.5060 - val_accuracy: 0.8943\n",
            "Epoch 27/30\n",
            "99/99 [==============================] - 21s 211ms/step - loss: 0.1420 - accuracy: 0.9465 - val_loss: 0.5868 - val_accuracy: 0.8947\n",
            "Epoch 28/30\n",
            "99/99 [==============================] - 21s 209ms/step - loss: 0.1416 - accuracy: 0.9467 - val_loss: 0.5951 - val_accuracy: 0.8954\n",
            "Epoch 29/30\n",
            "99/99 [==============================] - 21s 208ms/step - loss: 0.1404 - accuracy: 0.9466 - val_loss: 0.5636 - val_accuracy: 0.8933\n",
            "Epoch 30/30\n",
            "99/99 [==============================] - 21s 209ms/step - loss: 0.1391 - accuracy: 0.9474 - val_loss: 0.5701 - val_accuracy: 0.8919\n",
            "394/394 [==============================] - 14s 32ms/step - loss: 0.5701 - accuracy: 0.8919\n",
            "Testing Accuracy:  0.8919\n"
          ]
        }
      ],
      "source": [
        "history5 = model5.fit(X_train, label_train, epochs=30, verbose=True,  validation_data=(X_test, label_test),batch_size=64*strategy.num_replicas_in_sync)\n",
        "loss_val, accuracy_val = model5.evaluate(X_test, label_test, verbose=True)\n",
        "print(\"Testing Accuracy:  {:.4f}\".format(accuracy_val))"
      ]
    }
  ],
  "metadata": {
    "accelerator": "TPU",
    "colab": {
      "provenance": []
    },
    "gpuClass": "standard",
    "kernelspec": {
      "display_name": "Python 3 (ipykernel)",
      "language": "python",
      "name": "python3"
    },
    "language_info": {
      "codemirror_mode": {
        "name": "ipython",
        "version": 3
      },
      "file_extension": ".py",
      "mimetype": "text/x-python",
      "name": "python",
      "nbconvert_exporter": "python",
      "pygments_lexer": "ipython3",
      "version": "3.9.16"
    }
  },
  "nbformat": 4,
  "nbformat_minor": 0
}